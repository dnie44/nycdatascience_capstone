{
 "cells": [
  {
   "cell_type": "markdown",
   "id": "59d2cb47",
   "metadata": {},
   "source": [
    "# 🌰 Base Model with only House data and ZipCodes"
   ]
  },
  {
   "cell_type": "code",
   "execution_count": 1,
   "id": "f06a960b",
   "metadata": {},
   "outputs": [],
   "source": [
    "import pandas as pd\n",
    "import numpy as np\n",
    "import matplotlib.pyplot as plt\n",
    "import seaborn as sns\n",
    "from geopy.distance import geodesic\n",
    "\n",
    "from sklearn.linear_model import LinearRegression\n",
    "from sklearn.model_selection import train_test_split\n",
    "from sklearn.preprocessing import LabelEncoder\n",
    "from catboost import CatBoostRegressor\n",
    "\n",
    "from helper_funcs import *"
   ]
  },
  {
   "cell_type": "code",
   "execution_count": 2,
   "id": "acf94b1a",
   "metadata": {},
   "outputs": [
    {
     "name": "stdout",
     "output_type": "stream",
     "text": [
      "----pulling Redfin data from Azure storage----\n",
      "----Done----\n",
      "----pulling schools data from Azure storage----\n",
      "----Done----\n",
      "----merging all data----\n",
      "----Done----\n",
      "Shape: (75360, 22)\n"
     ]
    }
   ],
   "source": [
    "RF = get_all()"
   ]
  },
  {
   "cell_type": "code",
   "execution_count": 3,
   "id": "a313decf",
   "metadata": {},
   "outputs": [
    {
     "data": {
      "text/plain": [
       "Single Family Residential    50143\n",
       "Condo/Co-op                  16190\n",
       "Townhouse                     7551\n",
       "Multi-Family (2-4 Unit)       1227\n",
       "Ranch                          190\n",
       "Multi-Family (5+ Unit)          59\n",
       "Name: Prop_Type, dtype: int64"
      ]
     },
     "execution_count": 3,
     "metadata": {},
     "output_type": "execute_result"
    }
   ],
   "source": [
    "RF.Prop_Type.value_counts()"
   ]
  },
  {
   "cell_type": "code",
   "execution_count": 4,
   "id": "0aacd664",
   "metadata": {},
   "outputs": [],
   "source": [
    "RF.drop(RF[RF.BEDS.isna() | RF.BATHS.isna()].index, inplace=True)\n",
    "RF.loc[RF.overallRating.isna(),'overallRating'] = 5"
   ]
  },
  {
   "cell_type": "markdown",
   "id": "21e02035",
   "metadata": {},
   "source": [
    "#### For the model to work, we need to incorporate all ZIP codes into both X_train and X_test\n",
    "* A 0.25 test ratio will be used, so first eliminate all ZIP codes with less than FOUR houses\n",
    "* Then do train_test_split for every set of ZIPcodes"
   ]
  },
  {
   "cell_type": "code",
   "execution_count": 8,
   "id": "53b46a87",
   "metadata": {},
   "outputs": [],
   "source": [
    "#pd.set_option('display.max_rows', None)\n",
    "zip_houses = RF.groupby('zip').agg('count')['PRICE'].to_dict()"
   ]
  },
  {
   "cell_type": "code",
   "execution_count": 12,
   "id": "13d71108",
   "metadata": {},
   "outputs": [],
   "source": [
    "RF['houses_perZIP'] = RF.zip.apply(lambda r: zip_houses[r])"
   ]
  },
  {
   "cell_type": "code",
   "execution_count": 16,
   "id": "90b42a95",
   "metadata": {},
   "outputs": [],
   "source": [
    "RF = RF[RF.houses_perZIP>4]"
   ]
  },
  {
   "cell_type": "code",
   "execution_count": 26,
   "id": "ec87ddd7",
   "metadata": {},
   "outputs": [],
   "source": [
    "# Use groupby to split the df into smaller dfs for each ZIP\n",
    "groups = RF.groupby('zip')\n",
    "dfs = [groups.get_group(x) for x in groups.groups]"
   ]
  },
  {
   "cell_type": "code",
   "execution_count": 85,
   "id": "8a021c7e",
   "metadata": {},
   "outputs": [],
   "source": [
    "# Use first df to initiate X_train, X_test, etc\n",
    "for d in dfs[:1]:\n",
    "    feat = d[['Prop_Type','BEDS','BATHS','SF','Lot_Size','YearBuilt','zip']]\n",
    "    feat.zip = feat.zip.astype('object')\n",
    "    y = np.log10(d.PRICE)\n",
    "    X_train, X_test, y_train, y_test = train_test_split(feat, y)"
   ]
  },
  {
   "cell_type": "code",
   "execution_count": 86,
   "id": "a3d86e68",
   "metadata": {},
   "outputs": [],
   "source": [
    "# train_test_split each df then stack together\n",
    "for d in dfs[1:]:\n",
    "    feat = d[['Prop_Type','BEDS','BATHS','SF','Lot_Size','YearBuilt','zip']]\n",
    "    feat.zip = feat.zip.astype('object')\n",
    "    y = np.log10(d.PRICE)\n",
    "    X_trainpiece, X_testpiece, y_trainpiece, y_testpiece = train_test_split(feat, y, test_size=0.25)\n",
    "    X_train = X_train.append(X_trainpiece)\n",
    "    X_test = X_test.append(X_testpiece)\n",
    "    y_train = y_train.append(y_trainpiece)\n",
    "    y_test = y_test.append(y_testpiece)"
   ]
  },
  {
   "cell_type": "code",
   "execution_count": 80,
   "id": "fa4b2554",
   "metadata": {},
   "outputs": [
    {
     "name": "stdout",
     "output_type": "stream",
     "text": [
      "X_train rows: (54839, 7)\n",
      "X_test rows: (19199, 7)\n"
     ]
    }
   ],
   "source": [
    "# Check rows\n",
    "print(f'X_train rows: {X_train.shape}')\n",
    "print(f'X_test rows: {X_test.shape}')"
   ]
  },
  {
   "cell_type": "code",
   "execution_count": 81,
   "id": "34e70ce0",
   "metadata": {},
   "outputs": [],
   "source": [
    "X_train = pd.get_dummies(X_train, drop_first=True)\n",
    "X_test = pd.get_dummies(X_test, drop_first=True)"
   ]
  },
  {
   "cell_type": "code",
   "execution_count": 82,
   "id": "b213639b",
   "metadata": {},
   "outputs": [
    {
     "name": "stdout",
     "output_type": "stream",
     "text": [
      "train R2: 0.7523405437871363\n",
      "train R2: 0.7332501096474893\n"
     ]
    }
   ],
   "source": [
    "lm = LinearRegression()\n",
    "lm.fit(X_train, y_train)\n",
    "print(f'train R2: {lm.score(X_train, y_train)}')\n",
    "print(f'train R2: {lm.score(X_test, y_test)}')"
   ]
  },
  {
   "cell_type": "markdown",
   "id": "f1de37a4",
   "metadata": {},
   "source": [
    "## 🐱 Try CatBoost\n",
    "* Label Encode **Prop_Type & zip**"
   ]
  },
  {
   "cell_type": "code",
   "execution_count": 87,
   "id": "9163880a",
   "metadata": {},
   "outputs": [],
   "source": [
    "X_train_le = X_train.copy()\n",
    "X_test_le = X_test.copy()\n",
    "\n",
    "le = LabelEncoder()\n",
    "X_train_le.Prop_Type = le.fit_transform(X_train_le.Prop_Type)\n",
    "X_test_le.Prop_Type = le.fit_transform(X_test_le.Prop_Type)\n",
    "X_train_le.zip = le.fit_transform(X_train_le.zip)\n",
    "X_test_le.zip = le.fit_transform(X_test_le.zip)"
   ]
  },
  {
   "cell_type": "code",
   "execution_count": 89,
   "id": "ba36ea3a",
   "metadata": {},
   "outputs": [
    {
     "data": {
      "text/plain": [
       "{'loss_function': 'RMSE', 'verbose': False}"
      ]
     },
     "execution_count": 89,
     "metadata": {},
     "output_type": "execute_result"
    }
   ],
   "source": [
    "cat = CatBoostRegressor(verbose=False)\n",
    "cat.get_params()"
   ]
  },
  {
   "cell_type": "code",
   "execution_count": 90,
   "id": "50fab665",
   "metadata": {},
   "outputs": [
    {
     "name": "stdout",
     "output_type": "stream",
     "text": [
      "Train R2: 0.8161256670954876\n",
      "Test R2: 0.7904923768338273\n"
     ]
    }
   ],
   "source": [
    "cat.fit(X_train_le, y_train)\n",
    "print(f'Train R2: {cat.score(X_train_le, y_train)}')\n",
    "print(f'Test R2: {cat.score(X_test_le, y_test)}')"
   ]
  },
  {
   "cell_type": "code",
   "execution_count": null,
   "id": "ded3e25b",
   "metadata": {},
   "outputs": [],
   "source": []
  }
 ],
 "metadata": {
  "kernelspec": {
   "display_name": "Python 3",
   "language": "python",
   "name": "python3"
  },
  "language_info": {
   "codemirror_mode": {
    "name": "ipython",
    "version": 3
   },
   "file_extension": ".py",
   "mimetype": "text/x-python",
   "name": "python",
   "nbconvert_exporter": "python",
   "pygments_lexer": "ipython3",
   "version": "3.8.8"
  }
 },
 "nbformat": 4,
 "nbformat_minor": 5
}
