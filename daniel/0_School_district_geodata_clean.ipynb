{
 "cells": [
  {
   "cell_type": "markdown",
   "id": "4ee8f801",
   "metadata": {},
   "source": [
    "### We only want to keep target states\n",
    "FL    12<br>\n",
    "VA    51<br>\n",
    "NC    37<br>\n",
    "GA    13<br>\n",
    "WV    54<br>\n",
    "MD    24<br>\n",
    "SC    45<br>\n",
    "DC    11<br>"
   ]
  },
  {
   "cell_type": "code",
   "execution_count": 1,
   "id": "304c3f5d",
   "metadata": {},
   "outputs": [],
   "source": [
    "import json\n",
    "with open('C:/Users/dn-83/Documents/bootcamp/capstone_proj/_data/all_schools_geo.json') as f2:\n",
    "    schools_geodata = json.load(f2)"
   ]
  },
  {
   "cell_type": "code",
   "execution_count": 13,
   "id": "9f4eefbc",
   "metadata": {},
   "outputs": [],
   "source": [
    "to_keep = [11, 12, 13, 24, 37, 45, 51, 54]\n",
    "\n",
    "new_geodata = {'type': 'FeatureCollection'}\n",
    "keep_features = []\n",
    "\n",
    "for each in schools_geodata['features']:\n",
    "    #print(type(each['properties']['STATEFP']))\n",
    "    if int(each['properties']['STATEFP']) in to_keep:\n",
    "        keep_features.append(each)\n",
    "        \n",
    "new_geodata['features'] = keep_features"
   ]
  },
  {
   "cell_type": "code",
   "execution_count": 14,
   "id": "33e4f3d0",
   "metadata": {},
   "outputs": [
    {
     "data": {
      "text/plain": [
       "10867"
      ]
     },
     "execution_count": 14,
     "metadata": {},
     "output_type": "execute_result"
    }
   ],
   "source": [
    "len(schools_geodata['features'])"
   ]
  },
  {
   "cell_type": "code",
   "execution_count": 15,
   "id": "53961a1a",
   "metadata": {},
   "outputs": [
    {
     "data": {
      "text/plain": [
       "662"
      ]
     },
     "execution_count": 15,
     "metadata": {},
     "output_type": "execute_result"
    }
   ],
   "source": [
    "len(new_geodata['features'])"
   ]
  },
  {
   "cell_type": "code",
   "execution_count": 18,
   "id": "81eaec28",
   "metadata": {},
   "outputs": [],
   "source": [
    "f = open(\"C:/Users/dn-83/Documents/bootcamp/capstone_proj/_data/school_district_geo.json\", \"w\")\n",
    "\n",
    "new_geodata = json.dump(new_geodata, f)\n",
    "f.close()"
   ]
  },
  {
   "cell_type": "code",
   "execution_count": null,
   "id": "19620f76",
   "metadata": {},
   "outputs": [],
   "source": []
  }
 ],
 "metadata": {
  "kernelspec": {
   "display_name": "Python 3",
   "language": "python",
   "name": "python3"
  },
  "language_info": {
   "codemirror_mode": {
    "name": "ipython",
    "version": 3
   },
   "file_extension": ".py",
   "mimetype": "text/x-python",
   "name": "python",
   "nbconvert_exporter": "python",
   "pygments_lexer": "ipython3",
   "version": "3.8.8"
  }
 },
 "nbformat": 4,
 "nbformat_minor": 5
}
