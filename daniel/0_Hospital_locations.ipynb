{
 "cells": [
  {
   "cell_type": "code",
   "execution_count": 449,
   "id": "1f0d44db",
   "metadata": {},
   "outputs": [],
   "source": [
    "import pandas as pd\n",
    "import numpy as np"
   ]
  },
  {
   "cell_type": "code",
   "execution_count": 511,
   "id": "aada95a6",
   "metadata": {},
   "outputs": [],
   "source": [
    "hosp = pd.read_csv('Hospitals_geocoded.csv')"
   ]
  },
  {
   "cell_type": "markdown",
   "id": "da6d926e",
   "metadata": {},
   "source": [
    "#### Section Used to Manually Obtain Latitude and Longitude for Hospitals\n",
    "* no longer need to be run\n",
    "---------------------------------------------------------------------------"
   ]
  },
  {
   "cell_type": "code",
   "execution_count": 22,
   "id": "8602e41c",
   "metadata": {},
   "outputs": [],
   "source": [
    "# hosp_missing = hosp[hosp.latitude.isna()][['Facility Name','Address','City']].reset_index().copy()\n",
    "# hosp_missing['latitude'] = [np.NaN for n in range(hosp_missing.shape[0])]\n",
    "# hosp_missing['longitude'] = [np.NaN for n in range(hosp_missing.shape[0])]\n",
    "\n",
    "# hosp_missing = pd.read_csv('temp_latlong_filling.csv', index_col='Facility ID')\n",
    "# missing = hosp_missing['Facility Name']+', '+hosp_missing.Address+', '+hosp_missing.City+', USA'"
   ]
  },
  {
   "cell_type": "code",
   "execution_count": 4,
   "id": "291e85ba",
   "metadata": {},
   "outputs": [],
   "source": [
    "# import geopy\n",
    "# from geopy import Nominatim\n",
    "\n",
    "# locator = Nominatim(user_agent=\"nycDSA\")"
   ]
  },
  {
   "cell_type": "code",
   "execution_count": 420,
   "id": "3f04ab3e",
   "metadata": {},
   "outputs": [
    {
     "data": {
      "text/plain": [
       "'William R Sharpe, Jr Hospital, 936 SHARPE HOSPITAL ROAD, WESTON, USA'"
      ]
     },
     "execution_count": 420,
     "metadata": {},
     "output_type": "execute_result"
    }
   ],
   "source": [
    "# current = 88\n",
    "# missing[current]"
   ]
  },
  {
   "cell_type": "code",
   "execution_count": 422,
   "id": "2477532f",
   "metadata": {},
   "outputs": [
    {
     "name": "stdout",
     "output_type": "stream",
     "text": [
      "39.0408843, -80.4961853\n"
     ]
    }
   ],
   "source": [
    "# lat = locator.geocode(\"William R. Sharpe Hospital, WESTON, USA\")[1][0]\n",
    "# long = locator.geocode(\"William R. Sharpe Hospital, WESTON, USA\")[1][1]\n",
    "# print(f'{lat}, {long}')"
   ]
  },
  {
   "cell_type": "code",
   "execution_count": 423,
   "id": "a6ede18a",
   "metadata": {},
   "outputs": [],
   "source": [
    "# hosp_missing.loc[current,'latitude'] = lat\n",
    "# hosp_missing.loc[current,'longitude'] = long"
   ]
  },
  {
   "cell_type": "code",
   "execution_count": 424,
   "id": "b1e52a0a",
   "metadata": {},
   "outputs": [
    {
     "data": {
      "text/html": [
       "<div>\n",
       "<style scoped>\n",
       "    .dataframe tbody tr th:only-of-type {\n",
       "        vertical-align: middle;\n",
       "    }\n",
       "\n",
       "    .dataframe tbody tr th {\n",
       "        vertical-align: top;\n",
       "    }\n",
       "\n",
       "    .dataframe thead th {\n",
       "        text-align: right;\n",
       "    }\n",
       "</style>\n",
       "<table border=\"1\" class=\"dataframe\">\n",
       "  <thead>\n",
       "    <tr style=\"text-align: right;\">\n",
       "      <th></th>\n",
       "      <th>Facility ID</th>\n",
       "      <th>Facility Name</th>\n",
       "      <th>Address</th>\n",
       "      <th>City</th>\n",
       "      <th>latitude</th>\n",
       "      <th>longitude</th>\n",
       "    </tr>\n",
       "  </thead>\n",
       "  <tbody>\n",
       "    <tr>\n",
       "      <th>88</th>\n",
       "      <td>514012</td>\n",
       "      <td>William R Sharpe, Jr Hospital</td>\n",
       "      <td>936 SHARPE HOSPITAL ROAD</td>\n",
       "      <td>WESTON</td>\n",
       "      <td>39.040884</td>\n",
       "      <td>-80.496185</td>\n",
       "    </tr>\n",
       "  </tbody>\n",
       "</table>\n",
       "</div>"
      ],
      "text/plain": [
       "   Facility ID                  Facility Name                   Address  \\\n",
       "88      514012  William R Sharpe, Jr Hospital  936 SHARPE HOSPITAL ROAD   \n",
       "\n",
       "      City   latitude  longitude  \n",
       "88  WESTON  39.040884 -80.496185  "
      ]
     },
     "execution_count": 424,
     "metadata": {},
     "output_type": "execute_result"
    }
   ],
   "source": [
    "# hosp_missing.loc[[current]]"
   ]
  },
  {
   "cell_type": "markdown",
   "id": "e0c3c505",
   "metadata": {},
   "source": [
    "\n",
    "---------------------------------------------------------------------------"
   ]
  },
  {
   "cell_type": "markdown",
   "id": "01b91326",
   "metadata": {},
   "source": [
    "## 🏥 Quick EDA"
   ]
  },
  {
   "cell_type": "code",
   "execution_count": 512,
   "id": "7b372f17",
   "metadata": {},
   "outputs": [
    {
     "data": {
      "text/plain": [
       "Index(['Facility_Name', 'Address', 'City', 'State', 'ZIP_Code', 'County_Name',\n",
       "       'Phone_Number', 'Hospital_Type', 'Hospital_Ownership',\n",
       "       'Emergency_Services', 'Overall_Rating'],\n",
       "      dtype='object')"
      ]
     },
     "execution_count": 512,
     "metadata": {},
     "output_type": "execute_result"
    }
   ],
   "source": [
    "hosp.columns"
   ]
  },
  {
   "cell_type": "code",
   "execution_count": 513,
   "id": "fbd2f616",
   "metadata": {},
   "outputs": [
    {
     "name": "stdout",
     "output_type": "stream",
     "text": [
      "-----------------------------------\n",
      "Acute Care Hospitals                  553\n",
      "Critical Access Hospitals              92\n",
      "Psychiatric                            83\n",
      "Acute Care - Department of Defense     12\n",
      "Childrens                              11\n",
      "Name: Hospital_Type, dtype: int64\n",
      "\n",
      "\n",
      "-----------------------------------\n",
      "Yes    640\n",
      "No     111\n",
      "Name: Emergency_Services, dtype: int64\n",
      "\n",
      "\n"
     ]
    }
   ],
   "source": [
    "print('-----------------------------------')\n",
    "print(hosp.Hospital_Type.value_counts())\n",
    "print('\\n')\n",
    "print('-----------------------------------')\n",
    "print(hosp.Emergency_Services.value_counts())\n",
    "print('\\n')"
   ]
  },
  {
   "cell_type": "markdown",
   "id": "e9afe763",
   "metadata": {},
   "source": [
    "#### Remove <span style=\"color:darkred\">Psychiatric</span> & <span style=\"color:red\">non-ER</span> Hospitals"
   ]
  },
  {
   "cell_type": "code",
   "execution_count": 514,
   "id": "f8732e97",
   "metadata": {},
   "outputs": [],
   "source": [
    "hosp = hosp[(hosp.Hospital_Type!='Psychiatric') & (hosp.Emergency_Services=='Yes')]"
   ]
  },
  {
   "cell_type": "code",
   "execution_count": 517,
   "id": "679c4ca5",
   "metadata": {},
   "outputs": [
    {
     "name": "stdout",
     "output_type": "stream",
     "text": [
      "-----------------------------------\n",
      "Total ZIP codes: 611\n",
      "\n",
      "\n",
      "-----------------------------------\n",
      "# Hospitals by State\n",
      "FL    170\n",
      "GA    126\n",
      "NC    103\n",
      "VA     80\n",
      "SC     55\n",
      "WV     46\n",
      "MD     43\n",
      "DC      6\n",
      "Name: State, dtype: int64\n",
      "\n",
      "\n",
      "-----------------------------------\n",
      "3                175\n",
      "4                139\n",
      "2                136\n",
      "Not Available     94\n",
      "5                 52\n",
      "1                 33\n",
      "Name: Overall_Rating, dtype: int64\n"
     ]
    }
   ],
   "source": [
    "print('-----------------------------------')\n",
    "print(f'Total ZIP codes: {hosp.ZIP_Code.nunique()}')\n",
    "print('\\n')\n",
    "print('-----------------------------------')\n",
    "print('# Hospitals by State')\n",
    "print(hosp.State.value_counts())\n",
    "print('\\n')\n",
    "print('-----------------------------------')\n",
    "print(hosp.Overall_Rating.value_counts())"
   ]
  },
  {
   "cell_type": "markdown",
   "id": "a76190db",
   "metadata": {},
   "source": [
    "## Stanley Martin Homes Target ZIP codes and STATES"
   ]
  },
  {
   "cell_type": "code",
   "execution_count": 522,
   "id": "fb465088",
   "metadata": {},
   "outputs": [
    {
     "data": {
      "text/plain": [
       "FL    1464\n",
       "VA    1213\n",
       "NC    1079\n",
       "GA     950\n",
       "WV     851\n",
       "MD     603\n",
       "SC     534\n",
       "DC     293\n",
       "Name: State, dtype: int64"
      ]
     },
     "execution_count": 522,
     "metadata": {},
     "output_type": "execute_result"
    }
   ],
   "source": [
    "smh = pd.read_csv('redfin_scrapy/smh_zipcodes.csv', index_col='ZipCode')\n",
    "smh.State.value_counts()"
   ]
  },
  {
   "cell_type": "code",
   "execution_count": null,
   "id": "2946a082",
   "metadata": {},
   "outputs": [],
   "source": []
  }
 ],
 "metadata": {
  "kernelspec": {
   "display_name": "Python 3",
   "language": "python",
   "name": "python3"
  },
  "language_info": {
   "codemirror_mode": {
    "name": "ipython",
    "version": 3
   },
   "file_extension": ".py",
   "mimetype": "text/x-python",
   "name": "python",
   "nbconvert_exporter": "python",
   "pygments_lexer": "ipython3",
   "version": "3.8.8"
  }
 },
 "nbformat": 4,
 "nbformat_minor": 5
}
