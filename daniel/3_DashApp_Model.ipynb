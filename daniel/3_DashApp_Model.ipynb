{
 "cells": [
  {
   "cell_type": "code",
   "execution_count": 1,
   "id": "fb1b23ae",
   "metadata": {},
   "outputs": [],
   "source": [
    "import pandas as pd\n",
    "import numpy as np\n",
    "\n",
    "import seaborn as sns\n",
    "import matplotlib.pyplot as plt\n",
    "%matplotlib inline \n",
    "\n",
    "from sklearn.decomposition import PCA\n",
    "from sklearn.preprocessing import MinMaxScaler\n",
    "from sklearn.model_selection import train_test_split\n",
    "from sklearn.preprocessing import LabelEncoder\n",
    "from catboost import CatBoostRegressor\n",
    "from sklearn.metrics import mean_squared_error\n",
    "\n",
    "from helper_funcs import *"
   ]
  },
  {
   "cell_type": "code",
   "execution_count": 2,
   "id": "e672d4b4",
   "metadata": {},
   "outputs": [
    {
     "name": "stdout",
     "output_type": "stream",
     "text": [
      "----pulling ZipCode data from Azure storage----\n",
      "----Done----\n"
     ]
    },
    {
     "data": {
      "text/plain": [
       "(6987, 20)"
      ]
     },
     "execution_count": 2,
     "metadata": {},
     "output_type": "execute_result"
    }
   ],
   "source": [
    "zipdata = get_modelzip()\n",
    "zipdata.shape"
   ]
  },
  {
   "cell_type": "code",
   "execution_count": 3,
   "id": "65e5f8c0",
   "metadata": {},
   "outputs": [
    {
     "data": {
      "text/plain": [
       "Population              0\n",
       "Blacks_ratio            0\n",
       "Hispanics_ratio         0\n",
       "Asians_ratio            0\n",
       "Indians_ratio           0\n",
       "Others_ratio            0\n",
       "Male_ratio              0\n",
       "HouseholdsPerZipCode    0\n",
       "MedianAge               0\n",
       "school_rating           0\n",
       "over_65_ratio           0\n",
       "IncomePerHousehold      0\n",
       "NumberOfBusinesses      0\n",
       "UE_rate                 0\n",
       "HPI                     0\n",
       "Demand_score            0\n",
       "Supply_score            0\n",
       "listviews_vs_US         0\n",
       "med_days_on_mkt         0\n",
       "nielson_rank            0\n",
       "dtype: int64"
      ]
     },
     "execution_count": 3,
     "metadata": {},
     "output_type": "execute_result"
    }
   ],
   "source": [
    "zipdata.isna().sum()"
   ]
  },
  {
   "cell_type": "code",
   "execution_count": 4,
   "id": "104c67c2",
   "metadata": {},
   "outputs": [],
   "source": [
    "mms = MinMaxScaler()\n",
    "# REMOVE AverageHouseValue\n",
    "data_scaled = pd.DataFrame(mms.fit_transform(zipdata.values), \n",
    "                           columns=zipdata.columns, \n",
    "                           index=zipdata.index)"
   ]
  },
  {
   "cell_type": "code",
   "execution_count": 9,
   "id": "d4c2b768",
   "metadata": {},
   "outputs": [
    {
     "name": "stdout",
     "output_type": "stream",
     "text": [
      "population PCA explained: [0.464 0.174 0.104 0.057 0.046 0.041]\n",
      "number of PCA columns: 6\n"
     ]
    }
   ],
   "source": [
    "pca = PCA(n_components=0.85)\n",
    "pca.fit(data_scaled)\n",
    "print(f'population PCA explained: {np.round(pca.explained_variance_ratio_,3)}')\n",
    "print(f'number of PCA columns: {len(pca.explained_variance_ratio_)}')\n",
    "all_PCAs = pd.DataFrame(pca.fit_transform(data_scaled), \n",
    "                        columns=['PCA_'+str(n) for n in range(len(pca.explained_variance_ratio_))], \n",
    "                        index=zipdata.index)\n",
    "all_PCAs = all_PCAs.merge(zipdata, how = 'left', left_index=True, right_index=True)"
   ]
  },
  {
   "cell_type": "code",
   "execution_count": 10,
   "id": "4770b07f",
   "metadata": {},
   "outputs": [
    {
     "name": "stdout",
     "output_type": "stream",
     "text": [
      "----pulling Redfin data from Azure storage----\n",
      "----Done----\n",
      "(74717, 21)\n"
     ]
    }
   ],
   "source": [
    "RF = get_redfin_csv()\n",
    "print(RF.shape)"
   ]
  },
  {
   "cell_type": "code",
   "execution_count": 11,
   "id": "699c2ed4",
   "metadata": {},
   "outputs": [],
   "source": [
    "RF = RF.merge(all_PCAs, how = 'left', left_on = 'zip', right_index=True)"
   ]
  },
  {
   "cell_type": "code",
   "execution_count": 12,
   "id": "5f1ac2a2",
   "metadata": {},
   "outputs": [
    {
     "name": "stdout",
     "output_type": "stream",
     "text": [
      "X_train rows: (54473, 13)\n",
      "X_test rows: (19083, 13)\n"
     ]
    }
   ],
   "source": [
    "#pd.set_option('display.max_rows', None)\n",
    "zip_houses = RF.groupby('zip').agg('count')['PRICE'].to_dict()\n",
    "RF['houses_perZIP'] = RF.zip.apply(lambda r: zip_houses[r])\n",
    "RF = RF[RF.houses_perZIP>4]\n",
    "# Use groupby to split the df into smaller dfs for each ZIP\n",
    "groups = RF.groupby('zip')\n",
    "dfs = [groups.get_group(x) for x in groups.groups]\n",
    "# Use first df to initiate X_train, X_test, etc\n",
    "for d in dfs[:1]:\n",
    "    feat = d[['Prop_Type','BEDS','BATHS','SF','Lot_Size','YearBuilt','zip',\n",
    "              'PCA_0', 'PCA_1', 'PCA_2', 'PCA_3','PCA_4', 'school_rating']]\n",
    "    feat.zip = feat.zip.astype('object')\n",
    "    y = np.log10(d.PRICE)\n",
    "    X_train, X_test, y_train, y_test = train_test_split(feat, y, test_size=0.25)\n",
    "# train_test_split each df then stack together\n",
    "for d in dfs[1:]:\n",
    "    feat = d[['Prop_Type','BEDS','BATHS','SF','Lot_Size','YearBuilt','zip',\n",
    "              'PCA_0', 'PCA_1', 'PCA_2', 'PCA_3','PCA_4', 'school_rating']]\n",
    "    feat.zip = feat.zip.astype('object')\n",
    "    y = np.log10(d.PRICE)\n",
    "    X_trainpiece, X_testpiece, y_trainpiece, y_testpiece = train_test_split(feat, y, test_size=0.25)\n",
    "    X_train = X_train.append(X_trainpiece)\n",
    "    X_test = X_test.append(X_testpiece)\n",
    "    y_train = y_train.append(y_trainpiece)\n",
    "    y_test = y_test.append(y_testpiece)\n",
    "# Check rows\n",
    "print(f'X_train rows: {X_train.shape}')\n",
    "print(f'X_test rows: {X_test.shape}')"
   ]
  },
  {
   "cell_type": "code",
   "execution_count": 13,
   "id": "55da4a74",
   "metadata": {},
   "outputs": [
    {
     "data": {
      "text/plain": [
       "Single Family Residential    36155\n",
       "Condo/Co-op                  11707\n",
       "Townhouse                     5556\n",
       "Multi-Family (2-4 Unit)        888\n",
       "Ranch                          131\n",
       "Multi-Family (5+ Unit)          36\n",
       "Name: Prop_Type, dtype: int64"
      ]
     },
     "execution_count": 13,
     "metadata": {},
     "output_type": "execute_result"
    }
   ],
   "source": [
    "X_train.Prop_Type.value_counts()"
   ]
  },
  {
   "cell_type": "code",
   "execution_count": 14,
   "id": "bfaace07",
   "metadata": {},
   "outputs": [],
   "source": [
    "prop_encode = {'Single Family Residential':0,\n",
    "               'Condo/Co-op':1,\n",
    "               'Townhouse':2,\n",
    "               'Multi-Family (2-4 Unit)':3,\n",
    "               'Ranch':4,\n",
    "               'Multi-Family (5+ Unit)':5}\n",
    "X_train['Prop_Type'] = X_train.Prop_Type.apply(lambda x: prop_encode[x])\n",
    "X_test['Prop_Type'] = X_test.Prop_Type.apply(lambda x: prop_encode[x])"
   ]
  },
  {
   "cell_type": "code",
   "execution_count": 15,
   "id": "6130ab00",
   "metadata": {},
   "outputs": [],
   "source": [
    "zip_encode = LabelEncoder()\n",
    "zip_encode.fit(X_train['zip'])\n",
    "X_train['zip'] = zip_encode.transform(X_train['zip'])\n",
    "X_test['zip'] = zip_encode.transform(X_test['zip'])"
   ]
  },
  {
   "cell_type": "code",
   "execution_count": 16,
   "id": "35cc65a3",
   "metadata": {},
   "outputs": [
    {
     "name": "stdout",
     "output_type": "stream",
     "text": [
      "Train R2: 0.8721776288296046\n",
      "Test R2: 0.8420393698454299\n"
     ]
    }
   ],
   "source": [
    "cat = CatBoostRegressor(verbose=False)\n",
    "cat.fit(X_train, y_train)\n",
    "print(f'Train R2: {cat.score(X_train, y_train)}')\n",
    "print(f'Test R2: {cat.score(X_test, y_test)}')"
   ]
  },
  {
   "cell_type": "code",
   "execution_count": 17,
   "id": "e063c324",
   "metadata": {},
   "outputs": [
    {
     "name": "stdout",
     "output_type": "stream",
     "text": [
      "0.13700389873047272\n"
     ]
    }
   ],
   "source": [
    "y_pred= cat.predict(X_test)\n",
    "#RMSE\n",
    "print(np.sqrt(mean_squared_error(y_test,y_pred)))"
   ]
  },
  {
   "cell_type": "code",
   "execution_count": 18,
   "id": "46c063d3",
   "metadata": {},
   "outputs": [
    {
     "data": {
      "image/png": "[encoded data removed]",
      "text/plain": [
       "<Figure size 504x504 with 1 Axes>"
      ]
     },
     "metadata": {
      "needs_background": "light"
     },
     "output_type": "display_data"
    }
   ],
   "source": [
    "feat_importances = pd.DataFrame(cat.get_feature_importance(), index=X_train.columns, columns=['feat_importance'])\n",
    "feat_importances = feat_importances.sort_values(by='feat_importance', ascending=False)\n",
    "\n",
    "f, ax = plt.subplots(figsize=(7, 7))\n",
    "sns.barplot(x='feat_importance', y=feat_importances.index, data=feat_importances, color=\"teal\");"
   ]
  },
  {
   "cell_type": "markdown",
   "id": "c07c3632",
   "metadata": {},
   "source": [
    "### Retrain on full dataset"
   ]
  },
  {
   "cell_type": "code",
   "execution_count": 19,
   "id": "f28feab9",
   "metadata": {},
   "outputs": [],
   "source": [
    "X_full = RF[['Prop_Type','BEDS','BATHS','SF','Lot_Size','YearBuilt','zip',\n",
    "             'PCA_0','PCA_1', 'PCA_2', 'PCA_3','PCA_4', 'school_rating']]\n",
    "y = np.log10(RF.PRICE)\n",
    "X_full['Prop_Type'] = X_full.Prop_Type.apply(lambda x: prop_encode[x])\n",
    "zip_encode = LabelEncoder()\n",
    "zip_encode.fit(X_full['zip'])\n",
    "X_full['zip'] = zip_encode.transform(X_full['zip'])"
   ]
  },
  {
   "cell_type": "code",
   "execution_count": 20,
   "id": "07b6adeb",
   "metadata": {},
   "outputs": [
    {
     "name": "stdout",
     "output_type": "stream",
     "text": [
      "R2: 0.8691022509664942\n"
     ]
    }
   ],
   "source": [
    "cat = CatBoostRegressor(verbose=False)\n",
    "cat.fit(X_full, y)\n",
    "print(f'R2: {cat.score(X_full, y)}')"
   ]
  },
  {
   "cell_type": "markdown",
   "id": "75b8d5ec",
   "metadata": {},
   "source": [
    "### Pickle it 🥒"
   ]
  },
  {
   "cell_type": "code",
   "execution_count": 21,
   "id": "06d6cc65",
   "metadata": {},
   "outputs": [],
   "source": [
    "import pickle\n",
    "pickle.dump(cat, open('SMH_model.pkl', 'wb'))\n",
    "pickle.dump(zip_encode, open('zip_encoder.pkl', 'wb'))"
   ]
  },
  {
   "cell_type": "markdown",
   "id": "fa2fdcb6",
   "metadata": {},
   "source": [
    "### Taste it 🥒"
   ]
  },
  {
   "cell_type": "code",
   "execution_count": 22,
   "id": "4a68680c",
   "metadata": {},
   "outputs": [],
   "source": [
    "pickled_model = pickle.load(open('SMH_model.pkl', 'rb'))\n",
    "zip_encoder = pickle.load(open('zip_encoder.pkl', 'rb'))"
   ]
  },
  {
   "cell_type": "code",
   "execution_count": 24,
   "id": "ec586002",
   "metadata": {},
   "outputs": [],
   "source": [
    "X_pred = RF[['Prop_Type','BEDS','BATHS','SF','Lot_Size','YearBuilt','zip',\n",
    "             'PCA_0','PCA_1', 'PCA_2', 'PCA_3','PCA_4', 'school_rating']].iloc[0,:]"
   ]
  },
  {
   "cell_type": "code",
   "execution_count": 27,
   "id": "8e7bad6c",
   "metadata": {},
   "outputs": [],
   "source": [
    "prop_encode = {'Single Family Residential':0,\n",
    "               'Condo/Co-op':1,\n",
    "               'Townhouse':2,\n",
    "               'Multi-Family (2-4 Unit)':3,\n",
    "               'Ranch':4,\n",
    "               'Multi-Family (5+ Unit)':5}\n",
    "X_pred['Prop_Type'] = prop_encode[X_pred['Prop_Type']]"
   ]
  },
  {
   "cell_type": "code",
   "execution_count": 33,
   "id": "1e4d3958",
   "metadata": {},
   "outputs": [],
   "source": [
    "X_pred['zip'] = zip_encoder.transform(X_pred[['zip']])"
   ]
  },
  {
   "cell_type": "code",
   "execution_count": 34,
   "id": "b75f51de",
   "metadata": {},
   "outputs": [
    {
     "name": "stdout",
     "output_type": "stream",
     "text": [
      "predicted: 937398.6329205453\n",
      "true y: 899900.0000000003\n"
     ]
    }
   ],
   "source": [
    "print(f'predicted: {10**pickled_model.predict(X_pred)}')\n",
    "print(f'true y: {10**y[0]}')"
   ]
  }
 ],
 "metadata": {
  "kernelspec": {
   "display_name": "Python 3",
   "language": "python",
   "name": "python3"
  },
  "language_info": {
   "codemirror_mode": {
    "name": "ipython",
    "version": 3
   },
   "file_extension": ".py",
   "mimetype": "text/x-python",
   "name": "python",
   "nbconvert_exporter": "python",
   "pygments_lexer": "ipython3",
   "version": "3.8.8"
  }
 },
 "nbformat": 4,
 "nbformat_minor": 5
}
