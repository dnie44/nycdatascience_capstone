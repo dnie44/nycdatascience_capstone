{
 "cells": [
  {
   "cell_type": "code",
   "execution_count": 91,
   "id": "fb1b23ae",
   "metadata": {},
   "outputs": [],
   "source": [
    "import pandas as pd\n",
    "import numpy as np\n",
    "\n",
    "import seaborn as sns\n",
    "import matplotlib.pyplot as plt\n",
    "%matplotlib inline \n",
    "\n",
    "from sklearn.decomposition import PCA\n",
    "from sklearn.preprocessing import MinMaxScaler\n",
    "from sklearn.model_selection import train_test_split\n",
    "from sklearn.preprocessing import LabelEncoder\n",
    "from catboost import CatBoostRegressor\n",
    "from sklearn.metrics import mean_squared_error\n",
    "\n",
    "from helper_funcs import *"
   ]
  },
  {
   "cell_type": "code",
   "execution_count": 92,
   "id": "e672d4b4",
   "metadata": {},
   "outputs": [
    {
     "name": "stdout",
     "output_type": "stream",
     "text": [
      "----pulling ZipCode data from Azure storage----\n",
      "----Done----\n"
     ]
    },
    {
     "data": {
      "text/plain": [
       "(6987, 20)"
      ]
     },
     "execution_count": 92,
     "metadata": {},
     "output_type": "execute_result"
    }
   ],
   "source": [
    "zipdata = get_modelzip()\n",
    "zipdata.shape"
   ]
  },
  {
   "cell_type": "code",
   "execution_count": 93,
   "id": "65e5f8c0",
   "metadata": {},
   "outputs": [
    {
     "data": {
      "text/plain": [
       "Population              0\n",
       "Blacks_ratio            0\n",
       "Hispanics_ratio         0\n",
       "Asians_ratio            0\n",
       "Indians_ratio           0\n",
       "Others_ratio            0\n",
       "Male_ratio              0\n",
       "HouseholdsPerZipCode    0\n",
       "MedianAge               0\n",
       "school_rating           0\n",
       "over_65_ratio           0\n",
       "IncomePerHousehold      0\n",
       "NumberOfBusinesses      0\n",
       "UE_rate                 0\n",
       "HPI                     0\n",
       "Demand_score            0\n",
       "Supply_score            0\n",
       "listviews_vs_US         0\n",
       "med_days_on_mkt         0\n",
       "nielson_rank            0\n",
       "dtype: int64"
      ]
     },
     "execution_count": 93,
     "metadata": {},
     "output_type": "execute_result"
    }
   ],
   "source": [
    "zipdata.isna().sum()"
   ]
  },
  {
   "cell_type": "code",
   "execution_count": 94,
   "id": "104c67c2",
   "metadata": {},
   "outputs": [],
   "source": [
    "mms = MinMaxScaler()\n",
    "# REMOVE AverageHouseValue\n",
    "data_scaled = pd.DataFrame(mms.fit_transform(zipdata.values), \n",
    "                           columns=zipdata.columns, \n",
    "                           index=zipdata.index)"
   ]
  },
  {
   "cell_type": "code",
   "execution_count": 105,
   "id": "d4c2b768",
   "metadata": {},
   "outputs": [
    {
     "name": "stdout",
     "output_type": "stream",
     "text": [
      "population PCA explained: [0.464 0.174 0.104 0.057 0.046]\n",
      "number of PCA columns: 5\n"
     ]
    }
   ],
   "source": [
    "pca = PCA(n_components=0.8)\n",
    "pca.fit(data_scaled)\n",
    "print(f'population PCA explained: {np.round(pca.explained_variance_ratio_,3)}')\n",
    "print(f'number of PCA columns: {len(pca.explained_variance_ratio_)}')\n",
    "all_PCAs = pd.DataFrame(pca.fit_transform(data_scaled), \n",
    "                        columns=['PCA_'+str(n) for n in range(len(pca.explained_variance_ratio_))], \n",
    "                        index=zipdata.index)\n",
    "all_PCAs = all_PCAs.merge(zipdata.school_rating, how = 'left', left_index=True, right_index=True)"
   ]
  },
  {
   "cell_type": "code",
   "execution_count": 106,
   "id": "4770b07f",
   "metadata": {},
   "outputs": [
    {
     "name": "stdout",
     "output_type": "stream",
     "text": [
      "----pulling Redfin data from Azure storage----\n",
      "----Done----\n",
      "(74717, 21)\n"
     ]
    }
   ],
   "source": [
    "RF = get_redfin_csv()\n",
    "print(RF.shape)"
   ]
  },
  {
   "cell_type": "code",
   "execution_count": 107,
   "id": "699c2ed4",
   "metadata": {},
   "outputs": [],
   "source": [
    "RF = RF.merge(all_PCAs, how = 'left', left_on = 'zip', right_index=True)"
   ]
  },
  {
   "cell_type": "code",
   "execution_count": 108,
   "id": "5f1ac2a2",
   "metadata": {},
   "outputs": [
    {
     "name": "stdout",
     "output_type": "stream",
     "text": [
      "X_train rows: (54473, 13)\n",
      "X_test rows: (19083, 13)\n"
     ]
    }
   ],
   "source": [
    "#pd.set_option('display.max_rows', None)\n",
    "zip_houses = RF.groupby('zip').agg('count')['PRICE'].to_dict()\n",
    "RF['houses_perZIP'] = RF.zip.apply(lambda r: zip_houses[r])\n",
    "RF = RF[RF.houses_perZIP>4]\n",
    "# Use groupby to split the df into smaller dfs for each ZIP\n",
    "groups = RF.groupby('zip')\n",
    "dfs = [groups.get_group(x) for x in groups.groups]\n",
    "# Use first df to initiate X_train, X_test, etc\n",
    "for d in dfs[:1]:\n",
    "    feat = d[['Prop_Type','BEDS','BATHS','SF','Lot_Size','YearBuilt','zip',\n",
    "              'PCA_0', 'PCA_1', 'PCA_2', 'PCA_3','PCA_4', 'school_rating']]\n",
    "    feat.zip = feat.zip.astype('object')\n",
    "    y = np.log10(d.PRICE)\n",
    "    X_train, X_test, y_train, y_test = train_test_split(feat, y, test_size=0.25)\n",
    "# train_test_split each df then stack together\n",
    "for d in dfs[1:]:\n",
    "    feat = d[['Prop_Type','BEDS','BATHS','SF','Lot_Size','YearBuilt','zip',\n",
    "              'PCA_0', 'PCA_1', 'PCA_2', 'PCA_3','PCA_4', 'school_rating']]\n",
    "    feat.zip = feat.zip.astype('object')\n",
    "    y = np.log10(d.PRICE)\n",
    "    X_trainpiece, X_testpiece, y_trainpiece, y_testpiece = train_test_split(feat, y, test_size=0.25)\n",
    "    X_train = X_train.append(X_trainpiece)\n",
    "    X_test = X_test.append(X_testpiece)\n",
    "    y_train = y_train.append(y_trainpiece)\n",
    "    y_test = y_test.append(y_testpiece)\n",
    "# Check rows\n",
    "print(f'X_train rows: {X_train.shape}')\n",
    "print(f'X_test rows: {X_test.shape}')"
   ]
  },
  {
   "cell_type": "code",
   "execution_count": 109,
   "id": "55da4a74",
   "metadata": {},
   "outputs": [
    {
     "data": {
      "text/plain": [
       "Single Family Residential    36186\n",
       "Condo/Co-op                  11670\n",
       "Townhouse                     5568\n",
       "Multi-Family (2-4 Unit)        882\n",
       "Ranch                          129\n",
       "Multi-Family (5+ Unit)          38\n",
       "Name: Prop_Type, dtype: int64"
      ]
     },
     "execution_count": 109,
     "metadata": {},
     "output_type": "execute_result"
    }
   ],
   "source": [
    "X_train.Prop_Type.value_counts()"
   ]
  },
  {
   "cell_type": "code",
   "execution_count": 110,
   "id": "bfaace07",
   "metadata": {},
   "outputs": [],
   "source": [
    "prop_encode = {'Single Family Residential':0,\n",
    "               'Condo/Co-op':1,\n",
    "               'Townhouse':2,\n",
    "               'Multi-Family (2-4 Unit)':3,\n",
    "               'Ranch':4,\n",
    "               'Multi-Family (5+ Unit)':5}\n",
    "X_train['Prop_Type'] = X_train.Prop_Type.apply(lambda x: prop_encode[x])\n",
    "X_test['Prop_Type'] = X_test.Prop_Type.apply(lambda x: prop_encode[x])"
   ]
  },
  {
   "cell_type": "code",
   "execution_count": 111,
   "id": "6130ab00",
   "metadata": {},
   "outputs": [],
   "source": [
    "zip_encode = LabelEncoder()\n",
    "zip_encode.fit(X_train['zip'])\n",
    "X_train['zip'] = zip_encode.transform(X_train['zip'])\n",
    "X_test['zip'] = zip_encode.transform(X_test['zip'])"
   ]
  },
  {
   "cell_type": "code",
   "execution_count": 112,
   "id": "35cc65a3",
   "metadata": {},
   "outputs": [
    {
     "name": "stdout",
     "output_type": "stream",
     "text": [
      "Train R2: 0.8722141012228574\n",
      "Test R2: 0.8413703343277708\n"
     ]
    }
   ],
   "source": [
    "cat = CatBoostRegressor(verbose=False)\n",
    "cat.fit(X_train, y_train)\n",
    "print(f'Train R2: {cat.score(X_train, y_train)}')\n",
    "print(f'Test R2: {cat.score(X_test, y_test)}')"
   ]
  },
  {
   "cell_type": "code",
   "execution_count": 113,
   "id": "e063c324",
   "metadata": {},
   "outputs": [
    {
     "name": "stdout",
     "output_type": "stream",
     "text": [
      "0.13735125818100546\n"
     ]
    }
   ],
   "source": [
    "y_pred= cat.predict(X_test)\n",
    "#RMSE\n",
    "print(np.sqrt(mean_squared_error(y_test,y_pred)))"
   ]
  },
  {
   "cell_type": "code",
   "execution_count": 114,
   "id": "46c063d3",
   "metadata": {},
   "outputs": [
    {
     "data": {
      "image/png": "[encoded data removed]",
      "text/plain": [
       "<Figure size 504x504 with 1 Axes>"
      ]
     },
     "metadata": {
      "needs_background": "light"
     },
     "output_type": "display_data"
    }
   ],
   "source": [
    "feat_importances = pd.DataFrame(cat.get_feature_importance(), index=X_train.columns, columns=['feat_importance'])\n",
    "feat_importances = feat_importances.sort_values(by='feat_importance', ascending=False)\n",
    "\n",
    "f, ax = plt.subplots(figsize=(7, 7))\n",
    "sns.barplot(x='feat_importance', y=feat_importances.index, data=feat_importances, color=\"teal\");"
   ]
  },
  {
   "cell_type": "markdown",
   "id": "c07c3632",
   "metadata": {},
   "source": [
    "### Retrain on full dataset"
   ]
  },
  {
   "cell_type": "code",
   "execution_count": 115,
   "id": "f28feab9",
   "metadata": {},
   "outputs": [],
   "source": [
    "X_full = RF[['Prop_Type','BEDS','BATHS','SF','Lot_Size','YearBuilt','zip',\n",
    "             'PCA_0','PCA_1', 'PCA_2', 'PCA_3','PCA_4', 'school_rating']]\n",
    "y = np.log10(RF.PRICE)\n",
    "X_full['Prop_Type'] = X_full.Prop_Type.apply(lambda x: prop_encode[x])\n",
    "zip_encode = LabelEncoder()\n",
    "zip_encode.fit(X_full['zip'])\n",
    "X_full['zip'] = zip_encode.transform(X_full['zip'])"
   ]
  },
  {
   "cell_type": "code",
   "execution_count": 116,
   "id": "07b6adeb",
   "metadata": {},
   "outputs": [
    {
     "name": "stdout",
     "output_type": "stream",
     "text": [
      "R2: 0.8691022509664942\n"
     ]
    }
   ],
   "source": [
    "cat = CatBoostRegressor(verbose=False)\n",
    "cat.fit(X_full, y)\n",
    "print(f'R2: {cat.score(X_full, y)}')"
   ]
  },
  {
   "cell_type": "markdown",
   "id": "75b8d5ec",
   "metadata": {},
   "source": [
    "### Pickle it 🥒"
   ]
  },
  {
   "cell_type": "code",
   "execution_count": 117,
   "id": "06d6cc65",
   "metadata": {},
   "outputs": [],
   "source": [
    "import pickle\n",
    "pickle.dump(cat, open('SMH_model.pkl', 'wb'))\n",
    "pickle.dump(zip_encode, open('zip_encoder.pkl', 'wb'))"
   ]
  },
  {
   "cell_type": "markdown",
   "id": "fa2fdcb6",
   "metadata": {},
   "source": [
    "### Taste it 🥒"
   ]
  },
  {
   "cell_type": "code",
   "execution_count": 118,
   "id": "4a68680c",
   "metadata": {},
   "outputs": [],
   "source": [
    "pickled_model = pickle.load(open('SMH_model.pkl', 'rb'))\n",
    "zip_encoder = pickle.load(open('zip_encoder.pkl', 'rb'))"
   ]
  },
  {
   "cell_type": "code",
   "execution_count": 119,
   "id": "c781e1ac",
   "metadata": {},
   "outputs": [
    {
     "name": "stdout",
     "output_type": "stream",
     "text": [
      "predicted: 937398.6329205453\n",
      "true y: 899900.0000000003\n"
     ]
    }
   ],
   "source": [
    "print(f'predicted: {10**pickled_model.predict(X_full.iloc[0,:])}')\n",
    "print(f'true y: {10**y[0]}')"
   ]
  },
  {
   "cell_type": "code",
   "execution_count": 120,
   "id": "de171e48",
   "metadata": {},
   "outputs": [
    {
     "data": {
      "text/plain": [
       "Prop_Type           1.000000\n",
       "BEDS                2.000000\n",
       "BATHS               2.000000\n",
       "SF               1282.000000\n",
       "Lot_Size          125.608331\n",
       "YearBuilt        2019.000000\n",
       "zip                 0.000000\n",
       "PCA_0               0.405103\n",
       "PCA_1               0.544240\n",
       "PCA_2              -0.739855\n",
       "PCA_3               0.329785\n",
       "PCA_4               0.061916\n",
       "school_rating       5.727273\n",
       "Name: DCDC514770, dtype: float64"
      ]
     },
     "execution_count": 120,
     "metadata": {},
     "output_type": "execute_result"
    }
   ],
   "source": [
    "X_full.iloc[0,:]"
   ]
  },
  {
   "cell_type": "code",
   "execution_count": 121,
   "id": "ec586002",
   "metadata": {},
   "outputs": [],
   "source": [
    "X_pred = RF[['Prop_Type','BEDS','BATHS','SF','Lot_Size','YearBuilt','zip']].iloc[0,:]"
   ]
  },
  {
   "cell_type": "code",
   "execution_count": 122,
   "id": "cbe55186",
   "metadata": {},
   "outputs": [],
   "source": [
    "X_pred = X_pred.append(all_PCAs.loc[20001])"
   ]
  },
  {
   "cell_type": "code",
   "execution_count": 123,
   "id": "a8054306",
   "metadata": {},
   "outputs": [
    {
     "data": {
      "text/plain": [
       "Prop_Type        Condo/Co-op\n",
       "BEDS                     2.0\n",
       "BATHS                    2.0\n",
       "SF                    1282.0\n",
       "Lot_Size          125.608331\n",
       "YearBuilt             2019.0\n",
       "zip                    20001\n",
       "PCA_0               0.405103\n",
       "PCA_1                0.54424\n",
       "PCA_2              -0.739855\n",
       "PCA_3               0.329785\n",
       "PCA_4               0.061916\n",
       "school_rating       5.727273\n",
       "dtype: object"
      ]
     },
     "execution_count": 123,
     "metadata": {},
     "output_type": "execute_result"
    }
   ],
   "source": [
    "X_pred"
   ]
  },
  {
   "cell_type": "code",
   "execution_count": 29,
   "id": "3d00ab70",
   "metadata": {},
   "outputs": [],
   "source": [
    "X_pred.to_csv('base_X.csv')"
   ]
  },
  {
   "cell_type": "code",
   "execution_count": 51,
   "id": "4ebd8da4",
   "metadata": {},
   "outputs": [],
   "source": [
    "X_pred = pd.read_csv('base_X.csv', index_col=0, squeeze=True)"
   ]
  },
  {
   "cell_type": "code",
   "execution_count": 124,
   "id": "8e7bad6c",
   "metadata": {},
   "outputs": [],
   "source": [
    "prop_encode = {'Single Family Residential':0,\n",
    "               'Condo/Co-op':1,\n",
    "               'Townhouse':2,\n",
    "               'Multi-Family (2-4 Unit)':3,\n",
    "               'Ranch':4,\n",
    "               'Multi-Family (5+ Unit)':5}\n",
    "X_pred['Prop_Type'] = prop_encode[X_pred['Prop_Type']]"
   ]
  },
  {
   "cell_type": "code",
   "execution_count": 125,
   "id": "1e4d3958",
   "metadata": {},
   "outputs": [],
   "source": [
    "X_pred['zip'] = zip_encoder.transform(pd.Series(20001))[0]"
   ]
  },
  {
   "cell_type": "code",
   "execution_count": 126,
   "id": "b75f51de",
   "metadata": {
    "scrolled": true
   },
   "outputs": [
    {
     "name": "stdout",
     "output_type": "stream",
     "text": [
      "predicted: 937398.6329205453\n",
      "true y: 899900.0000000003\n"
     ]
    }
   ],
   "source": [
    "print(f'predicted: {10**pickled_model.predict(X_pred)}')\n",
    "print(f'true y: {10**y[0]}')"
   ]
  },
  {
   "cell_type": "code",
   "execution_count": 205,
   "id": "a5b8b533",
   "metadata": {},
   "outputs": [
    {
     "name": "stdout",
     "output_type": "stream",
     "text": [
      "[1]\n"
     ]
    }
   ],
   "source": [
    "print(zip_encoder.transform(pd.Series(20002)))"
   ]
  },
  {
   "cell_type": "code",
   "execution_count": 128,
   "id": "5c01f6fc",
   "metadata": {},
   "outputs": [],
   "source": [
    "all_PCAs.to_csv('zip_model_data.csv')"
   ]
  },
  {
   "cell_type": "code",
   "execution_count": 184,
   "id": "40989807",
   "metadata": {},
   "outputs": [],
   "source": [
    "locations = pd.read_csv('https://nycdsacapstone2021.blob.core.windows.net/additionaldata/final_zip_data.csv', index_col=0)\n",
    "locations = locations[['State', 'County', 'CBSA_Name']].rename(columns={'CBSA_Name':'Metro_Area'})\n",
    "locations = locations.reset_index()"
   ]
  },
  {
   "cell_type": "code",
   "execution_count": 185,
   "id": "9e33635e",
   "metadata": {},
   "outputs": [],
   "source": [
    "locations.loc[locations.Metro_Area.isna(),'Metro_Area'] = \"XXXNone\""
   ]
  },
  {
   "cell_type": "code",
   "execution_count": 189,
   "id": "2ce3f766",
   "metadata": {},
   "outputs": [],
   "source": [
    "locations.loc[locations.Metro_Area=='XXXNone','Metro_Area'] = 'None'"
   ]
  },
  {
   "cell_type": "code",
   "execution_count": 186,
   "id": "4077b0f9",
   "metadata": {},
   "outputs": [
    {
     "data": {
      "text/plain": [
       "ZipCode       0\n",
       "State         0\n",
       "County        0\n",
       "Metro_Area    0\n",
       "dtype: int64"
      ]
     },
     "execution_count": 186,
     "metadata": {},
     "output_type": "execute_result"
    }
   ],
   "source": [
    "locations.isna().sum()"
   ]
  },
  {
   "cell_type": "code",
   "execution_count": 187,
   "id": "821064b7",
   "metadata": {},
   "outputs": [],
   "source": [
    "locations = locations.sort_values(by=['Metro_Area','ZipCode'])"
   ]
  },
  {
   "cell_type": "code",
   "execution_count": 190,
   "id": "59ead5ac",
   "metadata": {},
   "outputs": [
    {
     "data": {
      "text/html": [
       "<div>\n",
       "<style scoped>\n",
       "    .dataframe tbody tr th:only-of-type {\n",
       "        vertical-align: middle;\n",
       "    }\n",
       "\n",
       "    .dataframe tbody tr th {\n",
       "        vertical-align: top;\n",
       "    }\n",
       "\n",
       "    .dataframe thead th {\n",
       "        text-align: right;\n",
       "    }\n",
       "</style>\n",
       "<table border=\"1\" class=\"dataframe\">\n",
       "  <thead>\n",
       "    <tr style=\"text-align: right;\">\n",
       "      <th></th>\n",
       "      <th>ZipCode</th>\n",
       "      <th>State</th>\n",
       "      <th>County</th>\n",
       "      <th>Metro_Area</th>\n",
       "    </tr>\n",
       "  </thead>\n",
       "  <tbody>\n",
       "    <tr>\n",
       "      <th>5359</th>\n",
       "      <td>31701</td>\n",
       "      <td>GA</td>\n",
       "      <td>DOUGHERTY</td>\n",
       "      <td>Albany</td>\n",
       "    </tr>\n",
       "    <tr>\n",
       "      <th>5360</th>\n",
       "      <td>31702</td>\n",
       "      <td>GA</td>\n",
       "      <td>DOUGHERTY</td>\n",
       "      <td>Albany</td>\n",
       "    </tr>\n",
       "    <tr>\n",
       "      <th>5361</th>\n",
       "      <td>31703</td>\n",
       "      <td>GA</td>\n",
       "      <td>DOUGHERTY</td>\n",
       "      <td>Albany</td>\n",
       "    </tr>\n",
       "    <tr>\n",
       "      <th>5362</th>\n",
       "      <td>31704</td>\n",
       "      <td>GA</td>\n",
       "      <td>DOUGHERTY</td>\n",
       "      <td>Albany</td>\n",
       "    </tr>\n",
       "    <tr>\n",
       "      <th>5363</th>\n",
       "      <td>31705</td>\n",
       "      <td>GA</td>\n",
       "      <td>DOUGHERTY</td>\n",
       "      <td>Albany</td>\n",
       "    </tr>\n",
       "    <tr>\n",
       "      <th>...</th>\n",
       "      <td>...</td>\n",
       "      <td>...</td>\n",
       "      <td>...</td>\n",
       "      <td>...</td>\n",
       "    </tr>\n",
       "    <tr>\n",
       "      <th>6955</th>\n",
       "      <td>39862</td>\n",
       "      <td>GA</td>\n",
       "      <td>CALHOUN</td>\n",
       "      <td>None</td>\n",
       "    </tr>\n",
       "    <tr>\n",
       "      <th>6956</th>\n",
       "      <td>39866</td>\n",
       "      <td>GA</td>\n",
       "      <td>CALHOUN</td>\n",
       "      <td>None</td>\n",
       "    </tr>\n",
       "    <tr>\n",
       "      <th>6958</th>\n",
       "      <td>39870</td>\n",
       "      <td>GA</td>\n",
       "      <td>BAKER</td>\n",
       "      <td>None</td>\n",
       "    </tr>\n",
       "    <tr>\n",
       "      <th>6961</th>\n",
       "      <td>39886</td>\n",
       "      <td>GA</td>\n",
       "      <td>RANDOLPH</td>\n",
       "      <td>None</td>\n",
       "    </tr>\n",
       "    <tr>\n",
       "      <th>6962</th>\n",
       "      <td>39897</td>\n",
       "      <td>GA</td>\n",
       "      <td>GRADY</td>\n",
       "      <td>None</td>\n",
       "    </tr>\n",
       "  </tbody>\n",
       "</table>\n",
       "<p>6987 rows × 4 columns</p>\n",
       "</div>"
      ],
      "text/plain": [
       "      ZipCode State     County Metro_Area\n",
       "5359    31701    GA  DOUGHERTY     Albany\n",
       "5360    31702    GA  DOUGHERTY     Albany\n",
       "5361    31703    GA  DOUGHERTY     Albany\n",
       "5362    31704    GA  DOUGHERTY     Albany\n",
       "5363    31705    GA  DOUGHERTY     Albany\n",
       "...       ...   ...        ...        ...\n",
       "6955    39862    GA    CALHOUN       None\n",
       "6956    39866    GA    CALHOUN       None\n",
       "6958    39870    GA      BAKER       None\n",
       "6961    39886    GA   RANDOLPH       None\n",
       "6962    39897    GA      GRADY       None\n",
       "\n",
       "[6987 rows x 4 columns]"
      ]
     },
     "execution_count": 190,
     "metadata": {},
     "output_type": "execute_result"
    }
   ],
   "source": [
    "locations"
   ]
  },
  {
   "cell_type": "code",
   "execution_count": 191,
   "id": "26ce697e",
   "metadata": {},
   "outputs": [],
   "source": [
    "locations.to_csv('locations.csv', index=False)"
   ]
  },
  {
   "cell_type": "code",
   "execution_count": 201,
   "id": "0667a2bb",
   "metadata": {},
   "outputs": [
    {
     "data": {
      "text/plain": [
       "0"
      ]
     },
     "execution_count": 201,
     "metadata": {},
     "output_type": "execute_result"
    }
   ],
   "source": [
    "prop_encode['Single Family Residential']"
   ]
  },
  {
   "cell_type": "code",
   "execution_count": 178,
   "id": "0ab772a3",
   "metadata": {},
   "outputs": [
    {
     "data": {
      "text/html": [
       "<div>\n",
       "<style scoped>\n",
       "    .dataframe tbody tr th:only-of-type {\n",
       "        vertical-align: middle;\n",
       "    }\n",
       "\n",
       "    .dataframe tbody tr th {\n",
       "        vertical-align: top;\n",
       "    }\n",
       "\n",
       "    .dataframe thead th {\n",
       "        text-align: right;\n",
       "    }\n",
       "</style>\n",
       "<table border=\"1\" class=\"dataframe\">\n",
       "  <thead>\n",
       "    <tr style=\"text-align: right;\">\n",
       "      <th></th>\n",
       "      <th>ZipCode</th>\n",
       "      <th>State</th>\n",
       "      <th>County</th>\n",
       "      <th>Metro_Area</th>\n",
       "    </tr>\n",
       "  </thead>\n",
       "  <tbody>\n",
       "    <tr>\n",
       "      <th>143</th>\n",
       "      <td>20190</td>\n",
       "      <td>VA</td>\n",
       "      <td>FAIRFAX</td>\n",
       "      <td>Washington Arlington Alexandria</td>\n",
       "    </tr>\n",
       "  </tbody>\n",
       "</table>\n",
       "</div>"
      ],
      "text/plain": [
       "     ZipCode State   County                       Metro_Area\n",
       "143    20190    VA  FAIRFAX  Washington Arlington Alexandria"
      ]
     },
     "execution_count": 178,
     "metadata": {},
     "output_type": "execute_result"
    }
   ],
   "source": [
    "locations.loc[locations.ZipCode==20190]"
   ]
  },
  {
   "cell_type": "code",
   "execution_count": null,
   "id": "c4993379",
   "metadata": {},
   "outputs": [],
   "source": []
  }
 ],
 "metadata": {
  "kernelspec": {
   "display_name": "Python 3",
   "language": "python",
   "name": "python3"
  },
  "language_info": {
   "codemirror_mode": {
    "name": "ipython",
    "version": 3
   },
   "file_extension": ".py",
   "mimetype": "text/x-python",
   "name": "python",
   "nbconvert_exporter": "python",
   "pygments_lexer": "ipython3",
   "version": "3.8.8"
  }
 },
 "nbformat": 4,
 "nbformat_minor": 5
}
