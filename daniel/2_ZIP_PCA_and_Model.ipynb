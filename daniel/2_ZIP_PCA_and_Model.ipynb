{
 "cells": [
  {
   "cell_type": "code",
   "execution_count": 1,
   "id": "aaaf83d9",
   "metadata": {},
   "outputs": [],
   "source": [
    "import pandas as pd\n",
    "import numpy as np\n",
    "\n",
    "import seaborn as sns\n",
    "import matplotlib.pyplot as plt\n",
    "%matplotlib inline \n",
    "\n",
    "from sklearn.decomposition import PCA\n",
    "from sklearn.preprocessing import MinMaxScaler\n",
    "from sklearn.linear_model import LinearRegression, Lasso\n",
    "from sklearn.model_selection import train_test_split\n",
    "from sklearn.preprocessing import LabelEncoder\n",
    "from catboost import CatBoostRegressor\n",
    "\n",
    "from helper_funcs import *"
   ]
  },
  {
   "cell_type": "code",
   "execution_count": 24,
   "id": "232eaa0c",
   "metadata": {},
   "outputs": [
    {
     "name": "stdout",
     "output_type": "stream",
     "text": [
      "----pulling ZipCode data from Azure storage----\n",
      "----Done----\n"
     ]
    },
    {
     "data": {
      "text/plain": [
       "(6987, 24)"
      ]
     },
     "execution_count": 24,
     "metadata": {},
     "output_type": "execute_result"
    }
   ],
   "source": [
    "zipdata = get_zipdata()\n",
    "zipdata.shape"
   ]
  },
  {
   "cell_type": "code",
   "execution_count": 25,
   "id": "835e026c",
   "metadata": {},
   "outputs": [
    {
     "data": {
      "text/plain": [
       "Population              0\n",
       "HouseholdsPerZipCode    0\n",
       "AverageHouseValue       0\n",
       "IncomePerHousehold      0\n",
       "MedianAge               0\n",
       "NumberOfBusinesses      0\n",
       "over_65_ratio           0\n",
       "school_rating           0\n",
       "Hosp_count              0\n",
       "HPI                     0\n",
       "Demand_score            0\n",
       "Supply_score            0\n",
       "listviews_vs_US         0\n",
       "med_days_on_mkt         0\n",
       "nielson_rank            0\n",
       "UE_rate                 0\n",
       "Zillow_HVF              0\n",
       "BEA_percap_income       0\n",
       "Blacks_ratio            0\n",
       "Hispanics_ratio         0\n",
       "Asians_ratio            0\n",
       "Indians_ratio           0\n",
       "Others_ratio            0\n",
       "Male_ratio              0\n",
       "dtype: int64"
      ]
     },
     "execution_count": 25,
     "metadata": {},
     "output_type": "execute_result"
    }
   ],
   "source": [
    "zipdata.isna().sum()"
   ]
  },
  {
   "cell_type": "markdown",
   "id": "a6bb9ee4",
   "metadata": {},
   "source": [
    "### Create PCAs for each type of data:\n",
    "* Population (Population, Blacks_ratio, Hispanics_ratio, Asians_ratio, Indians_ratio, Others_ratio, Male_ratio, HouseholdsPerZipCode)\n",
    "* Age (MedianAge, over_65_ratio)\n",
    "* Economics (IncomePerHousehold, NumberOfBusinesses, UE_rate)\n",
    "* FRED (HPI, Demand_score, Supply_score, listviews_vs_US, med_days_on_mkt, nielson_rank)\n",
    "\n",
    "Not Included: Zillow, School_rating, Hosp, AverageHouseValue"
   ]
  },
  {
   "cell_type": "code",
   "execution_count": 26,
   "id": "9bfa93b8",
   "metadata": {},
   "outputs": [],
   "source": [
    "pop_feats = ['Population', 'Blacks_ratio', 'Hispanics_ratio', 'Asians_ratio', \n",
    "             'Indians_ratio', 'Others_ratio', 'Male_ratio', 'HouseholdsPerZipCode']\n",
    "age_feats = ['MedianAge', 'over_65_ratio']\n",
    "econ_feats = ['IncomePerHousehold', 'NumberOfBusinesses', 'UE_rate']\n",
    "fred_feats = ['HPI', 'Demand_score', 'Supply_score', 'listviews_vs_US', 'med_days_on_mkt', 'nielson_rank']"
   ]
  },
  {
   "cell_type": "markdown",
   "id": "cf19c046",
   "metadata": {},
   "source": [
    "### 🎚️ Scale data before clustering"
   ]
  },
  {
   "cell_type": "code",
   "execution_count": 27,
   "id": "4d65e559",
   "metadata": {},
   "outputs": [],
   "source": [
    "mms = MinMaxScaler()\n",
    "# REMOVE AverageHouseValue\n",
    "data_scaled = pd.DataFrame(mms.fit_transform(zipdata.drop(columns='AverageHouseValue').values), \n",
    "                           columns=zipdata.drop(columns='AverageHouseValue').columns, \n",
    "                           index=zipdata.drop(columns='AverageHouseValue').index)"
   ]
  },
  {
   "cell_type": "code",
   "execution_count": 45,
   "id": "dab93ca8",
   "metadata": {},
   "outputs": [
    {
     "name": "stdout",
     "output_type": "stream",
     "text": [
      "population PCA explained: [0.531 0.211]\n",
      "number of PCA columns: 2\n",
      "---------------------------------\n",
      "Age PCA explained: [0.924]\n",
      "number of PCA columns: 1\n",
      "---------------------------------\n",
      "Econ PCA explained: [0.496 0.346]\n",
      "number of PCA columns: 2\n",
      "---------------------------------\n",
      "FRED PCA explained: [0.718 0.154]\n",
      "number of PCA columns: 2\n"
     ]
    }
   ],
   "source": [
    "pca = PCA(n_components=0.74)\n",
    "\n",
    "pca.fit(data_scaled[pop_feats])\n",
    "print(f'population PCA explained: {np.round(pca.explained_variance_ratio_,3)}')\n",
    "print(f'number of PCA columns: {len(pca.explained_variance_ratio_)}')\n",
    "pop_PCAs = pd.DataFrame(pca.fit_transform(data_scaled[pop_feats]), \n",
    "                        columns=['popPCA_'+str(n) for n in range(len(pca.explained_variance_ratio_))], \n",
    "                        index=zipdata.index)\n",
    "\n",
    "print('---------------------------------')\n",
    "pca.fit(data_scaled[age_feats])\n",
    "print(f'Age PCA explained: {np.round(pca.explained_variance_ratio_,3)}')\n",
    "print(f'number of PCA columns: {len(pca.explained_variance_ratio_)}')\n",
    "age_PCAs = pd.DataFrame(pca.fit_transform(data_scaled[age_feats]), \n",
    "                        columns=['agePCA_'+str(n) for n in range(len(pca.explained_variance_ratio_))], \n",
    "                        index=zipdata.index)\n",
    "\n",
    "print('---------------------------------')\n",
    "pca.fit(data_scaled[econ_feats])\n",
    "print(f'Econ PCA explained: {np.round(pca.explained_variance_ratio_,3)}')\n",
    "print(f'number of PCA columns: {len(pca.explained_variance_ratio_)}')\n",
    "econ_PCAs = pd.DataFrame(pca.fit_transform(data_scaled[econ_feats]), \n",
    "                        columns=['econPCA_'+str(n) for n in range(len(pca.explained_variance_ratio_))], \n",
    "                        index=zipdata.index)\n",
    "\n",
    "print('---------------------------------')\n",
    "pca.fit(data_scaled[fred_feats])\n",
    "print(f'FRED PCA explained: {np.round(pca.explained_variance_ratio_,3)}')\n",
    "print(f'number of PCA columns: {len(pca.explained_variance_ratio_)}')\n",
    "fred_PCAs = pd.DataFrame(pca.fit_transform(data_scaled[fred_feats]), \n",
    "                        columns=['fredPCA_'+str(n) for n in range(len(pca.explained_variance_ratio_))], \n",
    "                        index=zipdata.index)"
   ]
  },
  {
   "cell_type": "markdown",
   "id": "d8bdb703",
   "metadata": {},
   "source": [
    "## 🎰 Model with PCAs"
   ]
  },
  {
   "cell_type": "code",
   "execution_count": 46,
   "id": "114f8b7e",
   "metadata": {},
   "outputs": [
    {
     "name": "stdout",
     "output_type": "stream",
     "text": [
      "----pulling Redfin data from Azure storage----\n",
      "----Done----\n",
      "(74717, 21)\n"
     ]
    }
   ],
   "source": [
    "RF = get_redfin_csv()\n",
    "print(RF.shape)"
   ]
  },
  {
   "cell_type": "markdown",
   "id": "b8082011",
   "metadata": {},
   "source": [
    "#### Merge PCA data into House data"
   ]
  },
  {
   "cell_type": "code",
   "execution_count": 47,
   "id": "9fd797ae",
   "metadata": {},
   "outputs": [
    {
     "name": "stdout",
     "output_type": "stream",
     "text": [
      "shape before merge: (74717, 21)\n",
      "shape after merge: (74717, 28)\n"
     ]
    }
   ],
   "source": [
    "print(f'shape before merge: {RF.shape}')\n",
    "\n",
    "for each in [pop_PCAs, age_PCAs, econ_PCAs, fred_PCAs]:\n",
    "    RF = RF.merge(each, how = 'left', left_on = 'zip', right_index=True)\n",
    "\n",
    "print(f'shape after merge: {RF.shape}')"
   ]
  },
  {
   "cell_type": "code",
   "execution_count": 48,
   "id": "03c34d77",
   "metadata": {},
   "outputs": [
    {
     "data": {
      "text/plain": [
       "Index(['Sale_Type', 'Sold_Date', 'Prop_Type', 'ADDRESS', 'CITY', 'State',\n",
       "       'PRICE', 'BEDS', 'BATHS', 'LOCATION', 'SF', 'Lot_Size', 'YearBuilt',\n",
       "       'Days_on_Mkt', 'px_perSF', 'HOA_perMonth', 'STATUS', 'LATITUDE',\n",
       "       'LONGITUDE', 'zip', 'Detached', 'popPCA_0', 'popPCA_1', 'agePCA_0',\n",
       "       'econPCA_0', 'econPCA_1', 'fredPCA_0', 'fredPCA_1'],\n",
       "      dtype='object')"
      ]
     },
     "execution_count": 48,
     "metadata": {},
     "output_type": "execute_result"
    }
   ],
   "source": [
    "RF.columns"
   ]
  },
  {
   "cell_type": "code",
   "execution_count": 11,
   "id": "0f71460f",
   "metadata": {},
   "outputs": [
    {
     "name": "stdout",
     "output_type": "stream",
     "text": [
      "1\n",
      "2\n",
      "3\n",
      "4\n",
      "5\n",
      "Linear Model train R2: 0.7550522647947447\n",
      "Linear Model test R2: 0.7085374300462541\n",
      "CatBoost train R2: 0.8778824262782624\n",
      "CatBoost Model test R2: 0.8496457175181489\n"
     ]
    }
   ],
   "source": [
    "target_feats = ['Prop_Type','BEDS','BATHS','SF','Lot_Size','YearBuilt','zip','popPCA_0', 'popPCA_1', \n",
    "              'popPCA_2', 'agePCA_0', 'econPCA_0', 'econPCA_1', 'fredPCA_0', 'fredPCA_1']\n",
    "\n",
    "lm = LinearRegression()\n",
    "cat = CatBoostRegressor(verbose=False)\n",
    "\n",
    "LM_train_R2 = []\n",
    "LM_test_R2 = []\n",
    "\n",
    "CAT_train_R2 = []\n",
    "CAT_test_R2 = []\n",
    "\n",
    "for i in range(5):\n",
    "    X_train_dum, X_test_dum, X_train_le, X_test_le, y_train, y_test = get_train_test(RF,target_feats)\n",
    "    lm.fit(X_train_dum, y_train)\n",
    "    LM_train_R2.append(lm.score(X_train_dum, y_train))\n",
    "    LM_test_R2.append(lm.score(X_test_dum, y_test))\n",
    "   \n",
    "    cat.fit(X_train_le, y_train)\n",
    "    CAT_train_R2.append(cat.score(X_train_le, y_train))\n",
    "    CAT_test_R2.append(cat.score(X_test_le, y_test))\n",
    "    print(i+1)\n",
    "\n",
    "print(f'Linear Model train R2: {np.average(LM_train_R2)}')\n",
    "print(f'Linear Model test R2: {np.average(LM_test_R2)}')\n",
    "print(f'CatBoost train R2: {np.average(CAT_train_R2)}')\n",
    "print(f'CatBoost Model test R2: {np.average(CAT_test_R2)}')"
   ]
  },
  {
   "cell_type": "markdown",
   "id": "2e370e7a",
   "metadata": {},
   "source": [
    "### Try again with school_rating, Zillow, Hosp"
   ]
  },
  {
   "cell_type": "code",
   "execution_count": 49,
   "id": "b8bf7387",
   "metadata": {},
   "outputs": [],
   "source": [
    "RF = RF.merge(zipdata[['school_rating','Zillow_HVF','Hosp_count']], how = 'left', left_on = 'zip', right_index=True)"
   ]
  },
  {
   "cell_type": "code",
   "execution_count": 50,
   "id": "ce8bb271",
   "metadata": {},
   "outputs": [
    {
     "name": "stdout",
     "output_type": "stream",
     "text": [
      "1\n",
      "2\n",
      "3\n",
      "4\n",
      "5\n",
      "Linear Model train R2: 0.7548838514088196\n",
      "Linear Model test R2: 0.7351504773922054\n",
      "CatBoost train R2: 0.8794524033242945\n",
      "CatBoost Model test R2: 0.8490919372897409\n"
     ]
    }
   ],
   "source": [
    "target_feats = ['Prop_Type','BEDS','BATHS','SF','Lot_Size','YearBuilt','zip','popPCA_0', 'popPCA_1', \n",
    "                'agePCA_0', 'econPCA_0', 'econPCA_1', 'fredPCA_0', 'fredPCA_1',\n",
    "                'school_rating','Zillow_HVF']\n",
    "\n",
    "lm = LinearRegression()\n",
    "cat = CatBoostRegressor(verbose=False)\n",
    "\n",
    "LM_train_R2 = []\n",
    "LM_test_R2 = []\n",
    "\n",
    "CAT_train_R2 = []\n",
    "CAT_test_R2 = []\n",
    "\n",
    "for i in range(5):\n",
    "    X_train_dum, X_test_dum, X_train_le, X_test_le, y_train, y_test = get_train_test(RF,target_feats)\n",
    "    lm.fit(X_train_dum, y_train)\n",
    "    LM_train_R2.append(lm.score(X_train_dum, y_train))\n",
    "    LM_test_R2.append(lm.score(X_test_dum, y_test))\n",
    "   \n",
    "    cat.fit(X_train_le, y_train)\n",
    "    CAT_train_R2.append(cat.score(X_train_le, y_train))\n",
    "    CAT_test_R2.append(cat.score(X_test_le, y_test))\n",
    "    print(i+1)\n",
    "\n",
    "print(f'Linear Model train R2: {np.average(LM_train_R2)}')\n",
    "print(f'Linear Model test R2: {np.average(LM_test_R2)}')\n",
    "print(f'CatBoost train R2: {np.average(CAT_train_R2)}')\n",
    "print(f'CatBoost Model test R2: {np.average(CAT_test_R2)}')"
   ]
  },
  {
   "cell_type": "code",
   "execution_count": 52,
   "id": "e62108af",
   "metadata": {},
   "outputs": [
    {
     "data": {
      "image/png": "[encoded data removed]",
      "text/plain": [
       "<Figure size 504x504 with 1 Axes>"
      ]
     },
     "metadata": {
      "needs_background": "light"
     },
     "output_type": "display_data"
    }
   ],
   "source": [
    "feat_importances = pd.DataFrame(cat.get_feature_importance(), index=X_train_le.columns, columns=['feat_importance'])\n",
    "feat_importances = feat_importances.sort_values(by='feat_importance', ascending=False)\n",
    "\n",
    "f, ax = plt.subplots(figsize=(7, 7))\n",
    "sns.barplot(x='feat_importance', y=feat_importances.index, data=feat_importances, color=\"teal\");"
   ]
  },
  {
   "cell_type": "markdown",
   "id": "98f908c1",
   "metadata": {},
   "source": [
    "# Simplify to single PCA model"
   ]
  },
  {
   "cell_type": "code",
   "execution_count": 53,
   "id": "7354a22f",
   "metadata": {},
   "outputs": [],
   "source": [
    "all_feats = ['Population', 'Blacks_ratio', 'Hispanics_ratio', 'Asians_ratio', \n",
    "             'Indians_ratio', 'Others_ratio', 'Male_ratio', 'HouseholdsPerZipCode', \n",
    "             'MedianAge', 'over_65_ratio', 'IncomePerHousehold', 'NumberOfBusinesses', \n",
    "             'UE_rate', 'HPI', 'Demand_score', 'Supply_score', 'listviews_vs_US', \n",
    "             'med_days_on_mkt', 'nielson_rank']"
   ]
  },
  {
   "cell_type": "code",
   "execution_count": 62,
   "id": "e8a78373",
   "metadata": {},
   "outputs": [
    {
     "name": "stdout",
     "output_type": "stream",
     "text": [
      "population PCA explained: [0.473 0.177 0.106 0.058]\n",
      "number of PCA columns: 4\n"
     ]
    }
   ],
   "source": [
    "pca = PCA(n_components=0.8)\n",
    "pca.fit(data_scaled[all_feats])\n",
    "print(f'population PCA explained: {np.round(pca.explained_variance_ratio_,3)}')\n",
    "print(f'number of PCA columns: {len(pca.explained_variance_ratio_)}')\n",
    "all_PCAs = pd.DataFrame(pca.fit_transform(data_scaled[all_feats]), \n",
    "                        columns=['PCA_'+str(n) for n in range(len(pca.explained_variance_ratio_))], \n",
    "                        index=zipdata.index)"
   ]
  },
  {
   "cell_type": "code",
   "execution_count": 63,
   "id": "d5e9ff19",
   "metadata": {},
   "outputs": [
    {
     "name": "stdout",
     "output_type": "stream",
     "text": [
      "----pulling Redfin data from Azure storage----\n",
      "----Done----\n",
      "(74717, 21)\n"
     ]
    }
   ],
   "source": [
    "RF = get_redfin_csv()\n",
    "print(RF.shape)"
   ]
  },
  {
   "cell_type": "code",
   "execution_count": 64,
   "id": "7ff7efbe",
   "metadata": {},
   "outputs": [],
   "source": [
    "RF = RF.merge(all_PCAs, how = 'left', left_on = 'zip', right_index=True)"
   ]
  },
  {
   "cell_type": "code",
   "execution_count": 65,
   "id": "cf96ee0d",
   "metadata": {},
   "outputs": [
    {
     "data": {
      "text/plain": [
       "Index(['Sale_Type', 'Sold_Date', 'Prop_Type', 'ADDRESS', 'CITY', 'State',\n",
       "       'PRICE', 'BEDS', 'BATHS', 'LOCATION', 'SF', 'Lot_Size', 'YearBuilt',\n",
       "       'Days_on_Mkt', 'px_perSF', 'HOA_perMonth', 'STATUS', 'LATITUDE',\n",
       "       'LONGITUDE', 'zip', 'Detached', 'PCA_0', 'PCA_1', 'PCA_2', 'PCA_3'],\n",
       "      dtype='object')"
      ]
     },
     "execution_count": 65,
     "metadata": {},
     "output_type": "execute_result"
    }
   ],
   "source": [
    "RF.columns"
   ]
  },
  {
   "cell_type": "code",
   "execution_count": 20,
   "id": "7a95c54d",
   "metadata": {},
   "outputs": [
    {
     "name": "stdout",
     "output_type": "stream",
     "text": [
      "1\n",
      "2\n",
      "3\n",
      "4\n",
      "5\n",
      "Linear Model train R2: 0.7555887712904362\n",
      "Linear Model test R2: 0.7327801083383687\n",
      "CatBoost train R2: 0.8689375818550864\n",
      "CatBoost Model test R2: 0.8389679074001288\n"
     ]
    }
   ],
   "source": [
    "target_feats = ['Prop_Type','BEDS','BATHS','SF','Lot_Size','YearBuilt','zip',\n",
    "              'PCA_0', 'PCA_1', 'PCA_2', 'PCA_3','PCA_4']\n",
    "\n",
    "lm = LinearRegression()\n",
    "cat = CatBoostRegressor(verbose=False)\n",
    "\n",
    "LM_train_R2 = []\n",
    "LM_test_R2 = []\n",
    "\n",
    "CAT_train_R2 = []\n",
    "CAT_test_R2 = []\n",
    "\n",
    "for i in range(5):\n",
    "    X_train_dum, X_test_dum, X_train_le, X_test_le, y_train, y_test = get_train_test(RF,target_feats)\n",
    "    lm.fit(X_train_dum, y_train)\n",
    "    LM_train_R2.append(lm.score(X_train_dum, y_train))\n",
    "    LM_test_R2.append(lm.score(X_test_dum, y_test))\n",
    "   \n",
    "    cat.fit(X_train_le, y_train)\n",
    "    CAT_train_R2.append(cat.score(X_train_le, y_train))\n",
    "    CAT_test_R2.append(cat.score(X_test_le, y_test))\n",
    "    print(i+1)\n",
    "\n",
    "print(f'Linear Model train R2: {np.average(LM_train_R2)}')\n",
    "print(f'Linear Model test R2: {np.average(LM_test_R2)}')\n",
    "print(f'CatBoost train R2: {np.average(CAT_train_R2)}')\n",
    "print(f'CatBoost Model test R2: {np.average(CAT_test_R2)}')"
   ]
  },
  {
   "cell_type": "markdown",
   "id": "4a2e1c52",
   "metadata": {},
   "source": [
    "### Add in school and zillow"
   ]
  },
  {
   "cell_type": "code",
   "execution_count": 66,
   "id": "aef9c98d",
   "metadata": {},
   "outputs": [],
   "source": [
    "RF = RF.merge(zipdata[['school_rating','Zillow_HVF','Hosp_count']], how = 'left', left_on = 'zip', right_index=True)"
   ]
  },
  {
   "cell_type": "code",
   "execution_count": 67,
   "id": "2d17785f",
   "metadata": {},
   "outputs": [
    {
     "name": "stdout",
     "output_type": "stream",
     "text": [
      "1\n",
      "2\n",
      "3\n",
      "4\n",
      "5\n",
      "Linear Model train R2: 0.7552290874541436\n",
      "Linear Model test R2: 0.7092257039920138\n",
      "CatBoost train R2: 0.8735131052755645\n",
      "CatBoost Model test R2: 0.8452349133448429\n"
     ]
    }
   ],
   "source": [
    "target_feats = ['Prop_Type','BEDS','BATHS','SF','Lot_Size','YearBuilt','zip',\n",
    "              'PCA_0', 'PCA_1', 'PCA_2', 'PCA_3', 'school_rating','Zillow_HVF']\n",
    "\n",
    "lm = LinearRegression()\n",
    "cat = CatBoostRegressor(verbose=False)\n",
    "\n",
    "LM_train_R2 = []\n",
    "LM_test_R2 = []\n",
    "\n",
    "CAT_train_R2 = []\n",
    "CAT_test_R2 = []\n",
    "\n",
    "for i in range(5):\n",
    "    X_train_dum, X_test_dum, X_train_le, X_test_le, y_train, y_test = get_train_test(RF,target_feats)\n",
    "    lm.fit(X_train_dum, y_train)\n",
    "    LM_train_R2.append(lm.score(X_train_dum, y_train))\n",
    "    LM_test_R2.append(lm.score(X_test_dum, y_test))\n",
    "   \n",
    "    cat.fit(X_train_le, y_train)\n",
    "    CAT_train_R2.append(cat.score(X_train_le, y_train))\n",
    "    CAT_test_R2.append(cat.score(X_test_le, y_test))\n",
    "    print(i+1)\n",
    "\n",
    "print(f'Linear Model train R2: {np.average(LM_train_R2)}')\n",
    "print(f'Linear Model test R2: {np.average(LM_test_R2)}')\n",
    "print(f'CatBoost train R2: {np.average(CAT_train_R2)}')\n",
    "print(f'CatBoost Model test R2: {np.average(CAT_test_R2)}')"
   ]
  },
  {
   "cell_type": "code",
   "execution_count": 68,
   "id": "d463132f",
   "metadata": {
    "scrolled": false
   },
   "outputs": [
    {
     "data": {
      "image/png": "[encoded data removed]",
      "text/plain": [
       "<Figure size 504x504 with 1 Axes>"
      ]
     },
     "metadata": {
      "needs_background": "light"
     },
     "output_type": "display_data"
    }
   ],
   "source": [
    "feat_importances = pd.DataFrame(cat.get_feature_importance(), index=X_train_le.columns, columns=['feat_importance'])\n",
    "feat_importances = feat_importances.sort_values(by='feat_importance', ascending=False)\n",
    "\n",
    "f, ax = plt.subplots(figsize=(7, 7))\n",
    "sns.barplot(x='feat_importance', y=feat_importances.index, data=feat_importances, color=\"teal\");"
   ]
  },
  {
   "cell_type": "code",
   "execution_count": 69,
   "id": "923e606b",
   "metadata": {},
   "outputs": [
    {
     "name": "stdout",
     "output_type": "stream",
     "text": [
      "0.13546468044776117\n"
     ]
    }
   ],
   "source": [
    "from sklearn.metrics import mean_squared_error\n",
    "y_pred = cat.predict(X_test_le)\n",
    "#RMSE\n",
    "print(np.sqrt(mean_squared_error(y_test,y_pred)))"
   ]
  },
  {
   "cell_type": "code",
   "execution_count": null,
   "id": "15778a3e",
   "metadata": {},
   "outputs": [],
   "source": []
  }
 ],
 "metadata": {
  "kernelspec": {
   "display_name": "Python 3",
   "language": "python",
   "name": "python3"
  },
  "language_info": {
   "codemirror_mode": {
    "name": "ipython",
    "version": 3
   },
   "file_extension": ".py",
   "mimetype": "text/x-python",
   "name": "python",
   "nbconvert_exporter": "python",
   "pygments_lexer": "ipython3",
   "version": "3.8.8"
  }
 },
 "nbformat": 4,
 "nbformat_minor": 5
}
