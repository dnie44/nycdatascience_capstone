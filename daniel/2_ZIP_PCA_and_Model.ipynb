{
 "cells": [
  {
   "cell_type": "code",
   "execution_count": 1,
   "id": "aaaf83d9",
   "metadata": {},
   "outputs": [],
   "source": [
    "import pandas as pd\n",
    "import numpy as np\n",
    "\n",
    "import seaborn as sns\n",
    "import matplotlib.pyplot as plt\n",
    "%matplotlib inline \n",
    "\n",
    "from sklearn.decomposition import PCA\n",
    "from sklearn.preprocessing import MinMaxScaler\n",
    "from sklearn.linear_model import LinearRegression, Lasso\n",
    "from sklearn.model_selection import train_test_split\n",
    "from sklearn.preprocessing import LabelEncoder\n",
    "from catboost import CatBoostRegressor\n",
    "\n",
    "from helper_funcs import *"
   ]
  },
  {
   "cell_type": "code",
   "execution_count": 10,
   "id": "232eaa0c",
   "metadata": {},
   "outputs": [
    {
     "name": "stdout",
     "output_type": "stream",
     "text": [
      "----pulling ZipCode data from Azure storage----\n",
      "----Done----\n"
     ]
    },
    {
     "data": {
      "text/plain": [
       "(6987, 43)"
      ]
     },
     "execution_count": 10,
     "metadata": {},
     "output_type": "execute_result"
    }
   ],
   "source": [
    "zipdata = get_zipdata()\n",
    "zipdata.shape"
   ]
  },
  {
   "cell_type": "markdown",
   "id": "3d0017b5",
   "metadata": {},
   "source": [
    "#### Fill the following columns with 0 for NaN values"
   ]
  },
  {
   "cell_type": "code",
   "execution_count": 11,
   "id": "6a4014ad",
   "metadata": {},
   "outputs": [],
   "source": [
    "zipdata.loc[zipdata.over_65_ratio.isna(),'over_65_ratio'] = 0\n",
    "zipdata.loc[zipdata.Hosp_count.isna(),'Hosp_count'] = 0\n",
    "zipdata.loc[zipdata.HPI.isna(),'HPI'] = 0\n",
    "zipdata.loc[zipdata.Demand_score.isna(),'Demand_score'] = 0\n",
    "zipdata.loc[zipdata.Supply_score.isna(),'Supply_score'] = 0\n",
    "zipdata.loc[zipdata.listviews_vs_US.isna(),'listviews_vs_US'] = 0\n",
    "zipdata.loc[zipdata.med_days_on_mkt.isna(),'med_days_on_mkt'] = 0\n",
    "zipdata.loc[zipdata.nielson_rank.isna(),'nielson_rank'] = 0\n",
    "zipdata.loc[zipdata.Zillow_HVF.isna(),'Zillow_HVF'] = 0"
   ]
  },
  {
   "cell_type": "markdown",
   "id": "55137a19",
   "metadata": {},
   "source": [
    "#### Fill the following columns with the Mean for NaN values"
   ]
  },
  {
   "cell_type": "code",
   "execution_count": 12,
   "id": "3164be87",
   "metadata": {},
   "outputs": [],
   "source": [
    "zipdata.loc[zipdata.school_rating.isna(),'school_rating'] = 5\n",
    "zipdata.loc[zipdata.UE_rate.isna(),'UE_rate'] = zipdata.UE_rate.mean()\n",
    "zipdata.loc[zipdata.BEA_percap_income.isna(),'BEA_percap_income'] = zipdata.BEA_percap_income.mean()"
   ]
  },
  {
   "cell_type": "markdown",
   "id": "e8012b4e",
   "metadata": {},
   "source": [
    "#### Remove unused location data, and building permits data for now"
   ]
  },
  {
   "cell_type": "code",
   "execution_count": 13,
   "id": "e8cea738",
   "metadata": {},
   "outputs": [],
   "source": [
    "zipdata.drop(columns=zipdata.columns[-13:], inplace=True)\n",
    "zipdata.drop(columns=zipdata.columns[:5], inplace=True)"
   ]
  },
  {
   "cell_type": "code",
   "execution_count": 14,
   "id": "90a55e3e",
   "metadata": {},
   "outputs": [],
   "source": [
    "zipdata['Blacks_ratio'] = zipdata.BlackPopulation / zipdata.Population\n",
    "zipdata['Hispanics_ratio'] = zipdata.HispanicPopulation / zipdata.Population\n",
    "zipdata['Asians_ratio'] = zipdata.AsianPopulation / zipdata.Population\n",
    "zipdata['Indians_ratio'] = zipdata.IndianPopulation / zipdata.Population\n",
    "zipdata['Others_ratio'] = zipdata.OtherPopulation / zipdata.Population\n",
    "zipdata['Male_ratio'] = zipdata.MalePopulation / zipdata.Population\n",
    "zipdata.loc[zipdata.Blacks_ratio.isna(),'Blacks_ratio'] = 0\n",
    "zipdata.loc[zipdata.Hispanics_ratio.isna(),'Hispanics_ratio'] = 0\n",
    "zipdata.loc[zipdata.Asians_ratio.isna(),'Asians_ratio'] = 0\n",
    "zipdata.loc[zipdata.Indians_ratio.isna(),'Indians_ratio'] = 0\n",
    "zipdata.loc[zipdata.Others_ratio.isna(),'Others_ratio'] = 0\n",
    "zipdata.loc[zipdata.Male_ratio.isna(),'Male_ratio'] = 0\n",
    "\n",
    "zipdata.drop(columns=['BlackPopulation','HispanicPopulation','AsianPopulation','WhitePopulation',\n",
    "                      'IndianPopulation','OtherPopulation','MalePopulation','FemalePopulation'], inplace=True)"
   ]
  },
  {
   "cell_type": "code",
   "execution_count": 15,
   "id": "835e026c",
   "metadata": {},
   "outputs": [
    {
     "data": {
      "text/plain": [
       "Population              0\n",
       "HouseholdsPerZipCode    0\n",
       "AverageHouseValue       0\n",
       "IncomePerHousehold      0\n",
       "MedianAge               0\n",
       "NumberOfBusinesses      0\n",
       "over_65_ratio           0\n",
       "school_rating           0\n",
       "Hosp_count              0\n",
       "HPI                     0\n",
       "Demand_score            0\n",
       "Supply_score            0\n",
       "listviews_vs_US         0\n",
       "med_days_on_mkt         0\n",
       "nielson_rank            0\n",
       "UE_rate                 0\n",
       "Zillow_HVF              0\n",
       "Blacks_ratio            0\n",
       "Hispanics_ratio         0\n",
       "Asians_ratio            0\n",
       "Indians_ratio           0\n",
       "Others_ratio            0\n",
       "Male_ratio              0\n",
       "dtype: int64"
      ]
     },
     "execution_count": 15,
     "metadata": {},
     "output_type": "execute_result"
    }
   ],
   "source": [
    "zipdata.isna().sum()"
   ]
  },
  {
   "cell_type": "markdown",
   "id": "a6bb9ee4",
   "metadata": {},
   "source": [
    "### Create PCAs for each type of data:\n",
    "* Population (Population, Blacks_ratio, Hispanics_ratio, Asians_ratio, Indians_ratio, Others_ratio, Male_ratio, HouseholdsPerZipCode)\n",
    "* Age (MedianAge, over_65_ratio)\n",
    "* Economics (IncomePerHousehold, NumberOfBusinesses, UE_rate)\n",
    "* FRED (HPI, Demand_score, Supply_score, listviews_vs_US, med_days_on_mkt, nielson_rank)\n",
    "\n",
    "Not Included: Zillow, School_rating, Hosp, AverageHouseValue"
   ]
  },
  {
   "cell_type": "code",
   "execution_count": 25,
   "id": "9bfa93b8",
   "metadata": {},
   "outputs": [],
   "source": [
    "pop_feats = ['Population', 'Blacks_ratio', 'Hispanics_ratio', 'Asians_ratio', \n",
    "             'Indians_ratio', 'Others_ratio', 'Male_ratio', 'HouseholdsPerZipCode']\n",
    "age_feats = ['MedianAge', 'over_65_ratio']\n",
    "econ_feats = ['IncomePerHousehold', 'NumberOfBusinesses', 'UE_rate']\n",
    "fred_feats = ['HPI', 'Demand_score', 'Supply_score', 'listviews_vs_US', 'med_days_on_mkt', 'nielson_rank']"
   ]
  },
  {
   "cell_type": "markdown",
   "id": "cf19c046",
   "metadata": {},
   "source": [
    "### 🎚️ Scale data before clustering"
   ]
  },
  {
   "cell_type": "code",
   "execution_count": 26,
   "id": "4d65e559",
   "metadata": {},
   "outputs": [],
   "source": [
    "mms = MinMaxScaler()\n",
    "# REMOVE AverageHouseValue\n",
    "data_scaled = pd.DataFrame(mms.fit_transform(zipdata.drop(columns='AverageHouseValue').values), \n",
    "                           columns=zipdata.drop(columns='AverageHouseValue').columns, \n",
    "                           index=zipdata.drop(columns='AverageHouseValue').index)"
   ]
  },
  {
   "cell_type": "code",
   "execution_count": 50,
   "id": "dab93ca8",
   "metadata": {},
   "outputs": [
    {
     "name": "stdout",
     "output_type": "stream",
     "text": [
      "population PCA explained: [0.531 0.211 0.147]\n",
      "number of PCA columns: 3\n",
      "---------------------------------\n",
      "Age PCA explained: [0.924]\n",
      "number of PCA columns: 1\n",
      "---------------------------------\n",
      "Econ PCA explained: [0.496 0.346]\n",
      "number of PCA columns: 2\n",
      "---------------------------------\n",
      "FRED PCA explained: [0.718 0.154]\n",
      "number of PCA columns: 2\n"
     ]
    }
   ],
   "source": [
    "pca = PCA(n_components=0.8)\n",
    "pca.fit(data_scaled[pop_feats])\n",
    "print(f'population PCA explained: {np.round(pca.explained_variance_ratio_,3)}')\n",
    "print(f'number of PCA columns: {len(pca.explained_variance_ratio_)}')\n",
    "pop_PCAs = pd.DataFrame(pca.fit_transform(data_scaled[pop_feats]), \n",
    "                        columns=['popPCA_'+str(n) for n in range(len(pca.explained_variance_ratio_))], \n",
    "                        index=zipdata.index)\n",
    "\n",
    "print('---------------------------------')\n",
    "pca.fit(data_scaled[age_feats])\n",
    "print(f'Age PCA explained: {np.round(pca.explained_variance_ratio_,3)}')\n",
    "print(f'number of PCA columns: {len(pca.explained_variance_ratio_)}')\n",
    "age_PCAs = pd.DataFrame(pca.fit_transform(data_scaled[age_feats]), \n",
    "                        columns=['agePCA_'+str(n) for n in range(len(pca.explained_variance_ratio_))], \n",
    "                        index=zipdata.index)\n",
    "\n",
    "print('---------------------------------')\n",
    "pca.fit(data_scaled[econ_feats])\n",
    "print(f'Econ PCA explained: {np.round(pca.explained_variance_ratio_,3)}')\n",
    "print(f'number of PCA columns: {len(pca.explained_variance_ratio_)}')\n",
    "econ_PCAs = pd.DataFrame(pca.fit_transform(data_scaled[econ_feats]), \n",
    "                        columns=['econPCA_'+str(n) for n in range(len(pca.explained_variance_ratio_))], \n",
    "                        index=zipdata.index)\n",
    "\n",
    "print('---------------------------------')\n",
    "pca.fit(data_scaled[fred_feats])\n",
    "print(f'FRED PCA explained: {np.round(pca.explained_variance_ratio_,3)}')\n",
    "print(f'number of PCA columns: {len(pca.explained_variance_ratio_)}')\n",
    "fred_PCAs = pd.DataFrame(pca.fit_transform(data_scaled[fred_feats]), \n",
    "                        columns=['fredPCA_'+str(n) for n in range(len(pca.explained_variance_ratio_))], \n",
    "                        index=zipdata.index)"
   ]
  },
  {
   "cell_type": "markdown",
   "id": "d8bdb703",
   "metadata": {},
   "source": [
    "## 🎰 Model with PCAs"
   ]
  },
  {
   "cell_type": "code",
   "execution_count": 54,
   "id": "114f8b7e",
   "metadata": {},
   "outputs": [
    {
     "name": "stdout",
     "output_type": "stream",
     "text": [
      "----pulling Redfin data from Azure storage----\n",
      "----Done----\n",
      "(74717, 21)\n"
     ]
    }
   ],
   "source": [
    "RF = get_redfin_csv()\n",
    "print(RF.shape)"
   ]
  },
  {
   "cell_type": "markdown",
   "id": "b8082011",
   "metadata": {},
   "source": [
    "#### Merge PCA data into House data"
   ]
  },
  {
   "cell_type": "code",
   "execution_count": 55,
   "id": "9fd797ae",
   "metadata": {},
   "outputs": [
    {
     "name": "stdout",
     "output_type": "stream",
     "text": [
      "shape before merge: (74717, 21)\n",
      "shape after merge: (74717, 29)\n"
     ]
    }
   ],
   "source": [
    "print(f'shape before merge: {RF.shape}')\n",
    "\n",
    "for each in [pop_PCAs, age_PCAs, econ_PCAs, fred_PCAs]:\n",
    "    RF = RF.merge(each, how = 'left', left_on = 'zip', right_index=True)\n",
    "\n",
    "print(f'shape after merge: {RF.shape}')"
   ]
  },
  {
   "cell_type": "code",
   "execution_count": 56,
   "id": "03c34d77",
   "metadata": {},
   "outputs": [
    {
     "data": {
      "text/plain": [
       "Index(['Sale_Type', 'Sold_Date', 'Prop_Type', 'ADDRESS', 'CITY', 'State',\n",
       "       'PRICE', 'BEDS', 'BATHS', 'LOCATION', 'SF', 'Lot_Size', 'YearBuilt',\n",
       "       'Days_on_Mkt', 'px_perSF', 'HOA_perMonth', 'STATUS', 'LATITUDE',\n",
       "       'LONGITUDE', 'zip', 'Detached', 'popPCA_0', 'popPCA_1', 'popPCA_2',\n",
       "       'agePCA_0', 'econPCA_0', 'econPCA_1', 'fredPCA_0', 'fredPCA_1'],\n",
       "      dtype='object')"
      ]
     },
     "execution_count": 56,
     "metadata": {},
     "output_type": "execute_result"
    }
   ],
   "source": [
    "RF.columns"
   ]
  },
  {
   "cell_type": "code",
   "execution_count": 57,
   "id": "db179521",
   "metadata": {},
   "outputs": [
    {
     "name": "stdout",
     "output_type": "stream",
     "text": [
      "X_train rows: (54473, 15)\n",
      "X_test rows: (19083, 15)\n"
     ]
    }
   ],
   "source": [
    "#pd.set_option('display.max_rows', None)\n",
    "zip_houses = RF.groupby('zip').agg('count')['PRICE'].to_dict()\n",
    "RF['houses_perZIP'] = RF.zip.apply(lambda r: zip_houses[r])\n",
    "RF = RF[RF.houses_perZIP>4]\n",
    "# Use groupby to split the df into smaller dfs for each ZIP\n",
    "groups = RF.groupby('zip')\n",
    "dfs = [groups.get_group(x) for x in groups.groups]\n",
    "# Use first df to initiate X_train, X_test, etc\n",
    "for d in dfs[:1]:\n",
    "    feat = d[['Prop_Type','BEDS','BATHS','SF','Lot_Size','YearBuilt','zip','popPCA_0', 'popPCA_1', \n",
    "              'popPCA_2', 'agePCA_0', 'econPCA_0', 'econPCA_1', 'fredPCA_0', 'fredPCA_1']]\n",
    "    feat.zip = feat.zip.astype('object')\n",
    "    y = np.log10(d.PRICE)\n",
    "    X_train, X_test, y_train, y_test = train_test_split(feat, y)\n",
    "# train_test_split each df then stack together\n",
    "for d in dfs[1:]:\n",
    "    feat = d[['Prop_Type','BEDS','BATHS','SF','Lot_Size','YearBuilt','zip','popPCA_0', 'popPCA_1', \n",
    "              'popPCA_2', 'agePCA_0', 'econPCA_0', 'econPCA_1', 'fredPCA_0', 'fredPCA_1']]\n",
    "    feat.zip = feat.zip.astype('object')\n",
    "    y = np.log10(d.PRICE)\n",
    "    X_trainpiece, X_testpiece, y_trainpiece, y_testpiece = train_test_split(feat, y, test_size=0.25)\n",
    "    X_train = X_train.append(X_trainpiece)\n",
    "    X_test = X_test.append(X_testpiece)\n",
    "    y_train = y_train.append(y_trainpiece)\n",
    "    y_test = y_test.append(y_testpiece)\n",
    "# Check rows\n",
    "print(f'X_train rows: {X_train.shape}')\n",
    "print(f'X_test rows: {X_test.shape}')"
   ]
  },
  {
   "cell_type": "code",
   "execution_count": 58,
   "id": "2b232f68",
   "metadata": {},
   "outputs": [],
   "source": [
    "X_train_dum = pd.get_dummies(X_train, drop_first=True)\n",
    "X_test_dum = pd.get_dummies(X_test, drop_first=True)"
   ]
  },
  {
   "cell_type": "code",
   "execution_count": 59,
   "id": "6f3c3510",
   "metadata": {},
   "outputs": [
    {
     "name": "stdout",
     "output_type": "stream",
     "text": [
      "train R2: 0.7544375624675851\n",
      "train R2: 0.7383289699453176\n"
     ]
    }
   ],
   "source": [
    "lm = LinearRegression()\n",
    "lm.fit(X_train_dum, y_train)\n",
    "print(f'train R2: {lm.score(X_train_dum, y_train)}')\n",
    "print(f'train R2: {lm.score(X_test_dum, y_test)}')"
   ]
  },
  {
   "cell_type": "code",
   "execution_count": 60,
   "id": "d5ccdd47",
   "metadata": {},
   "outputs": [],
   "source": [
    "X_train_le = X_train.copy()\n",
    "X_test_le = X_test.copy()\n",
    "\n",
    "le = LabelEncoder()\n",
    "X_train_le.Prop_Type = le.fit_transform(X_train_le.Prop_Type)\n",
    "X_test_le.Prop_Type = le.fit_transform(X_test_le.Prop_Type)\n",
    "X_train_le.zip = le.fit_transform(X_train_le.zip)\n",
    "X_test_le.zip = le.fit_transform(X_test_le.zip)"
   ]
  },
  {
   "cell_type": "code",
   "execution_count": 61,
   "id": "0f446584",
   "metadata": {},
   "outputs": [
    {
     "name": "stdout",
     "output_type": "stream",
     "text": [
      "Train R2: 0.8774764140192512\n",
      "Test R2: 0.8497458178733501\n"
     ]
    }
   ],
   "source": [
    "cat = CatBoostRegressor(verbose=False)\n",
    "cat.fit(X_train_le, y_train)\n",
    "print(f'Train R2: {cat.score(X_train_le, y_train)}')\n",
    "print(f'Test R2: {cat.score(X_test_le, y_test)}')"
   ]
  },
  {
   "cell_type": "markdown",
   "id": "2e370e7a",
   "metadata": {},
   "source": [
    "### Try again with school_rating, Zillow, Hosp"
   ]
  },
  {
   "cell_type": "code",
   "execution_count": 63,
   "id": "b8bf7387",
   "metadata": {},
   "outputs": [],
   "source": [
    "RF = RF.merge(zipdata[['school_rating','Zillow_HVF','Hosp_count']], how = 'left', left_on = 'zip', right_index=True)"
   ]
  },
  {
   "cell_type": "code",
   "execution_count": 69,
   "id": "072a8823",
   "metadata": {},
   "outputs": [
    {
     "name": "stdout",
     "output_type": "stream",
     "text": [
      "X_train rows: (54473, 18)\n",
      "X_test rows: (19083, 18)\n"
     ]
    }
   ],
   "source": [
    "#pd.set_option('display.max_rows', None)\n",
    "zip_houses = RF.groupby('zip').agg('count')['PRICE'].to_dict()\n",
    "RF['houses_perZIP'] = RF.zip.apply(lambda r: zip_houses[r])\n",
    "RF = RF[RF.houses_perZIP>4]\n",
    "# Use groupby to split the df into smaller dfs for each ZIP\n",
    "groups = RF.groupby('zip')\n",
    "dfs = [groups.get_group(x) for x in groups.groups]\n",
    "# Use first df to initiate X_train, X_test, etc\n",
    "for d in dfs[:1]:\n",
    "    feat = d[['Prop_Type','BEDS','BATHS','SF','Lot_Size','YearBuilt','zip','popPCA_0', 'popPCA_1', \n",
    "              'popPCA_2', 'agePCA_0', 'econPCA_0', 'econPCA_1', 'fredPCA_0', 'fredPCA_1', \n",
    "              'school_rating','Zillow_HVF','Hosp_count']]\n",
    "    feat.zip = feat.zip.astype('object')\n",
    "    y = np.log10(d.PRICE)\n",
    "    X_train, X_test, y_train, y_test = train_test_split(feat, y)\n",
    "# train_test_split each df then stack together\n",
    "for d in dfs[1:]:\n",
    "    feat = d[['Prop_Type','BEDS','BATHS','SF','Lot_Size','YearBuilt','zip','popPCA_0', 'popPCA_1', \n",
    "              'popPCA_2', 'agePCA_0', 'econPCA_0', 'econPCA_1', 'fredPCA_0', 'fredPCA_1', \n",
    "              'school_rating','Zillow_HVF','Hosp_count']]\n",
    "    feat.zip = feat.zip.astype('object')\n",
    "    y = np.log10(d.PRICE)\n",
    "    X_trainpiece, X_testpiece, y_trainpiece, y_testpiece = train_test_split(feat, y, test_size=0.25)\n",
    "    X_train = X_train.append(X_trainpiece)\n",
    "    X_test = X_test.append(X_testpiece)\n",
    "    y_train = y_train.append(y_trainpiece)\n",
    "    y_test = y_test.append(y_testpiece)\n",
    "# Check rows\n",
    "print(f'X_train rows: {X_train.shape}')\n",
    "print(f'X_test rows: {X_test.shape}')"
   ]
  },
  {
   "cell_type": "code",
   "execution_count": 70,
   "id": "4a5ef2a7",
   "metadata": {},
   "outputs": [],
   "source": [
    "X_train_dum = pd.get_dummies(X_train, drop_first=True)\n",
    "X_test_dum = pd.get_dummies(X_test, drop_first=True)"
   ]
  },
  {
   "cell_type": "code",
   "execution_count": 71,
   "id": "5385b65d",
   "metadata": {},
   "outputs": [
    {
     "name": "stdout",
     "output_type": "stream",
     "text": [
      "train R2: 0.7529584348010312\n",
      "train R2: 0.72927650843853\n"
     ]
    }
   ],
   "source": [
    "lm = LinearRegression()\n",
    "lm.fit(X_train_dum, y_train)\n",
    "print(f'train R2: {lm.score(X_train_dum, y_train)}')\n",
    "print(f'train R2: {lm.score(X_test_dum, y_test)}')"
   ]
  },
  {
   "cell_type": "code",
   "execution_count": 72,
   "id": "d10e5514",
   "metadata": {},
   "outputs": [],
   "source": [
    "X_train_le = X_train.copy()\n",
    "X_test_le = X_test.copy()\n",
    "\n",
    "le = LabelEncoder()\n",
    "X_train_le.Prop_Type = le.fit_transform(X_train_le.Prop_Type)\n",
    "X_test_le.Prop_Type = le.fit_transform(X_test_le.Prop_Type)\n",
    "X_train_le.zip = le.fit_transform(X_train_le.zip)\n",
    "X_test_le.zip = le.fit_transform(X_test_le.zip)"
   ]
  },
  {
   "cell_type": "code",
   "execution_count": 73,
   "id": "09d2d093",
   "metadata": {},
   "outputs": [
    {
     "name": "stdout",
     "output_type": "stream",
     "text": [
      "Train R2: 0.881901543038963\n",
      "Test R2: 0.8479981814831894\n"
     ]
    }
   ],
   "source": [
    "cat = CatBoostRegressor(verbose=False)\n",
    "cat.fit(X_train_le, y_train)\n",
    "print(f'Train R2: {cat.score(X_train_le, y_train)}')\n",
    "print(f'Test R2: {cat.score(X_test_le, y_test)}')"
   ]
  },
  {
   "cell_type": "code",
   "execution_count": 74,
   "id": "e62108af",
   "metadata": {},
   "outputs": [
    {
     "data": {
      "image/png": "[encoded data removed]",
      "text/plain": [
       "<Figure size 504x504 with 1 Axes>"
      ]
     },
     "metadata": {
      "needs_background": "light"
     },
     "output_type": "display_data"
    }
   ],
   "source": [
    "feat_importances = pd.DataFrame(cat.get_feature_importance(), index=X_train_le.columns, columns=['feat_importance'])\n",
    "feat_importances = feat_importances.sort_values(by='feat_importance', ascending=False)\n",
    "\n",
    "f, ax = plt.subplots(figsize=(7, 7))\n",
    "sns.barplot(x='feat_importance', y=feat_importances.index, data=feat_importances, color=\"teal\");"
   ]
  },
  {
   "cell_type": "markdown",
   "id": "98f908c1",
   "metadata": {},
   "source": [
    "# Simplify to single PCA model"
   ]
  },
  {
   "cell_type": "code",
   "execution_count": 75,
   "id": "7354a22f",
   "metadata": {},
   "outputs": [],
   "source": [
    "all_feats = ['Population', 'Blacks_ratio', 'Hispanics_ratio', 'Asians_ratio', \n",
    "             'Indians_ratio', 'Others_ratio', 'Male_ratio', 'HouseholdsPerZipCode', \n",
    "             'MedianAge', 'over_65_ratio', 'IncomePerHousehold', 'NumberOfBusinesses', \n",
    "             'UE_rate', 'HPI', 'Demand_score', 'Supply_score', 'listviews_vs_US', \n",
    "             'med_days_on_mkt', 'nielson_rank']"
   ]
  },
  {
   "cell_type": "code",
   "execution_count": 80,
   "id": "e8a78373",
   "metadata": {},
   "outputs": [
    {
     "name": "stdout",
     "output_type": "stream",
     "text": [
      "population PCA explained: [0.473 0.177 0.106 0.058 0.046]\n",
      "number of PCA columns: 5\n"
     ]
    }
   ],
   "source": [
    "pca = PCA(n_components=0.85)\n",
    "pca.fit(data_scaled[all_feats])\n",
    "print(f'population PCA explained: {np.round(pca.explained_variance_ratio_,3)}')\n",
    "print(f'number of PCA columns: {len(pca.explained_variance_ratio_)}')\n",
    "all_PCAs = pd.DataFrame(pca.fit_transform(data_scaled[all_feats]), \n",
    "                        columns=['PCA_'+str(n) for n in range(len(pca.explained_variance_ratio_))], \n",
    "                        index=zipdata.index)"
   ]
  },
  {
   "cell_type": "code",
   "execution_count": 81,
   "id": "d5e9ff19",
   "metadata": {},
   "outputs": [
    {
     "name": "stdout",
     "output_type": "stream",
     "text": [
      "----pulling Redfin data from Azure storage----\n",
      "----Done----\n",
      "(74717, 21)\n"
     ]
    }
   ],
   "source": [
    "RF = get_redfin_csv()\n",
    "print(RF.shape)"
   ]
  },
  {
   "cell_type": "code",
   "execution_count": 82,
   "id": "7ff7efbe",
   "metadata": {},
   "outputs": [],
   "source": [
    "RF = RF.merge(all_PCAs, how = 'left', left_on = 'zip', right_index=True)"
   ]
  },
  {
   "cell_type": "code",
   "execution_count": 83,
   "id": "cf96ee0d",
   "metadata": {},
   "outputs": [
    {
     "data": {
      "text/plain": [
       "Index(['Sale_Type', 'Sold_Date', 'Prop_Type', 'ADDRESS', 'CITY', 'State',\n",
       "       'PRICE', 'BEDS', 'BATHS', 'LOCATION', 'SF', 'Lot_Size', 'YearBuilt',\n",
       "       'Days_on_Mkt', 'px_perSF', 'HOA_perMonth', 'STATUS', 'LATITUDE',\n",
       "       'LONGITUDE', 'zip', 'Detached', 'PCA_0', 'PCA_1', 'PCA_2', 'PCA_3',\n",
       "       'PCA_4'],\n",
       "      dtype='object')"
      ]
     },
     "execution_count": 83,
     "metadata": {},
     "output_type": "execute_result"
    }
   ],
   "source": [
    "RF.columns"
   ]
  },
  {
   "cell_type": "code",
   "execution_count": 84,
   "id": "99093ade",
   "metadata": {},
   "outputs": [
    {
     "name": "stdout",
     "output_type": "stream",
     "text": [
      "X_train rows: (54473, 12)\n",
      "X_test rows: (19083, 12)\n"
     ]
    }
   ],
   "source": [
    "#pd.set_option('display.max_rows', None)\n",
    "zip_houses = RF.groupby('zip').agg('count')['PRICE'].to_dict()\n",
    "RF['houses_perZIP'] = RF.zip.apply(lambda r: zip_houses[r])\n",
    "RF = RF[RF.houses_perZIP>4]\n",
    "# Use groupby to split the df into smaller dfs for each ZIP\n",
    "groups = RF.groupby('zip')\n",
    "dfs = [groups.get_group(x) for x in groups.groups]\n",
    "# Use first df to initiate X_train, X_test, etc\n",
    "for d in dfs[:1]:\n",
    "    feat = d[['Prop_Type','BEDS','BATHS','SF','Lot_Size','YearBuilt','zip',\n",
    "              'PCA_0', 'PCA_1', 'PCA_2', 'PCA_3','PCA_4']]\n",
    "    feat.zip = feat.zip.astype('object')\n",
    "    y = np.log10(d.PRICE)\n",
    "    X_train, X_test, y_train, y_test = train_test_split(feat, y)\n",
    "# train_test_split each df then stack together\n",
    "for d in dfs[1:]:\n",
    "    feat = d[['Prop_Type','BEDS','BATHS','SF','Lot_Size','YearBuilt','zip',\n",
    "              'PCA_0', 'PCA_1', 'PCA_2', 'PCA_3','PCA_4']]\n",
    "    feat.zip = feat.zip.astype('object')\n",
    "    y = np.log10(d.PRICE)\n",
    "    X_trainpiece, X_testpiece, y_trainpiece, y_testpiece = train_test_split(feat, y, test_size=0.25)\n",
    "    X_train = X_train.append(X_trainpiece)\n",
    "    X_test = X_test.append(X_testpiece)\n",
    "    y_train = y_train.append(y_trainpiece)\n",
    "    y_test = y_test.append(y_testpiece)\n",
    "# Check rows\n",
    "print(f'X_train rows: {X_train.shape}')\n",
    "print(f'X_test rows: {X_test.shape}')"
   ]
  },
  {
   "cell_type": "code",
   "execution_count": 85,
   "id": "f5a5c5c3",
   "metadata": {},
   "outputs": [
    {
     "name": "stdout",
     "output_type": "stream",
     "text": [
      "train R2: 0.7573920029367731\n",
      "train R2: 0.6443164788536447\n"
     ]
    }
   ],
   "source": [
    "X_train_dum = pd.get_dummies(X_train, drop_first=True)\n",
    "X_test_dum = pd.get_dummies(X_test, drop_first=True)\n",
    "lm = LinearRegression()\n",
    "lm.fit(X_train_dum, y_train)\n",
    "print(f'train R2: {lm.score(X_train_dum, y_train)}')\n",
    "print(f'train R2: {lm.score(X_test_dum, y_test)}')"
   ]
  },
  {
   "cell_type": "code",
   "execution_count": 86,
   "id": "20c1e5d0",
   "metadata": {},
   "outputs": [],
   "source": [
    "X_train_le = X_train.copy()\n",
    "X_test_le = X_test.copy()\n",
    "\n",
    "le = LabelEncoder()\n",
    "X_train_le.Prop_Type = le.fit_transform(X_train_le.Prop_Type)\n",
    "X_test_le.Prop_Type = le.fit_transform(X_test_le.Prop_Type)\n",
    "X_train_le.zip = le.fit_transform(X_train_le.zip)\n",
    "X_test_le.zip = le.fit_transform(X_test_le.zip)"
   ]
  },
  {
   "cell_type": "code",
   "execution_count": 87,
   "id": "9cd8a359",
   "metadata": {},
   "outputs": [
    {
     "name": "stdout",
     "output_type": "stream",
     "text": [
      "Train R2: 0.8667727390671047\n",
      "Test R2: 0.8446055271997458\n"
     ]
    }
   ],
   "source": [
    "cat = CatBoostRegressor(verbose=False)\n",
    "cat.fit(X_train_le, y_train)\n",
    "print(f'Train R2: {cat.score(X_train_le, y_train)}')\n",
    "print(f'Test R2: {cat.score(X_test_le, y_test)}')"
   ]
  },
  {
   "cell_type": "code",
   "execution_count": 88,
   "id": "aef9c98d",
   "metadata": {},
   "outputs": [],
   "source": [
    "RF = RF.merge(zipdata[['school_rating','Zillow_HVF','Hosp_count']], how = 'left', left_on = 'zip', right_index=True)"
   ]
  },
  {
   "cell_type": "code",
   "execution_count": 89,
   "id": "5f5e0245",
   "metadata": {},
   "outputs": [
    {
     "name": "stdout",
     "output_type": "stream",
     "text": [
      "X_train rows: (54473, 15)\n",
      "X_test rows: (19083, 15)\n"
     ]
    }
   ],
   "source": [
    "#pd.set_option('display.max_rows', None)\n",
    "zip_houses = RF.groupby('zip').agg('count')['PRICE'].to_dict()\n",
    "RF['houses_perZIP'] = RF.zip.apply(lambda r: zip_houses[r])\n",
    "RF = RF[RF.houses_perZIP>4]\n",
    "# Use groupby to split the df into smaller dfs for each ZIP\n",
    "groups = RF.groupby('zip')\n",
    "dfs = [groups.get_group(x) for x in groups.groups]\n",
    "# Use first df to initiate X_train, X_test, etc\n",
    "for d in dfs[:1]:\n",
    "    feat = d[['Prop_Type','BEDS','BATHS','SF','Lot_Size','YearBuilt','zip',\n",
    "              'PCA_0', 'PCA_1', 'PCA_2', 'PCA_3','PCA_4','school_rating','Zillow_HVF','Hosp_count']]\n",
    "    feat.zip = feat.zip.astype('object')\n",
    "    y = np.log10(d.PRICE)\n",
    "    X_train, X_test, y_train, y_test = train_test_split(feat, y, test_size=0.25)\n",
    "# train_test_split each df then stack together\n",
    "for d in dfs[1:]:\n",
    "    feat = d[['Prop_Type','BEDS','BATHS','SF','Lot_Size','YearBuilt','zip',\n",
    "              'PCA_0', 'PCA_1', 'PCA_2', 'PCA_3','PCA_4','school_rating','Zillow_HVF','Hosp_count']]\n",
    "    feat.zip = feat.zip.astype('object')\n",
    "    y = np.log10(d.PRICE)\n",
    "    X_trainpiece, X_testpiece, y_trainpiece, y_testpiece = train_test_split(feat, y, test_size=0.25)\n",
    "    X_train = X_train.append(X_trainpiece)\n",
    "    X_test = X_test.append(X_testpiece)\n",
    "    y_train = y_train.append(y_trainpiece)\n",
    "    y_test = y_test.append(y_testpiece)\n",
    "# Check rows\n",
    "print(f'X_train rows: {X_train.shape}')\n",
    "print(f'X_test rows: {X_test.shape}')"
   ]
  },
  {
   "cell_type": "code",
   "execution_count": 90,
   "id": "2656eb35",
   "metadata": {},
   "outputs": [
    {
     "name": "stdout",
     "output_type": "stream",
     "text": [
      "train R2: 0.7521496450225066\n",
      "train R2: 0.7450510358898367\n"
     ]
    }
   ],
   "source": [
    "X_train_dum = pd.get_dummies(X_train, drop_first=True)\n",
    "X_test_dum = pd.get_dummies(X_test, drop_first=True)\n",
    "lm = LinearRegression()\n",
    "lm.fit(X_train_dum, y_train)\n",
    "print(f'train R2: {lm.score(X_train_dum, y_train)}')\n",
    "print(f'train R2: {lm.score(X_test_dum, y_test)}')"
   ]
  },
  {
   "cell_type": "code",
   "execution_count": 91,
   "id": "b14b0894",
   "metadata": {},
   "outputs": [],
   "source": [
    "X_train_le = X_train.copy()\n",
    "X_test_le = X_test.copy()\n",
    "\n",
    "le = LabelEncoder()\n",
    "X_train_le.Prop_Type = le.fit_transform(X_train_le.Prop_Type)\n",
    "X_test_le.Prop_Type = le.fit_transform(X_test_le.Prop_Type)\n",
    "X_train_le.zip = le.fit_transform(X_train_le.zip)\n",
    "X_test_le.zip = le.fit_transform(X_test_le.zip)"
   ]
  },
  {
   "cell_type": "code",
   "execution_count": 92,
   "id": "0a9e8913",
   "metadata": {},
   "outputs": [
    {
     "name": "stdout",
     "output_type": "stream",
     "text": [
      "Train R2: 0.8737773909818538\n",
      "Test R2: 0.8515443671206918\n"
     ]
    }
   ],
   "source": [
    "cat = CatBoostRegressor(verbose=False)\n",
    "cat.fit(X_train_le, y_train)\n",
    "print(f'Train R2: {cat.score(X_train_le, y_train)}')\n",
    "print(f'Test R2: {cat.score(X_test_le, y_test)}')"
   ]
  },
  {
   "cell_type": "code",
   "execution_count": 93,
   "id": "d463132f",
   "metadata": {},
   "outputs": [
    {
     "data": {
      "image/png": "[encoded data removed]",
      "text/plain": [
       "<Figure size 504x504 with 1 Axes>"
      ]
     },
     "metadata": {
      "needs_background": "light"
     },
     "output_type": "display_data"
    }
   ],
   "source": [
    "feat_importances = pd.DataFrame(cat.get_feature_importance(), index=X_train_le.columns, columns=['feat_importance'])\n",
    "feat_importances = feat_importances.sort_values(by='feat_importance', ascending=False)\n",
    "\n",
    "f, ax = plt.subplots(figsize=(7, 7))\n",
    "sns.barplot(x='feat_importance', y=feat_importances.index, data=feat_importances, color=\"teal\");"
   ]
  },
  {
   "cell_type": "code",
   "execution_count": null,
   "id": "923e606b",
   "metadata": {},
   "outputs": [],
   "source": []
  }
 ],
 "metadata": {
  "kernelspec": {
   "display_name": "Python 3",
   "language": "python",
   "name": "python3"
  },
  "language_info": {
   "codemirror_mode": {
    "name": "ipython",
    "version": 3
   },
   "file_extension": ".py",
   "mimetype": "text/x-python",
   "name": "python",
   "nbconvert_exporter": "python",
   "pygments_lexer": "ipython3",
   "version": "3.8.8"
  }
 },
 "nbformat": 4,
 "nbformat_minor": 5
}
