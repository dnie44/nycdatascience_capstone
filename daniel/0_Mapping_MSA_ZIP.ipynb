{
 "cells": [
  {
   "cell_type": "code",
   "execution_count": 1,
   "id": "1afb55d8",
   "metadata": {},
   "outputs": [],
   "source": [
    "import pandas as pd\n",
    "import numpy as np"
   ]
  },
  {
   "cell_type": "code",
   "execution_count": 21,
   "id": "3e58d502",
   "metadata": {},
   "outputs": [],
   "source": [
    "msa_fips = pd.read_excel('MSA_FIPS.xls', header=2, dtype={'FIPS State Code':'string','FIPS County Code':'string'})\n",
    "msa_fips = msa_fips[~msa_fips['CBSA Title'].isna()]"
   ]
  },
  {
   "cell_type": "code",
   "execution_count": 30,
   "id": "57a6085d",
   "metadata": {},
   "outputs": [],
   "source": [
    "msa_fips['FIPS'] = msa_fips['FIPS State Code']+msa_fips['FIPS County Code']\n",
    "msa_fips = msa_fips.groupby('CBSA Title').FIPS.unique().to_frame()\n",
    "msa_fips = msa_fips.reset_index().rename(columns={'CBSA Title':'CBSA_name'})"
   ]
  },
  {
   "cell_type": "code",
   "execution_count": 59,
   "id": "42e1bcd8",
   "metadata": {},
   "outputs": [
    {
     "data": {
      "text/html": [
       "<div>\n",
       "<style scoped>\n",
       "    .dataframe tbody tr th:only-of-type {\n",
       "        vertical-align: middle;\n",
       "    }\n",
       "\n",
       "    .dataframe tbody tr th {\n",
       "        vertical-align: top;\n",
       "    }\n",
       "\n",
       "    .dataframe thead th {\n",
       "        text-align: right;\n",
       "    }\n",
       "</style>\n",
       "<table border=\"1\" class=\"dataframe\">\n",
       "  <thead>\n",
       "    <tr style=\"text-align: right;\">\n",
       "      <th></th>\n",
       "      <th>CBSA_name</th>\n",
       "      <th>FIPS</th>\n",
       "    </tr>\n",
       "  </thead>\n",
       "  <tbody>\n",
       "    <tr>\n",
       "      <th>0</th>\n",
       "      <td>Aberdeen, SD</td>\n",
       "      <td>[46013, 46045]</td>\n",
       "    </tr>\n",
       "    <tr>\n",
       "      <th>1</th>\n",
       "      <td>Aberdeen, WA</td>\n",
       "      <td>[53027]</td>\n",
       "    </tr>\n",
       "    <tr>\n",
       "      <th>2</th>\n",
       "      <td>Abilene, TX</td>\n",
       "      <td>[48059, 48253, 48441]</td>\n",
       "    </tr>\n",
       "    <tr>\n",
       "      <th>3</th>\n",
       "      <td>Ada, OK</td>\n",
       "      <td>[40123]</td>\n",
       "    </tr>\n",
       "    <tr>\n",
       "      <th>4</th>\n",
       "      <td>Adrian, MI</td>\n",
       "      <td>[26091]</td>\n",
       "    </tr>\n",
       "  </tbody>\n",
       "</table>\n",
       "</div>"
      ],
      "text/plain": [
       "      CBSA_name                   FIPS\n",
       "0  Aberdeen, SD         [46013, 46045]\n",
       "1  Aberdeen, WA                [53027]\n",
       "2   Abilene, TX  [48059, 48253, 48441]\n",
       "3       Ada, OK                [40123]\n",
       "4    Adrian, MI                [26091]"
      ]
     },
     "execution_count": 59,
     "metadata": {},
     "output_type": "execute_result"
    }
   ],
   "source": [
    "msa_fips.head()"
   ]
  },
  {
   "cell_type": "code",
   "execution_count": 72,
   "id": "63b67791",
   "metadata": {},
   "outputs": [
    {
     "data": {
      "text/plain": [
       "array([57460, 57439, 57434, 57449, 57474, 57461, 57445, 57432, 57479,\n",
       "       57451, 57433, 57402, 57426, 57401, 57481, 57422, 57427, 57441,\n",
       "       57446], dtype=int64)"
      ]
     },
     "execution_count": 72,
     "metadata": {},
     "output_type": "execute_result"
    }
   ],
   "source": [
    "fip_zips = pd.read_csv('ZIP_FIPS.csv')\n",
    "fip_zips = fip_zips.groupby('STCOUNTYFP').ZIP.unique()\n",
    "fip_zips[46013]"
   ]
  },
  {
   "cell_type": "code",
   "execution_count": 80,
   "id": "3fb1e577",
   "metadata": {},
   "outputs": [],
   "source": [
    "msa_fips['ZIPS'] = msa_fips.FIPS.apply(lambda x: [fip_zips[int(each)] for each in list(x)])"
   ]
  },
  {
   "cell_type": "code",
   "execution_count": 83,
   "id": "a329dbf3",
   "metadata": {},
   "outputs": [],
   "source": [
    "msa_fips.ZIPS = msa_fips.ZIPS.apply(lambda x: [item for sublist in x for item in sublist])"
   ]
  },
  {
   "cell_type": "code",
   "execution_count": 93,
   "id": "dda40953",
   "metadata": {},
   "outputs": [
    {
     "data": {
      "text/html": [
       "<div>\n",
       "<style scoped>\n",
       "    .dataframe tbody tr th:only-of-type {\n",
       "        vertical-align: middle;\n",
       "    }\n",
       "\n",
       "    .dataframe tbody tr th {\n",
       "        vertical-align: top;\n",
       "    }\n",
       "\n",
       "    .dataframe thead th {\n",
       "        text-align: right;\n",
       "    }\n",
       "</style>\n",
       "<table border=\"1\" class=\"dataframe\">\n",
       "  <thead>\n",
       "    <tr style=\"text-align: right;\">\n",
       "      <th></th>\n",
       "      <th>CBSA_name</th>\n",
       "      <th>FIPS</th>\n",
       "      <th>ZIPS</th>\n",
       "      <th>MSA</th>\n",
       "      <th>STATE</th>\n",
       "    </tr>\n",
       "  </thead>\n",
       "  <tbody>\n",
       "    <tr>\n",
       "      <th>0</th>\n",
       "      <td>Aberdeen, SD</td>\n",
       "      <td>[46013, 46045]</td>\n",
       "      <td>[57460, 57439, 57434, 57449, 57474, 57461, 574...</td>\n",
       "      <td>Aberdeen</td>\n",
       "      <td>SD</td>\n",
       "    </tr>\n",
       "    <tr>\n",
       "      <th>1</th>\n",
       "      <td>Aberdeen, WA</td>\n",
       "      <td>[53027]</td>\n",
       "      <td>[98520, 98550, 98557, 98535, 98583, 98563, 985...</td>\n",
       "      <td>Aberdeen</td>\n",
       "      <td>WA</td>\n",
       "    </tr>\n",
       "    <tr>\n",
       "      <th>2</th>\n",
       "      <td>Abilene, TX</td>\n",
       "      <td>[48059, 48253, 48441]</td>\n",
       "      <td>[76464, 79510, 76437, 79504, 79601, 76469, 764...</td>\n",
       "      <td>Abilene</td>\n",
       "      <td>TX</td>\n",
       "    </tr>\n",
       "    <tr>\n",
       "      <th>3</th>\n",
       "      <td>Ada, OK</td>\n",
       "      <td>[40123]</td>\n",
       "      <td>[74844, 74842, 74825, 74865, 74820, 74871, 748...</td>\n",
       "      <td>Ada</td>\n",
       "      <td>OK</td>\n",
       "    </tr>\n",
       "    <tr>\n",
       "      <th>4</th>\n",
       "      <td>Adrian, MI</td>\n",
       "      <td>[26091]</td>\n",
       "      <td>[49221, 49235, 49229, 49267, 49233, 48176, 492...</td>\n",
       "      <td>Adrian</td>\n",
       "      <td>MI</td>\n",
       "    </tr>\n",
       "  </tbody>\n",
       "</table>\n",
       "</div>"
      ],
      "text/plain": [
       "      CBSA_name                   FIPS  \\\n",
       "0  Aberdeen, SD         [46013, 46045]   \n",
       "1  Aberdeen, WA                [53027]   \n",
       "2   Abilene, TX  [48059, 48253, 48441]   \n",
       "3       Ada, OK                [40123]   \n",
       "4    Adrian, MI                [26091]   \n",
       "\n",
       "                                                ZIPS       MSA STATE  \n",
       "0  [57460, 57439, 57434, 57449, 57474, 57461, 574...  Aberdeen    SD  \n",
       "1  [98520, 98550, 98557, 98535, 98583, 98563, 985...  Aberdeen    WA  \n",
       "2  [76464, 79510, 76437, 79504, 79601, 76469, 764...   Abilene    TX  \n",
       "3  [74844, 74842, 74825, 74865, 74820, 74871, 748...       Ada    OK  \n",
       "4  [49221, 49235, 49229, 49267, 49233, 48176, 492...    Adrian    MI  "
      ]
     },
     "execution_count": 93,
     "metadata": {},
     "output_type": "execute_result"
    }
   ],
   "source": [
    "msa_fips['MSA'] = msa_fips.CBSA_name.apply(lambda x: x.split(',')[0])\n",
    "msa_fips['STATE'] = msa_fips.CBSA_name.apply(lambda x: x.split(',')[1])\n",
    "msa_fips.head()"
   ]
  },
  {
   "cell_type": "code",
   "execution_count": 96,
   "id": "a4553fe2",
   "metadata": {},
   "outputs": [],
   "source": [
    "msa_fips.to_csv('MSA_to_ZIP.csv', index=False)"
   ]
  },
  {
   "cell_type": "code",
   "execution_count": null,
   "id": "63299d74",
   "metadata": {},
   "outputs": [],
   "source": []
  }
 ],
 "metadata": {
  "kernelspec": {
   "display_name": "Python 3",
   "language": "python",
   "name": "python3"
  },
  "language_info": {
   "codemirror_mode": {
    "name": "ipython",
    "version": 3
   },
   "file_extension": ".py",
   "mimetype": "text/x-python",
   "name": "python",
   "nbconvert_exporter": "python",
   "pygments_lexer": "ipython3",
   "version": "3.8.8"
  }
 },
 "nbformat": 4,
 "nbformat_minor": 5
}
