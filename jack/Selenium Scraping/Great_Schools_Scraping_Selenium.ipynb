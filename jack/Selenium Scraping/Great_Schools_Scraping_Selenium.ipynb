{
 "cells": [
  {
   "cell_type": "code",
   "execution_count": 1,
   "metadata": {},
   "outputs": [],
   "source": [
    "import selenium\n",
    "from selenium import webdriver\n",
    "import time \n",
    "import re\n",
    "import csv\n",
    "from selenium.webdriver.common.action_chains import ActionChains\n",
    "import pandas as pd\n",
    "import math\n",
    "import json\n",
    "\n",
    "\n"
   ]
  },
  {
   "cell_type": "code",
   "execution_count": 3,
   "metadata": {},
   "outputs": [],
   "source": [
    "zips = pd.read_csv('./smh_zips.txt')"
   ]
  },
  {
   "cell_type": "code",
   "execution_count": 9,
   "metadata": {},
   "outputs": [],
   "source": [
    "zip_codes = zips['ZipCode']\n",
    "zip_codes =zip_codes.tolist()"
   ]
  },
  {
   "cell_type": "code",
   "execution_count": 9,
   "metadata": {},
   "outputs": [
    {
     "name": "stdout",
     "output_type": "stream",
     "text": [
      "Starting on  20852\n",
      "Finished 20852\n"
     ]
    }
   ],
   "source": [
    "driver = webdriver.Chrome(r'C:\\Users\\jackc\\chromedriver_win32\\chromedriver.exe')\n",
    "\n",
    "zips_skipped = [] \n",
    "## Using two random zip codes for now\n",
    "\n",
    "## Make an empty list to store dictionaries later \n",
    "list_of_dicts = []\n",
    "\n",
    "zip_codes = [20852]\n",
    "for element in zip_codes:\n",
    "\n",
    "    print(\"Starting on \" , element)\n",
    "\n",
    "    try:\n",
    "        ## Navigate to the link based on the zipcodes provided in the list 'zips'\n",
    "        link ='https://www.greatschools.org/search/search.zipcode?sort=rating&zip=' + str(element) \n",
    "        driver.get(link)\n",
    "\n",
    "        ## Find the total number of pages per zip based on total number of schools \n",
    "        num_pages = driver.find_element_by_xpath('.//div[@class=\"pagination-summary\"]').text\n",
    "        total_schools = int(num_pages[19:21])\n",
    "        num_pages = int(math.ceil(total_schools/25))\n",
    "\n",
    "        ## For each page in each zip, loop through and pull out the relevant information\n",
    "        for x in range(num_pages):\n",
    "            page_num = x + 1\n",
    "            if(page_num > 1):\n",
    "                link = 'https://www.greatschools.org/search/search.zipcode?page=' + str(page_num) + '&sort=rating&view=list&zip='+str(element)\n",
    "                driver.get(link)\n",
    "\n",
    "\n",
    "            ## get a list of all of the schools on the left \n",
    "            schools = driver.find_elements_by_xpath('//li[@class=\" unsaved\"]')\n",
    "\n",
    "            ## Loop through all schools \n",
    "            for school in schools: \n",
    "                name = school.find_element_by_xpath('.//a[@class=\"name\"]').text\n",
    "                address = school.find_element_by_xpath('.//div[@class=\"address\"]').text\n",
    "\n",
    "                ## Find level and enrollment -- they share the same tag, so separate them out\n",
    "                ## Note, sometimes enrollment is not available, so check if it is and if not, make it na\n",
    "\n",
    "                level_and_enrollment = school.find_elements_by_xpath('.//span[@class=\"open-sans_sb\"]')\n",
    "                if(len(level_and_enrollment) > 1):\n",
    "                    level = level_and_enrollment[0].text\n",
    "                    enrollment = level_and_enrollment[1].text\n",
    "                else:\n",
    "                    level = level_and_enrollment[0].text\n",
    "                    enrollment = 'NA'\n",
    "\n",
    "                rating = school.find_elements_by_xpath('.//span[@class=\"tipso_style\"]')\n",
    "                rating = rating[0].text[0]\n",
    "\n",
    "                #If rating is unavaiable, will return 'C' -- change that to 'NA'\n",
    "                if(rating == 'C'):\n",
    "                    rating = 'NA'\n",
    "\n",
    "                scale = school.find_elements_by_xpath('.//div[@class=\"scale\"]')\n",
    "                scale = scale[0].text\n",
    "\n",
    "                ## make a dictionary for each entry and add it to the list_of_dicts\n",
    "                dict = {}\n",
    "                dict['name'] = name\n",
    "                dict['address'] = address\n",
    "                dict['level'] = level\n",
    "                dict['enrollment'] = enrollment\n",
    "                dict['rating'] = rating\n",
    "                dict['scale'] = scale\n",
    "                dict['zip'] = element\n",
    "                list_of_dicts.append(dict)\n",
    "\n",
    "        print('Finished' , element )\n",
    "    except:\n",
    "        print('skipped ', element)\n",
    "        zips_skipped.append(element)\n",
    "        # next = driver.find_elements_by_xpath('.//a[@class=\"anchor-button   anchor-button\"]')\n",
    "        # next[1].click() "
   ]
  },
  {
   "cell_type": "code",
   "execution_count": 10,
   "metadata": {},
   "outputs": [],
   "source": [
    "final_df = pd.DataFrame(list_of_dicts)"
   ]
  },
  {
   "cell_type": "code",
   "execution_count": 11,
   "metadata": {},
   "outputs": [],
   "source": [
    "dict = list_of_dicts[0]"
   ]
  },
  {
   "cell_type": "code",
   "execution_count": 19,
   "metadata": {},
   "outputs": [],
   "source": [
    "def write_json(new_data, filename='scraped_school_data.json'):\n",
    "    with open(filename,'r+') as file:\n",
    "        # First we load existing data into a dict.\n",
    "        file_data = json.load(file)\n",
    "        # Join new_data with files_data inside emp_details\n",
    "        file_data[\"emp_details\"].append(new_data)\n",
    "        # Sets file's current position at offset.\n",
    "        file.seek(0)\n",
    "        # convert back to json.\n",
    "        json.dump(file_data, file, indent = 4)\n",
    " \n"
   ]
  }
 ],
 "metadata": {
  "interpreter": {
   "hash": "0361ced4ee9008cee796c675e99fc9755dfaef9b8a7e8c7e0212b1562f6bd272"
  },
  "kernelspec": {
   "display_name": "Python 3.8.8 64-bit ('base': conda)",
   "name": "python3"
  },
  "language_info": {
   "codemirror_mode": {
    "name": "ipython",
    "version": 3
   },
   "file_extension": ".py",
   "mimetype": "text/x-python",
   "name": "python",
   "nbconvert_exporter": "python",
   "pygments_lexer": "ipython3",
   "version": "3.8.8"
  },
  "orig_nbformat": 4
 },
 "nbformat": 4,
 "nbformat_minor": 2
}
