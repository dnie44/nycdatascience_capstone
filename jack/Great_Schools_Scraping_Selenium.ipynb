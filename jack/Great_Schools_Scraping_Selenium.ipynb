{
 "cells": [
  {
   "cell_type": "code",
   "execution_count": 73,
   "metadata": {},
   "outputs": [],
   "source": [
    "import selenium\n",
    "from selenium import webdriver\n",
    "import time \n",
    "import re\n",
    "import csv\n",
    "from selenium.webdriver.common.action_chains import ActionChains\n",
    "import pandas as pd\n",
    "import math\n",
    "\n",
    "\n"
   ]
  },
  {
   "cell_type": "code",
   "execution_count": 91,
   "metadata": {},
   "outputs": [],
   "source": [
    "driver = webdriver.Chrome(r'C:\\Users\\jackc\\chromedriver_win32\\chromedriver.exe')\n",
    "\n",
    "## Using two random zip codes for now\n",
    "zips = [20852, 10003]\n",
    "\n",
    "## Make an empty list to store dictionaries later \n",
    "list_of_dicts = []\n",
    "\n",
    "for element in zips:\n",
    "\n",
    "    ## Navigate to the link based on the zipcodes provided in the list 'zips'\n",
    "    link ='https://www.greatschools.org/search/search.zipcode?sort=rating&zip=' + str(element) \n",
    "    driver.get(link)\n",
    "\n",
    "    ## Find the total number of pages per zip based on total number of schools \n",
    "    num_pages = driver.find_element_by_xpath('.//div[@class=\"pagination-summary\"]').text\n",
    "    total_schools = int(num_pages[19:21])\n",
    "    num_pages = int(math.ceil(total_schools/25))\n",
    "\n",
    "    ## For each page in each zip, loop through and pull out the relevant information\n",
    "    for x in range(num_pages):\n",
    "        page_num = x + 1\n",
    "        if(page_num > 1):\n",
    "            link = 'https://www.greatschools.org/search/search.zipcode?page=' + str(page_num) + '&sort=rating&view=list&zip='+str(element)\n",
    "            driver.get(link)\n",
    "\n",
    "\n",
    "        ## get a list of all of the schools on the left \n",
    "        schools = driver.find_elements_by_xpath('//li[@class=\" unsaved\"]')\n",
    "\n",
    "        ## Loop through all schools \n",
    "        for school in schools: \n",
    "            name = school.find_element_by_xpath('.//a[@class=\"name\"]').text\n",
    "            address = school.find_element_by_xpath('.//div[@class=\"address\"]').text\n",
    "\n",
    "            ## Find level and enrollment -- they share the same tag, so separate them out\n",
    "            ## Note, sometimes enrollment is not available, so check if it is and if not, make it na\n",
    "\n",
    "            level_and_enrollment = school.find_elements_by_xpath('.//span[@class=\"open-sans_sb\"]')\n",
    "            if(len(level_and_enrollment) > 1):\n",
    "                level = level_and_enrollment[0].text\n",
    "                enrollment = level_and_enrollment[1].text\n",
    "            else:\n",
    "                level = level_and_enrollment[0].text\n",
    "                enrollment = 'NA'\n",
    "\n",
    "            rating = school.find_elements_by_xpath('.//span[@class=\"tipso_style\"]')\n",
    "            rating = rating[0].text[0]\n",
    "\n",
    "            #If rating is unavaiable, will return 'C' -- change that to 'NA'\n",
    "            if(rating == 'C'):\n",
    "                rating = 'NA'\n",
    "\n",
    "            scale = school.find_elements_by_xpath('.//div[@class=\"scale\"]')\n",
    "            scale = scale[0].text\n",
    "\n",
    "            ## make a dictionary for each entry and add it to the list_of_dicts\n",
    "            dict = {}\n",
    "            dict['name'] = name\n",
    "            dict['address'] = address\n",
    "            dict['level'] = level\n",
    "            dict['enrollment'] = enrollment\n",
    "            dict['rating'] = rating\n",
    "            dict['scale'] = scale\n",
    "            dict['zip'] = element\n",
    "            list_of_dicts.append(dict)\n",
    "\n",
    "        # next = driver.find_elements_by_xpath('.//a[@class=\"anchor-button   anchor-button\"]')\n",
    "        # next[1].click() "
   ]
  },
  {
   "cell_type": "code",
   "execution_count": 92,
   "metadata": {},
   "outputs": [],
   "source": [
    "final_df = pd.DataFrame(list_of_dicts)"
   ]
  }
 ],
 "metadata": {
  "interpreter": {
   "hash": "0361ced4ee9008cee796c675e99fc9755dfaef9b8a7e8c7e0212b1562f6bd272"
  },
  "kernelspec": {
   "display_name": "Python 3.8.8 64-bit ('base': conda)",
   "name": "python3"
  },
  "language_info": {
   "codemirror_mode": {
    "name": "ipython",
    "version": 3
   },
   "file_extension": ".py",
   "mimetype": "text/x-python",
   "name": "python",
   "nbconvert_exporter": "python",
   "pygments_lexer": "ipython3",
   "version": "3.8.8"
  },
  "orig_nbformat": 4
 },
 "nbformat": 4,
 "nbformat_minor": 2
}
