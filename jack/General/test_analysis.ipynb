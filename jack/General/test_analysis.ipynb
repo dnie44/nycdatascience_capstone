{
 "cells": [
  {
   "cell_type": "code",
   "execution_count": 71,
   "metadata": {},
   "outputs": [],
   "source": [
    "import pandas as pd\n",
    "import numpy as np\n",
    "import seaborn as sns\n",
    "from sklearn.cluster import KMeans\n",
    "from sklearn.model_selection import train_test_split\n",
    "from sklearn.linear_model import LinearRegression"
   ]
  },
  {
   "cell_type": "code",
   "execution_count": 2,
   "metadata": {},
   "outputs": [],
   "source": [
    "data = pd.read_csv('./data/historical_sales.csv')"
   ]
  },
  {
   "cell_type": "code",
   "execution_count": 5,
   "metadata": {},
   "outputs": [],
   "source": [
    "past_sales = data[data['SALE TYPE'] == 'PAST SALE']"
   ]
  },
  {
   "cell_type": "code",
   "execution_count": 12,
   "metadata": {},
   "outputs": [],
   "source": [
    "past_sales = past_sales[['SALE TYPE' , 'SOLD DATE', 'PROPERTY TYPE', 'ADDRESS', 'CITY', 'STATE OR PROVINCE', 'PRICE',\n",
    "               'BEDS', 'BATHS','LOCATION', 'SQUARE FEET', 'LOT SIZE', 'YEAR BUILT', '$/SQUARE FEET', 'HOA/MONTH',\n",
    "           'MLS#', 'LATITUDE','LONGITUDE']]"
   ]
  },
  {
   "cell_type": "code",
   "execution_count": 49,
   "metadata": {},
   "outputs": [],
   "source": [
    "past_sales = past_sales[past_sales['LOT SIZE']< 3000000]"
   ]
  },
  {
   "cell_type": "code",
   "execution_count": 50,
   "metadata": {},
   "outputs": [],
   "source": [
    "past_sales = past_sales.dropna(how='any',axis=0) \n"
   ]
  },
  {
   "cell_type": "code",
   "execution_count": 51,
   "metadata": {},
   "outputs": [],
   "source": [
    "numerics = ['int16', 'int32', 'int64', 'float16', 'float32', 'float64']\n",
    "\n",
    "numeric_sales = past_sales.select_dtypes(include=numerics)"
   ]
  },
  {
   "cell_type": "code",
   "execution_count": 55,
   "metadata": {},
   "outputs": [],
   "source": [
    "kmeans = KMeans(n_clusters=7, random_state=0).fit(numeric_sales)\n"
   ]
  },
  {
   "cell_type": "code",
   "execution_count": 56,
   "metadata": {},
   "outputs": [],
   "source": [
    "past_sales['cluster'] = kmeans.labels_"
   ]
  },
  {
   "cell_type": "code",
   "execution_count": 80,
   "metadata": {},
   "outputs": [
    {
     "data": {
      "text/html": [
       "<div>\n",
       "<style scoped>\n",
       "    .dataframe tbody tr th:only-of-type {\n",
       "        vertical-align: middle;\n",
       "    }\n",
       "\n",
       "    .dataframe tbody tr th {\n",
       "        vertical-align: top;\n",
       "    }\n",
       "\n",
       "    .dataframe thead th {\n",
       "        text-align: right;\n",
       "    }\n",
       "</style>\n",
       "<table border=\"1\" class=\"dataframe\">\n",
       "  <thead>\n",
       "    <tr style=\"text-align: right;\">\n",
       "      <th></th>\n",
       "      <th>SALE TYPE</th>\n",
       "      <th>SOLD DATE</th>\n",
       "      <th>PROPERTY TYPE</th>\n",
       "      <th>ADDRESS</th>\n",
       "      <th>CITY</th>\n",
       "      <th>STATE OR PROVINCE</th>\n",
       "      <th>PRICE</th>\n",
       "      <th>BEDS</th>\n",
       "      <th>BATHS</th>\n",
       "      <th>LOCATION</th>\n",
       "      <th>SQUARE FEET</th>\n",
       "      <th>LOT SIZE</th>\n",
       "      <th>YEAR BUILT</th>\n",
       "      <th>$/SQUARE FEET</th>\n",
       "      <th>HOA/MONTH</th>\n",
       "      <th>MLS#</th>\n",
       "      <th>LATITUDE</th>\n",
       "      <th>LONGITUDE</th>\n",
       "    </tr>\n",
       "    <tr>\n",
       "      <th>cluster</th>\n",
       "      <th></th>\n",
       "      <th></th>\n",
       "      <th></th>\n",
       "      <th></th>\n",
       "      <th></th>\n",
       "      <th></th>\n",
       "      <th></th>\n",
       "      <th></th>\n",
       "      <th></th>\n",
       "      <th></th>\n",
       "      <th></th>\n",
       "      <th></th>\n",
       "      <th></th>\n",
       "      <th></th>\n",
       "      <th></th>\n",
       "      <th></th>\n",
       "      <th></th>\n",
       "      <th></th>\n",
       "    </tr>\n",
       "  </thead>\n",
       "  <tbody>\n",
       "    <tr>\n",
       "      <th>0</th>\n",
       "      <td>17946</td>\n",
       "      <td>17946</td>\n",
       "      <td>17946</td>\n",
       "      <td>17946</td>\n",
       "      <td>17946</td>\n",
       "      <td>17946</td>\n",
       "      <td>17946</td>\n",
       "      <td>17946</td>\n",
       "      <td>17946</td>\n",
       "      <td>17946</td>\n",
       "      <td>17946</td>\n",
       "      <td>17946</td>\n",
       "      <td>17946</td>\n",
       "      <td>17946</td>\n",
       "      <td>17946</td>\n",
       "      <td>17946</td>\n",
       "      <td>17946</td>\n",
       "      <td>17946</td>\n",
       "    </tr>\n",
       "    <tr>\n",
       "      <th>1</th>\n",
       "      <td>4955</td>\n",
       "      <td>4955</td>\n",
       "      <td>4955</td>\n",
       "      <td>4955</td>\n",
       "      <td>4955</td>\n",
       "      <td>4955</td>\n",
       "      <td>4955</td>\n",
       "      <td>4955</td>\n",
       "      <td>4955</td>\n",
       "      <td>4955</td>\n",
       "      <td>4955</td>\n",
       "      <td>4955</td>\n",
       "      <td>4955</td>\n",
       "      <td>4955</td>\n",
       "      <td>4955</td>\n",
       "      <td>4955</td>\n",
       "      <td>4955</td>\n",
       "      <td>4955</td>\n",
       "    </tr>\n",
       "    <tr>\n",
       "      <th>2</th>\n",
       "      <td>20614</td>\n",
       "      <td>20614</td>\n",
       "      <td>20614</td>\n",
       "      <td>20614</td>\n",
       "      <td>20614</td>\n",
       "      <td>20614</td>\n",
       "      <td>20614</td>\n",
       "      <td>20614</td>\n",
       "      <td>20614</td>\n",
       "      <td>20614</td>\n",
       "      <td>20614</td>\n",
       "      <td>20614</td>\n",
       "      <td>20614</td>\n",
       "      <td>20614</td>\n",
       "      <td>20614</td>\n",
       "      <td>20614</td>\n",
       "      <td>20614</td>\n",
       "      <td>20614</td>\n",
       "    </tr>\n",
       "    <tr>\n",
       "      <th>3</th>\n",
       "      <td>111</td>\n",
       "      <td>111</td>\n",
       "      <td>111</td>\n",
       "      <td>111</td>\n",
       "      <td>111</td>\n",
       "      <td>111</td>\n",
       "      <td>111</td>\n",
       "      <td>111</td>\n",
       "      <td>111</td>\n",
       "      <td>111</td>\n",
       "      <td>111</td>\n",
       "      <td>111</td>\n",
       "      <td>111</td>\n",
       "      <td>111</td>\n",
       "      <td>111</td>\n",
       "      <td>111</td>\n",
       "      <td>111</td>\n",
       "      <td>111</td>\n",
       "    </tr>\n",
       "    <tr>\n",
       "      <th>4</th>\n",
       "      <td>554</td>\n",
       "      <td>554</td>\n",
       "      <td>554</td>\n",
       "      <td>554</td>\n",
       "      <td>554</td>\n",
       "      <td>554</td>\n",
       "      <td>554</td>\n",
       "      <td>554</td>\n",
       "      <td>554</td>\n",
       "      <td>554</td>\n",
       "      <td>554</td>\n",
       "      <td>554</td>\n",
       "      <td>554</td>\n",
       "      <td>554</td>\n",
       "      <td>554</td>\n",
       "      <td>554</td>\n",
       "      <td>554</td>\n",
       "      <td>554</td>\n",
       "    </tr>\n",
       "    <tr>\n",
       "      <th>5</th>\n",
       "      <td>1285</td>\n",
       "      <td>1285</td>\n",
       "      <td>1285</td>\n",
       "      <td>1285</td>\n",
       "      <td>1285</td>\n",
       "      <td>1285</td>\n",
       "      <td>1285</td>\n",
       "      <td>1285</td>\n",
       "      <td>1285</td>\n",
       "      <td>1285</td>\n",
       "      <td>1285</td>\n",
       "      <td>1285</td>\n",
       "      <td>1285</td>\n",
       "      <td>1285</td>\n",
       "      <td>1285</td>\n",
       "      <td>1285</td>\n",
       "      <td>1285</td>\n",
       "      <td>1285</td>\n",
       "    </tr>\n",
       "    <tr>\n",
       "      <th>6</th>\n",
       "      <td>12152</td>\n",
       "      <td>12152</td>\n",
       "      <td>12152</td>\n",
       "      <td>12152</td>\n",
       "      <td>12152</td>\n",
       "      <td>12152</td>\n",
       "      <td>12152</td>\n",
       "      <td>12152</td>\n",
       "      <td>12152</td>\n",
       "      <td>12152</td>\n",
       "      <td>12152</td>\n",
       "      <td>12152</td>\n",
       "      <td>12152</td>\n",
       "      <td>12152</td>\n",
       "      <td>12152</td>\n",
       "      <td>12152</td>\n",
       "      <td>12152</td>\n",
       "      <td>12152</td>\n",
       "    </tr>\n",
       "  </tbody>\n",
       "</table>\n",
       "</div>"
      ],
      "text/plain": [
       "         SALE TYPE  SOLD DATE  PROPERTY TYPE  ADDRESS   CITY  \\\n",
       "cluster                                                        \n",
       "0            17946      17946          17946    17946  17946   \n",
       "1             4955       4955           4955     4955   4955   \n",
       "2            20614      20614          20614    20614  20614   \n",
       "3              111        111            111      111    111   \n",
       "4              554        554            554      554    554   \n",
       "5             1285       1285           1285     1285   1285   \n",
       "6            12152      12152          12152    12152  12152   \n",
       "\n",
       "         STATE OR PROVINCE  PRICE   BEDS  BATHS  LOCATION  SQUARE FEET  \\\n",
       "cluster                                                                  \n",
       "0                    17946  17946  17946  17946     17946        17946   \n",
       "1                     4955   4955   4955   4955      4955         4955   \n",
       "2                    20614  20614  20614  20614     20614        20614   \n",
       "3                      111    111    111    111       111          111   \n",
       "4                      554    554    554    554       554          554   \n",
       "5                     1285   1285   1285   1285      1285         1285   \n",
       "6                    12152  12152  12152  12152     12152        12152   \n",
       "\n",
       "         LOT SIZE  YEAR BUILT  $/SQUARE FEET  HOA/MONTH   MLS#  LATITUDE  \\\n",
       "cluster                                                                    \n",
       "0           17946       17946          17946      17946  17946     17946   \n",
       "1            4955        4955           4955       4955   4955      4955   \n",
       "2           20614       20614          20614      20614  20614     20614   \n",
       "3             111         111            111        111    111       111   \n",
       "4             554         554            554        554    554       554   \n",
       "5            1285        1285           1285       1285   1285      1285   \n",
       "6           12152       12152          12152      12152  12152     12152   \n",
       "\n",
       "         LONGITUDE  \n",
       "cluster             \n",
       "0            17946  \n",
       "1             4955  \n",
       "2            20614  \n",
       "3              111  \n",
       "4              554  \n",
       "5             1285  \n",
       "6            12152  "
      ]
     },
     "execution_count": 80,
     "metadata": {},
     "output_type": "execute_result"
    }
   ],
   "source": [
    "past_sales.groupby('cluster').count()"
   ]
  },
  {
   "cell_type": "code",
   "execution_count": 86,
   "metadata": {},
   "outputs": [],
   "source": [
    "past_sales= past_sales[past_sales['cluster'] == 6]"
   ]
  },
  {
   "cell_type": "code",
   "execution_count": 87,
   "metadata": {},
   "outputs": [],
   "source": [
    "for_linear = past_sales[['BEDS','BATHS','SQUARE FEET','LOT SIZE', 'YEAR BUILT',\n",
    "                         '$/SQUARE FEET', 'HOA/MONTH', 'cluster']]\n",
    "                        "
   ]
  },
  {
   "cell_type": "code",
   "execution_count": 88,
   "metadata": {},
   "outputs": [],
   "source": [
    "target = past_sales['PRICE']"
   ]
  },
  {
   "cell_type": "code",
   "execution_count": 89,
   "metadata": {},
   "outputs": [
    {
     "ename": "ValueError",
     "evalue": "With n_samples=0, test_size=0.2 and train_size=None, the resulting train set will be empty. Adjust any of the aforementioned parameters.",
     "output_type": "error",
     "traceback": [
      "\u001b[1;31m---------------------------------------------------------------------------\u001b[0m",
      "\u001b[1;31mValueError\u001b[0m                                Traceback (most recent call last)",
      "\u001b[1;32m<ipython-input-89-2f8b5afb8910>\u001b[0m in \u001b[0;36m<module>\u001b[1;34m\u001b[0m\n\u001b[1;32m----> 1\u001b[1;33m \u001b[0mX_train\u001b[0m\u001b[1;33m,\u001b[0m \u001b[0mX_test\u001b[0m\u001b[1;33m,\u001b[0m \u001b[0my_train\u001b[0m\u001b[1;33m,\u001b[0m \u001b[0my_test\u001b[0m \u001b[1;33m=\u001b[0m \u001b[0mtrain_test_split\u001b[0m\u001b[1;33m(\u001b[0m\u001b[0mfor_linear\u001b[0m\u001b[1;33m,\u001b[0m \u001b[0mtarget\u001b[0m\u001b[1;33m,\u001b[0m \u001b[0mtest_size\u001b[0m \u001b[1;33m=\u001b[0m \u001b[1;36m0.2\u001b[0m\u001b[1;33m)\u001b[0m\u001b[1;33m\u001b[0m\u001b[1;33m\u001b[0m\u001b[0m\n\u001b[0m",
      "\u001b[1;32m~\\anaconda3\\lib\\site-packages\\sklearn\\model_selection\\_split.py\u001b[0m in \u001b[0;36mtrain_test_split\u001b[1;34m(test_size, train_size, random_state, shuffle, stratify, *arrays)\u001b[0m\n\u001b[0;32m   2173\u001b[0m \u001b[1;33m\u001b[0m\u001b[0m\n\u001b[0;32m   2174\u001b[0m     \u001b[0mn_samples\u001b[0m \u001b[1;33m=\u001b[0m \u001b[0m_num_samples\u001b[0m\u001b[1;33m(\u001b[0m\u001b[0marrays\u001b[0m\u001b[1;33m[\u001b[0m\u001b[1;36m0\u001b[0m\u001b[1;33m]\u001b[0m\u001b[1;33m)\u001b[0m\u001b[1;33m\u001b[0m\u001b[1;33m\u001b[0m\u001b[0m\n\u001b[1;32m-> 2175\u001b[1;33m     n_train, n_test = _validate_shuffle_split(n_samples, test_size, train_size,\n\u001b[0m\u001b[0;32m   2176\u001b[0m                                               default_test_size=0.25)\n\u001b[0;32m   2177\u001b[0m \u001b[1;33m\u001b[0m\u001b[0m\n",
      "\u001b[1;32m~\\anaconda3\\lib\\site-packages\\sklearn\\model_selection\\_split.py\u001b[0m in \u001b[0;36m_validate_shuffle_split\u001b[1;34m(n_samples, test_size, train_size, default_test_size)\u001b[0m\n\u001b[0;32m   1855\u001b[0m \u001b[1;33m\u001b[0m\u001b[0m\n\u001b[0;32m   1856\u001b[0m     \u001b[1;32mif\u001b[0m \u001b[0mn_train\u001b[0m \u001b[1;33m==\u001b[0m \u001b[1;36m0\u001b[0m\u001b[1;33m:\u001b[0m\u001b[1;33m\u001b[0m\u001b[1;33m\u001b[0m\u001b[0m\n\u001b[1;32m-> 1857\u001b[1;33m         raise ValueError(\n\u001b[0m\u001b[0;32m   1858\u001b[0m             \u001b[1;34m'With n_samples={}, test_size={} and train_size={}, the '\u001b[0m\u001b[1;33m\u001b[0m\u001b[1;33m\u001b[0m\u001b[0m\n\u001b[0;32m   1859\u001b[0m             \u001b[1;34m'resulting train set will be empty. Adjust any of the '\u001b[0m\u001b[1;33m\u001b[0m\u001b[1;33m\u001b[0m\u001b[0m\n",
      "\u001b[1;31mValueError\u001b[0m: With n_samples=0, test_size=0.2 and train_size=None, the resulting train set will be empty. Adjust any of the aforementioned parameters."
     ]
    }
   ],
   "source": [
    "X_train, X_test, y_train, y_test = train_test_split(for_linear, target, test_size = 0.2)"
   ]
  },
  {
   "cell_type": "code",
   "execution_count": 85,
   "metadata": {},
   "outputs": [
    {
     "data": {
      "text/plain": [
       "-2.2896595038964382"
      ]
     },
     "execution_count": 85,
     "metadata": {},
     "output_type": "execute_result"
    }
   ],
   "source": [
    "lm = LinearRegression()\n",
    "lm.fit(X_train, y_train)\n",
    "lm.score(X_train, y_train)\n",
    "lm.score(X_test, y_test)"
   ]
  }
 ],
 "metadata": {
  "interpreter": {
   "hash": "0361ced4ee9008cee796c675e99fc9755dfaef9b8a7e8c7e0212b1562f6bd272"
  },
  "kernelspec": {
   "display_name": "Python 3",
   "language": "python",
   "name": "python3"
  },
  "language_info": {
   "codemirror_mode": {
    "name": "ipython",
    "version": 3
   },
   "file_extension": ".py",
   "mimetype": "text/x-python",
   "name": "python",
   "nbconvert_exporter": "python",
   "pygments_lexer": "ipython3",
   "version": "3.8.8"
  }
 },
 "nbformat": 4,
 "nbformat_minor": 2
}
