{
 "cells": [
  {
   "cell_type": "markdown",
   "metadata": {},
   "source": [
    "## EDA"
   ]
  },
  {
   "cell_type": "code",
   "execution_count": 2,
   "metadata": {},
   "outputs": [],
   "source": [
    "import pandas as pd\n",
    "import numpy as np"
   ]
  },
  {
   "cell_type": "code",
   "execution_count": 3,
   "metadata": {},
   "outputs": [
    {
     "name": "stderr",
     "output_type": "stream",
     "text": [
      "C:\\Users\\jackc\\anaconda3\\lib\\site-packages\\IPython\\core\\interactiveshell.py:3165: DtypeWarning: Columns (7) have mixed types.Specify dtype option on import or set low_memory=False.\n",
      "  has_raised = await self.run_ast_nodes(code_ast.body, cell_name,\n"
     ]
    }
   ],
   "source": [
    "data = pd.read_csv('./data/redfin_cleaned_stage_1.csv')"
   ]
  },
  {
   "cell_type": "code",
   "execution_count": 5,
   "metadata": {},
   "outputs": [
    {
     "data": {
      "text/plain": [
       "Unnamed: 0                                                                                          0\n",
       "SALE TYPE                                                                                           0\n",
       "SOLD DATE                                                                                      133998\n",
       "PROPERTY TYPE                                                                                       0\n",
       "ADDRESS                                                                                             1\n",
       "CITY                                                                                              151\n",
       "STATE OR PROVINCE                                                                                   0\n",
       "ZIP OR POSTAL CODE                                                                                  0\n",
       "PRICE                                                                                              10\n",
       "BEDS                                                                                            49974\n",
       "BATHS                                                                                           50736\n",
       "LOCATION                                                                                         4596\n",
       "SQUARE FEET                                                                                     53176\n",
       "LOT SIZE                                                                                        35259\n",
       "YEAR BUILT                                                                                      55536\n",
       "DAYS ON MARKET                                                                                   4117\n",
       "$/SQUARE FEET                                                                                   53177\n",
       "HOA/MONTH                                                                                       83024\n",
       "STATUS                                                                                              0\n",
       "NEXT OPEN HOUSE START TIME                                                                     133311\n",
       "NEXT OPEN HOUSE END TIME                                                                       133311\n",
       "URL (SEE https://www.redfin.com/buy-a-home/comparative-market-analysis FOR INFO ON PRICING)         0\n",
       "SOURCE                                                                                              0\n",
       "MLS#                                                                                                4\n",
       "FAVORITE                                                                                            0\n",
       "INTERESTED                                                                                          0\n",
       "LATITUDE                                                                                            0\n",
       "LONGITUDE                                                                                           0\n",
       "zip                                                                                                 0\n",
       "dtype: int64"
      ]
     },
     "execution_count": 5,
     "metadata": {},
     "output_type": "execute_result"
    }
   ],
   "source": [
    "data.isnull().sum()"
   ]
  }
 ],
 "metadata": {
  "interpreter": {
   "hash": "0361ced4ee9008cee796c675e99fc9755dfaef9b8a7e8c7e0212b1562f6bd272"
  },
  "kernelspec": {
   "display_name": "Python 3.8.8 64-bit ('base': conda)",
   "name": "python3"
  },
  "language_info": {
   "codemirror_mode": {
    "name": "ipython",
    "version": 3
   },
   "file_extension": ".py",
   "mimetype": "text/x-python",
   "name": "python",
   "nbconvert_exporter": "python",
   "pygments_lexer": "ipython3",
   "version": "3.8.8"
  },
  "orig_nbformat": 4
 },
 "nbformat": 4,
 "nbformat_minor": 2
}
