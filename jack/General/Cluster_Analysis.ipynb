{
 "cells": [
  {
   "cell_type": "code",
   "execution_count": 25,
   "id": "bbe8fdf2",
   "metadata": {},
   "outputs": [],
   "source": [
    "import pandas as pd\n",
    "import numpy as np\n",
    "import seaborn as sns\n",
    "from sklearn.cluster import KMeans\n",
    "from sklearn.model_selection import train_test_split\n",
    "from sklearn.linear_model import LinearRegression\n",
    "from sklearn.linear_model import Lasso, Ridge, ElasticNet\n",
    "from scipy.spatial.distance import cdist\n",
    "import matplotlib.pyplot as plt\n",
    "from helper_funcs import *\n",
    "from sklearn.preprocessing import LabelEncoder\n",
    "from catboost import CatBoostRegressor\n",
    "from sklearn.preprocessing import StandardScaler, MinMaxScaler\n",
    "import matplotlib.pyplot as plt\n",
    "import seaborn as sns\n",
    "import plotly.express as px"
   ]
  },
  {
   "cell_type": "code",
   "execution_count": 26,
   "id": "e32cc9ad",
   "metadata": {},
   "outputs": [],
   "source": [
    "zip_data = pd.read_csv('https://nycdsacapstone2021.blob.core.windows.net/additionaldata/final_zip_data.csv', index_col=0)\n"
   ]
  },
  {
   "cell_type": "code",
   "execution_count": 27,
   "id": "f90e2d83",
   "metadata": {},
   "outputs": [],
   "source": [
    "zip_data['school_rating'].fillna(value = zip_data['school_rating'].mean(), inplace = True)\n",
    "zip_data['Hosp_count'].fillna(value = zip_data['Hosp_count'].mean(), inplace = True)"
   ]
  },
  {
   "cell_type": "code",
   "execution_count": 28,
   "id": "804f9361",
   "metadata": {},
   "outputs": [],
   "source": [
    "### Cluster zip codes to feed into redfin data\n",
    "## For now, keeping numerical columns that have no null values \n",
    "zip_data = zip_data[zip_data['Population'] > 0]\n",
    "cols_to_cluster = [ 'Population', 'IncomePerHousehold', 'AverageHouseValue']\n",
    "zip_cluster = zip_data[cols_to_cluster]\n",
    "scaler = MinMaxScaler()\n",
    "# zip_cluster.dropna(axis = 0, inplace = True) \n",
    "zip_cluster = scaler.fit_transform(zip_cluster)"
   ]
  },
  {
   "cell_type": "code",
   "execution_count": 29,
   "id": "cfc1c3d1",
   "metadata": {},
   "outputs": [
    {
     "data": {
      "image/png": "[encoded data removed]",
      "text/plain": [
       "<Figure size 432x288 with 1 Axes>"
      ]
     },
     "metadata": {
      "needs_background": "light"
     },
     "output_type": "display_data"
    }
   ],
   "source": [
    "### Use elbow method to determine number of clusters\n",
    "X = zip_cluster\n",
    "distortions = []\n",
    "inertias = []\n",
    "mapping1 = {}\n",
    "mapping2 = {}\n",
    "K = range(1, 10)\n",
    " \n",
    "for k in K:\n",
    "    # Building and fitting the model\n",
    "    kmeanModel = KMeans(n_clusters=k).fit(X)\n",
    "    kmeanModel.fit(X)\n",
    " \n",
    "    distortions.append(sum(np.min(cdist(X, kmeanModel.cluster_centers_,\n",
    "                                        'euclidean'), axis=1)) / X.shape[0])\n",
    "    inertias.append(kmeanModel.inertia_)\n",
    " \n",
    "    mapping1[k] = sum(np.min(cdist(X, kmeanModel.cluster_centers_,\n",
    "                                   'euclidean'), axis=1)) / X.shape[0]\n",
    "    mapping2[k] = kmeanModel.inertia_\n",
    "plt.plot(K, distortions, 'bx-')\n",
    "plt.xlabel('Values of K')\n",
    "plt.ylabel('Distortion')\n",
    "plt.title('The Elbow Method using Distortion')\n",
    "plt.show()"
   ]
  },
  {
   "cell_type": "code",
   "execution_count": 30,
   "id": "84bba00d",
   "metadata": {},
   "outputs": [],
   "source": [
    "kmeans = KMeans(n_clusters=4, random_state=0).fit(zip_cluster)\n",
    "zip_data['cluster'] = kmeans.labels_"
   ]
  },
  {
   "cell_type": "code",
   "execution_count": 50,
   "id": "6eb99706",
   "metadata": {
    "scrolled": false
   },
   "outputs": [
    {
     "data": {
      "application/vnd.plotly.v1+json": {
       "config": {
        "plotlyServerURL": "https://plot.ly"
       },
       "data": [
        {
         "dimensions": [
          {
           "label": "cluster",
           "values": [
            0,
            1,
            2,
            3
           ]
          },
          {
           "label": "Population",
           "values": [
            42916.9963963964,
            3005.475767918089,
            9380.89945155393,
            21035.966135458166
           ]
          },
          {
           "label": "AverageHouseValue",
           "values": [
            249506.66666666666,
            112851.77474402731,
            454443.32723948814,
            189501.593625498
           ]
          },
          {
           "label": "IncomePerHousehold",
           "values": [
            67718.22342342342,
            40666.8795221843,
            110179.14990859233,
            56011.873505976095
           ]
          },
          {
           "label": "over_65_ratio",
           "values": [
            0.14841726763457322,
            0.21313947167354322,
            0.20078967100950143,
            0.188205716724101
           ]
          }
         ],
         "domain": {
          "x": [
           0,
           1
          ],
          "y": [
           0,
           1
          ]
         },
         "line": {
          "color": [
           0,
           1,
           2,
           3
          ],
          "coloraxis": "coloraxis"
         },
         "name": "",
         "type": "parcoords"
        }
       ],
       "layout": {
        "coloraxis": {
         "colorbar": {
          "title": {
           "text": "cluster"
          }
         },
         "colorscale": [
          [
           0,
           "#0d0887"
          ],
          [
           0.1111111111111111,
           "#46039f"
          ],
          [
           0.2222222222222222,
           "#7201a8"
          ],
          [
           0.3333333333333333,
           "#9c179e"
          ],
          [
           0.4444444444444444,
           "#bd3786"
          ],
          [
           0.5555555555555556,
           "#d8576b"
          ],
          [
           0.6666666666666666,
           "#ed7953"
          ],
          [
           0.7777777777777778,
           "#fb9f3a"
          ],
          [
           0.8888888888888888,
           "#fdca26"
          ],
          [
           1,
           "#f0f921"
          ]
         ]
        },
        "legend": {
         "tracegroupgap": 0
        },
        "margin": {
         "t": 60
        },
        "template": {
         "data": {
          "bar": [
           {
            "error_x": {
             "color": "#2a3f5f"
            },
            "error_y": {
             "color": "#2a3f5f"
            },
            "marker": {
             "line": {
              "color": "#E5ECF6",
              "width": 0.5
             },
             "pattern": {
              "fillmode": "overlay",
              "size": 10,
              "solidity": 0.2
             }
            },
            "type": "bar"
           }
          ],
          "barpolar": [
           {
            "marker": {
             "line": {
              "color": "#E5ECF6",
              "width": 0.5
             },
             "pattern": {
              "fillmode": "overlay",
              "size": 10,
              "solidity": 0.2
             }
            },
            "type": "barpolar"
           }
          ],
          "carpet": [
           {
            "aaxis": {
             "endlinecolor": "#2a3f5f",
             "gridcolor": "white",
             "linecolor": "white",
             "minorgridcolor": "white",
             "startlinecolor": "#2a3f5f"
            },
            "baxis": {
             "endlinecolor": "#2a3f5f",
             "gridcolor": "white",
             "linecolor": "white",
             "minorgridcolor": "white",
             "startlinecolor": "#2a3f5f"
            },
            "type": "carpet"
           }
          ],
          "choropleth": [
           {
            "colorbar": {
             "outlinewidth": 0,
             "ticks": ""
            },
            "type": "choropleth"
           }
          ],
          "contour": [
           {
            "colorbar": {
             "outlinewidth": 0,
             "ticks": ""
            },
            "colorscale": [
             [
              0,
              "#0d0887"
             ],
             [
              0.1111111111111111,
              "#46039f"
             ],
             [
              0.2222222222222222,
              "#7201a8"
             ],
             [
              0.3333333333333333,
              "#9c179e"
             ],
             [
              0.4444444444444444,
              "#bd3786"
             ],
             [
              0.5555555555555556,
              "#d8576b"
             ],
             [
              0.6666666666666666,
              "#ed7953"
             ],
             [
              0.7777777777777778,
              "#fb9f3a"
             ],
             [
              0.8888888888888888,
              "#fdca26"
             ],
             [
              1,
              "#f0f921"
             ]
            ],
            "type": "contour"
           }
          ],
          "contourcarpet": [
           {
            "colorbar": {
             "outlinewidth": 0,
             "ticks": ""
            },
            "type": "contourcarpet"
           }
          ],
          "heatmap": [
           {
            "colorbar": {
             "outlinewidth": 0,
             "ticks": ""
            },
            "colorscale": [
             [
              0,
              "#0d0887"
             ],
             [
              0.1111111111111111,
              "#46039f"
             ],
             [
              0.2222222222222222,
              "#7201a8"
             ],
             [
              0.3333333333333333,
              "#9c179e"
             ],
             [
              0.4444444444444444,
              "#bd3786"
             ],
             [
              0.5555555555555556,
              "#d8576b"
             ],
             [
              0.6666666666666666,
              "#ed7953"
             ],
             [
              0.7777777777777778,
              "#fb9f3a"
             ],
             [
              0.8888888888888888,
              "#fdca26"
             ],
             [
              1,
              "#f0f921"
             ]
            ],
            "type": "heatmap"
           }
          ],
          "heatmapgl": [
           {
            "colorbar": {
             "outlinewidth": 0,
             "ticks": ""
            },
            "colorscale": [
             [
              0,
              "#0d0887"
             ],
             [
              0.1111111111111111,
              "#46039f"
             ],
             [
              0.2222222222222222,
              "#7201a8"
             ],
             [
              0.3333333333333333,
              "#9c179e"
             ],
             [
              0.4444444444444444,
              "#bd3786"
             ],
             [
              0.5555555555555556,
              "#d8576b"
             ],
             [
              0.6666666666666666,
              "#ed7953"
             ],
             [
              0.7777777777777778,
              "#fb9f3a"
             ],
             [
              0.8888888888888888,
              "#fdca26"
             ],
             [
              1,
              "#f0f921"
             ]
            ],
            "type": "heatmapgl"
           }
          ],
          "histogram": [
           {
            "marker": {
             "pattern": {
              "fillmode": "overlay",
              "size": 10,
              "solidity": 0.2
             }
            },
            "type": "histogram"
           }
          ],
          "histogram2d": [
           {
            "colorbar": {
             "outlinewidth": 0,
             "ticks": ""
            },
            "colorscale": [
             [
              0,
              "#0d0887"
             ],
             [
              0.1111111111111111,
              "#46039f"
             ],
             [
              0.2222222222222222,
              "#7201a8"
             ],
             [
              0.3333333333333333,
              "#9c179e"
             ],
             [
              0.4444444444444444,
              "#bd3786"
             ],
             [
              0.5555555555555556,
              "#d8576b"
             ],
             [
              0.6666666666666666,
              "#ed7953"
             ],
             [
              0.7777777777777778,
              "#fb9f3a"
             ],
             [
              0.8888888888888888,
              "#fdca26"
             ],
             [
              1,
              "#f0f921"
             ]
            ],
            "type": "histogram2d"
           }
          ],
          "histogram2dcontour": [
           {
            "colorbar": {
             "outlinewidth": 0,
             "ticks": ""
            },
            "colorscale": [
             [
              0,
              "#0d0887"
             ],
             [
              0.1111111111111111,
              "#46039f"
             ],
             [
              0.2222222222222222,
              "#7201a8"
             ],
             [
              0.3333333333333333,
              "#9c179e"
             ],
             [
              0.4444444444444444,
              "#bd3786"
             ],
             [
              0.5555555555555556,
              "#d8576b"
             ],
             [
              0.6666666666666666,
              "#ed7953"
             ],
             [
              0.7777777777777778,
              "#fb9f3a"
             ],
             [
              0.8888888888888888,
              "#fdca26"
             ],
             [
              1,
              "#f0f921"
             ]
            ],
            "type": "histogram2dcontour"
           }
          ],
          "mesh3d": [
           {
            "colorbar": {
             "outlinewidth": 0,
             "ticks": ""
            },
            "type": "mesh3d"
           }
          ],
          "parcoords": [
           {
            "line": {
             "colorbar": {
              "outlinewidth": 0,
              "ticks": ""
             }
            },
            "type": "parcoords"
           }
          ],
          "pie": [
           {
            "automargin": true,
            "type": "pie"
           }
          ],
          "scatter": [
           {
            "marker": {
             "colorbar": {
              "outlinewidth": 0,
              "ticks": ""
             }
            },
            "type": "scatter"
           }
          ],
          "scatter3d": [
           {
            "line": {
             "colorbar": {
              "outlinewidth": 0,
              "ticks": ""
             }
            },
            "marker": {
             "colorbar": {
              "outlinewidth": 0,
              "ticks": ""
             }
            },
            "type": "scatter3d"
           }
          ],
          "scattercarpet": [
           {
            "marker": {
             "colorbar": {
              "outlinewidth": 0,
              "ticks": ""
             }
            },
            "type": "scattercarpet"
           }
          ],
          "scattergeo": [
           {
            "marker": {
             "colorbar": {
              "outlinewidth": 0,
              "ticks": ""
             }
            },
            "type": "scattergeo"
           }
          ],
          "scattergl": [
           {
            "marker": {
             "colorbar": {
              "outlinewidth": 0,
              "ticks": ""
             }
            },
            "type": "scattergl"
           }
          ],
          "scattermapbox": [
           {
            "marker": {
             "colorbar": {
              "outlinewidth": 0,
              "ticks": ""
             }
            },
            "type": "scattermapbox"
           }
          ],
          "scatterpolar": [
           {
            "marker": {
             "colorbar": {
              "outlinewidth": 0,
              "ticks": ""
             }
            },
            "type": "scatterpolar"
           }
          ],
          "scatterpolargl": [
           {
            "marker": {
             "colorbar": {
              "outlinewidth": 0,
              "ticks": ""
             }
            },
            "type": "scatterpolargl"
           }
          ],
          "scatterternary": [
           {
            "marker": {
             "colorbar": {
              "outlinewidth": 0,
              "ticks": ""
             }
            },
            "type": "scatterternary"
           }
          ],
          "surface": [
           {
            "colorbar": {
             "outlinewidth": 0,
             "ticks": ""
            },
            "colorscale": [
             [
              0,
              "#0d0887"
             ],
             [
              0.1111111111111111,
              "#46039f"
             ],
             [
              0.2222222222222222,
              "#7201a8"
             ],
             [
              0.3333333333333333,
              "#9c179e"
             ],
             [
              0.4444444444444444,
              "#bd3786"
             ],
             [
              0.5555555555555556,
              "#d8576b"
             ],
             [
              0.6666666666666666,
              "#ed7953"
             ],
             [
              0.7777777777777778,
              "#fb9f3a"
             ],
             [
              0.8888888888888888,
              "#fdca26"
             ],
             [
              1,
              "#f0f921"
             ]
            ],
            "type": "surface"
           }
          ],
          "table": [
           {
            "cells": {
             "fill": {
              "color": "#EBF0F8"
             },
             "line": {
              "color": "white"
             }
            },
            "header": {
             "fill": {
              "color": "#C8D4E3"
             },
             "line": {
              "color": "white"
             }
            },
            "type": "table"
           }
          ]
         },
         "layout": {
          "annotationdefaults": {
           "arrowcolor": "#2a3f5f",
           "arrowhead": 0,
           "arrowwidth": 1
          },
          "autotypenumbers": "strict",
          "coloraxis": {
           "colorbar": {
            "outlinewidth": 0,
            "ticks": ""
           }
          },
          "colorscale": {
           "diverging": [
            [
             0,
             "#8e0152"
            ],
            [
             0.1,
             "#c51b7d"
            ],
            [
             0.2,
             "#de77ae"
            ],
            [
             0.3,
             "#f1b6da"
            ],
            [
             0.4,
             "#fde0ef"
            ],
            [
             0.5,
             "#f7f7f7"
            ],
            [
             0.6,
             "#e6f5d0"
            ],
            [
             0.7,
             "#b8e186"
            ],
            [
             0.8,
             "#7fbc41"
            ],
            [
             0.9,
             "#4d9221"
            ],
            [
             1,
             "#276419"
            ]
           ],
           "sequential": [
            [
             0,
             "#0d0887"
            ],
            [
             0.1111111111111111,
             "#46039f"
            ],
            [
             0.2222222222222222,
             "#7201a8"
            ],
            [
             0.3333333333333333,
             "#9c179e"
            ],
            [
             0.4444444444444444,
             "#bd3786"
            ],
            [
             0.5555555555555556,
             "#d8576b"
            ],
            [
             0.6666666666666666,
             "#ed7953"
            ],
            [
             0.7777777777777778,
             "#fb9f3a"
            ],
            [
             0.8888888888888888,
             "#fdca26"
            ],
            [
             1,
             "#f0f921"
            ]
           ],
           "sequentialminus": [
            [
             0,
             "#0d0887"
            ],
            [
             0.1111111111111111,
             "#46039f"
            ],
            [
             0.2222222222222222,
             "#7201a8"
            ],
            [
             0.3333333333333333,
             "#9c179e"
            ],
            [
             0.4444444444444444,
             "#bd3786"
            ],
            [
             0.5555555555555556,
             "#d8576b"
            ],
            [
             0.6666666666666666,
             "#ed7953"
            ],
            [
             0.7777777777777778,
             "#fb9f3a"
            ],
            [
             0.8888888888888888,
             "#fdca26"
            ],
            [
             1,
             "#f0f921"
            ]
           ]
          },
          "colorway": [
           "#636efa",
           "#EF553B",
           "#00cc96",
           "#ab63fa",
           "#FFA15A",
           "#19d3f3",
           "#FF6692",
           "#B6E880",
           "#FF97FF",
           "#FECB52"
          ],
          "font": {
           "color": "#2a3f5f"
          },
          "geo": {
           "bgcolor": "white",
           "lakecolor": "white",
           "landcolor": "#E5ECF6",
           "showlakes": true,
           "showland": true,
           "subunitcolor": "white"
          },
          "hoverlabel": {
           "align": "left"
          },
          "hovermode": "closest",
          "mapbox": {
           "style": "light"
          },
          "paper_bgcolor": "white",
          "plot_bgcolor": "#E5ECF6",
          "polar": {
           "angularaxis": {
            "gridcolor": "white",
            "linecolor": "white",
            "ticks": ""
           },
           "bgcolor": "#E5ECF6",
           "radialaxis": {
            "gridcolor": "white",
            "linecolor": "white",
            "ticks": ""
           }
          },
          "scene": {
           "xaxis": {
            "backgroundcolor": "#E5ECF6",
            "gridcolor": "white",
            "gridwidth": 2,
            "linecolor": "white",
            "showbackground": true,
            "ticks": "",
            "zerolinecolor": "white"
           },
           "yaxis": {
            "backgroundcolor": "#E5ECF6",
            "gridcolor": "white",
            "gridwidth": 2,
            "linecolor": "white",
            "showbackground": true,
            "ticks": "",
            "zerolinecolor": "white"
           },
           "zaxis": {
            "backgroundcolor": "#E5ECF6",
            "gridcolor": "white",
            "gridwidth": 2,
            "linecolor": "white",
            "showbackground": true,
            "ticks": "",
            "zerolinecolor": "white"
           }
          },
          "shapedefaults": {
           "line": {
            "color": "#2a3f5f"
           }
          },
          "ternary": {
           "aaxis": {
            "gridcolor": "white",
            "linecolor": "white",
            "ticks": ""
           },
           "baxis": {
            "gridcolor": "white",
            "linecolor": "white",
            "ticks": ""
           },
           "bgcolor": "#E5ECF6",
           "caxis": {
            "gridcolor": "white",
            "linecolor": "white",
            "ticks": ""
           }
          },
          "title": {
           "x": 0.05
          },
          "xaxis": {
           "automargin": true,
           "gridcolor": "white",
           "linecolor": "white",
           "ticks": "",
           "title": {
            "standoff": 15
           },
           "zerolinecolor": "white",
           "zerolinewidth": 2
          },
          "yaxis": {
           "automargin": true,
           "gridcolor": "white",
           "linecolor": "white",
           "ticks": "",
           "title": {
            "standoff": 15
           },
           "zerolinecolor": "white",
           "zerolinewidth": 2
          }
         }
        }
       }
      },
      "text/html": [
       "<div>                            <div id=\"bb05c405-949f-43e0-ab28-4457216cb25f\" class=\"plotly-graph-div\" style=\"height:525px; width:100%;\"></div>            <script type=\"text/javascript\">                require([\"plotly\"], function(Plotly) {                    window.PLOTLYENV=window.PLOTLYENV || {};                                    if (document.getElementById(\"bb05c405-949f-43e0-ab28-4457216cb25f\")) {                    Plotly.newPlot(                        \"bb05c405-949f-43e0-ab28-4457216cb25f\",                        [{\"dimensions\":[{\"label\":\"cluster\",\"values\":[0,1,2,3]},{\"label\":\"Population\",\"values\":[42916.9963963964,3005.475767918089,9380.89945155393,21035.966135458166]},{\"label\":\"AverageHouseValue\",\"values\":[249506.66666666666,112851.77474402731,454443.32723948814,189501.593625498]},{\"label\":\"IncomePerHousehold\",\"values\":[67718.22342342342,40666.8795221843,110179.14990859233,56011.873505976095]},{\"label\":\"over_65_ratio\",\"values\":[0.14841726763457322,0.21313947167354322,0.20078967100950143,0.188205716724101]}],\"domain\":{\"x\":[0.0,1.0],\"y\":[0.0,1.0]},\"line\":{\"color\":[0,1,2,3],\"coloraxis\":\"coloraxis\"},\"name\":\"\",\"type\":\"parcoords\"}],                        {\"coloraxis\":{\"colorbar\":{\"title\":{\"text\":\"cluster\"}},\"colorscale\":[[0.0,\"#0d0887\"],[0.1111111111111111,\"#46039f\"],[0.2222222222222222,\"#7201a8\"],[0.3333333333333333,\"#9c179e\"],[0.4444444444444444,\"#bd3786\"],[0.5555555555555556,\"#d8576b\"],[0.6666666666666666,\"#ed7953\"],[0.7777777777777778,\"#fb9f3a\"],[0.8888888888888888,\"#fdca26\"],[1.0,\"#f0f921\"]]},\"legend\":{\"tracegroupgap\":0},\"margin\":{\"t\":60},\"template\":{\"data\":{\"bar\":[{\"error_x\":{\"color\":\"#2a3f5f\"},\"error_y\":{\"color\":\"#2a3f5f\"},\"marker\":{\"line\":{\"color\":\"#E5ECF6\",\"width\":0.5},\"pattern\":{\"fillmode\":\"overlay\",\"size\":10,\"solidity\":0.2}},\"type\":\"bar\"}],\"barpolar\":[{\"marker\":{\"line\":{\"color\":\"#E5ECF6\",\"width\":0.5},\"pattern\":{\"fillmode\":\"overlay\",\"size\":10,\"solidity\":0.2}},\"type\":\"barpolar\"}],\"carpet\":[{\"aaxis\":{\"endlinecolor\":\"#2a3f5f\",\"gridcolor\":\"white\",\"linecolor\":\"white\",\"minorgridcolor\":\"white\",\"startlinecolor\":\"#2a3f5f\"},\"baxis\":{\"endlinecolor\":\"#2a3f5f\",\"gridcolor\":\"white\",\"linecolor\":\"white\",\"minorgridcolor\":\"white\",\"startlinecolor\":\"#2a3f5f\"},\"type\":\"carpet\"}],\"choropleth\":[{\"colorbar\":{\"outlinewidth\":0,\"ticks\":\"\"},\"type\":\"choropleth\"}],\"contour\":[{\"colorbar\":{\"outlinewidth\":0,\"ticks\":\"\"},\"colorscale\":[[0.0,\"#0d0887\"],[0.1111111111111111,\"#46039f\"],[0.2222222222222222,\"#7201a8\"],[0.3333333333333333,\"#9c179e\"],[0.4444444444444444,\"#bd3786\"],[0.5555555555555556,\"#d8576b\"],[0.6666666666666666,\"#ed7953\"],[0.7777777777777778,\"#fb9f3a\"],[0.8888888888888888,\"#fdca26\"],[1.0,\"#f0f921\"]],\"type\":\"contour\"}],\"contourcarpet\":[{\"colorbar\":{\"outlinewidth\":0,\"ticks\":\"\"},\"type\":\"contourcarpet\"}],\"heatmap\":[{\"colorbar\":{\"outlinewidth\":0,\"ticks\":\"\"},\"colorscale\":[[0.0,\"#0d0887\"],[0.1111111111111111,\"#46039f\"],[0.2222222222222222,\"#7201a8\"],[0.3333333333333333,\"#9c179e\"],[0.4444444444444444,\"#bd3786\"],[0.5555555555555556,\"#d8576b\"],[0.6666666666666666,\"#ed7953\"],[0.7777777777777778,\"#fb9f3a\"],[0.8888888888888888,\"#fdca26\"],[1.0,\"#f0f921\"]],\"type\":\"heatmap\"}],\"heatmapgl\":[{\"colorbar\":{\"outlinewidth\":0,\"ticks\":\"\"},\"colorscale\":[[0.0,\"#0d0887\"],[0.1111111111111111,\"#46039f\"],[0.2222222222222222,\"#7201a8\"],[0.3333333333333333,\"#9c179e\"],[0.4444444444444444,\"#bd3786\"],[0.5555555555555556,\"#d8576b\"],[0.6666666666666666,\"#ed7953\"],[0.7777777777777778,\"#fb9f3a\"],[0.8888888888888888,\"#fdca26\"],[1.0,\"#f0f921\"]],\"type\":\"heatmapgl\"}],\"histogram\":[{\"marker\":{\"pattern\":{\"fillmode\":\"overlay\",\"size\":10,\"solidity\":0.2}},\"type\":\"histogram\"}],\"histogram2d\":[{\"colorbar\":{\"outlinewidth\":0,\"ticks\":\"\"},\"colorscale\":[[0.0,\"#0d0887\"],[0.1111111111111111,\"#46039f\"],[0.2222222222222222,\"#7201a8\"],[0.3333333333333333,\"#9c179e\"],[0.4444444444444444,\"#bd3786\"],[0.5555555555555556,\"#d8576b\"],[0.6666666666666666,\"#ed7953\"],[0.7777777777777778,\"#fb9f3a\"],[0.8888888888888888,\"#fdca26\"],[1.0,\"#f0f921\"]],\"type\":\"histogram2d\"}],\"histogram2dcontour\":[{\"colorbar\":{\"outlinewidth\":0,\"ticks\":\"\"},\"colorscale\":[[0.0,\"#0d0887\"],[0.1111111111111111,\"#46039f\"],[0.2222222222222222,\"#7201a8\"],[0.3333333333333333,\"#9c179e\"],[0.4444444444444444,\"#bd3786\"],[0.5555555555555556,\"#d8576b\"],[0.6666666666666666,\"#ed7953\"],[0.7777777777777778,\"#fb9f3a\"],[0.8888888888888888,\"#fdca26\"],[1.0,\"#f0f921\"]],\"type\":\"histogram2dcontour\"}],\"mesh3d\":[{\"colorbar\":{\"outlinewidth\":0,\"ticks\":\"\"},\"type\":\"mesh3d\"}],\"parcoords\":[{\"line\":{\"colorbar\":{\"outlinewidth\":0,\"ticks\":\"\"}},\"type\":\"parcoords\"}],\"pie\":[{\"automargin\":true,\"type\":\"pie\"}],\"scatter\":[{\"marker\":{\"colorbar\":{\"outlinewidth\":0,\"ticks\":\"\"}},\"type\":\"scatter\"}],\"scatter3d\":[{\"line\":{\"colorbar\":{\"outlinewidth\":0,\"ticks\":\"\"}},\"marker\":{\"colorbar\":{\"outlinewidth\":0,\"ticks\":\"\"}},\"type\":\"scatter3d\"}],\"scattercarpet\":[{\"marker\":{\"colorbar\":{\"outlinewidth\":0,\"ticks\":\"\"}},\"type\":\"scattercarpet\"}],\"scattergeo\":[{\"marker\":{\"colorbar\":{\"outlinewidth\":0,\"ticks\":\"\"}},\"type\":\"scattergeo\"}],\"scattergl\":[{\"marker\":{\"colorbar\":{\"outlinewidth\":0,\"ticks\":\"\"}},\"type\":\"scattergl\"}],\"scattermapbox\":[{\"marker\":{\"colorbar\":{\"outlinewidth\":0,\"ticks\":\"\"}},\"type\":\"scattermapbox\"}],\"scatterpolar\":[{\"marker\":{\"colorbar\":{\"outlinewidth\":0,\"ticks\":\"\"}},\"type\":\"scatterpolar\"}],\"scatterpolargl\":[{\"marker\":{\"colorbar\":{\"outlinewidth\":0,\"ticks\":\"\"}},\"type\":\"scatterpolargl\"}],\"scatterternary\":[{\"marker\":{\"colorbar\":{\"outlinewidth\":0,\"ticks\":\"\"}},\"type\":\"scatterternary\"}],\"surface\":[{\"colorbar\":{\"outlinewidth\":0,\"ticks\":\"\"},\"colorscale\":[[0.0,\"#0d0887\"],[0.1111111111111111,\"#46039f\"],[0.2222222222222222,\"#7201a8\"],[0.3333333333333333,\"#9c179e\"],[0.4444444444444444,\"#bd3786\"],[0.5555555555555556,\"#d8576b\"],[0.6666666666666666,\"#ed7953\"],[0.7777777777777778,\"#fb9f3a\"],[0.8888888888888888,\"#fdca26\"],[1.0,\"#f0f921\"]],\"type\":\"surface\"}],\"table\":[{\"cells\":{\"fill\":{\"color\":\"#EBF0F8\"},\"line\":{\"color\":\"white\"}},\"header\":{\"fill\":{\"color\":\"#C8D4E3\"},\"line\":{\"color\":\"white\"}},\"type\":\"table\"}]},\"layout\":{\"annotationdefaults\":{\"arrowcolor\":\"#2a3f5f\",\"arrowhead\":0,\"arrowwidth\":1},\"autotypenumbers\":\"strict\",\"coloraxis\":{\"colorbar\":{\"outlinewidth\":0,\"ticks\":\"\"}},\"colorscale\":{\"diverging\":[[0,\"#8e0152\"],[0.1,\"#c51b7d\"],[0.2,\"#de77ae\"],[0.3,\"#f1b6da\"],[0.4,\"#fde0ef\"],[0.5,\"#f7f7f7\"],[0.6,\"#e6f5d0\"],[0.7,\"#b8e186\"],[0.8,\"#7fbc41\"],[0.9,\"#4d9221\"],[1,\"#276419\"]],\"sequential\":[[0.0,\"#0d0887\"],[0.1111111111111111,\"#46039f\"],[0.2222222222222222,\"#7201a8\"],[0.3333333333333333,\"#9c179e\"],[0.4444444444444444,\"#bd3786\"],[0.5555555555555556,\"#d8576b\"],[0.6666666666666666,\"#ed7953\"],[0.7777777777777778,\"#fb9f3a\"],[0.8888888888888888,\"#fdca26\"],[1.0,\"#f0f921\"]],\"sequentialminus\":[[0.0,\"#0d0887\"],[0.1111111111111111,\"#46039f\"],[0.2222222222222222,\"#7201a8\"],[0.3333333333333333,\"#9c179e\"],[0.4444444444444444,\"#bd3786\"],[0.5555555555555556,\"#d8576b\"],[0.6666666666666666,\"#ed7953\"],[0.7777777777777778,\"#fb9f3a\"],[0.8888888888888888,\"#fdca26\"],[1.0,\"#f0f921\"]]},\"colorway\":[\"#636efa\",\"#EF553B\",\"#00cc96\",\"#ab63fa\",\"#FFA15A\",\"#19d3f3\",\"#FF6692\",\"#B6E880\",\"#FF97FF\",\"#FECB52\"],\"font\":{\"color\":\"#2a3f5f\"},\"geo\":{\"bgcolor\":\"white\",\"lakecolor\":\"white\",\"landcolor\":\"#E5ECF6\",\"showlakes\":true,\"showland\":true,\"subunitcolor\":\"white\"},\"hoverlabel\":{\"align\":\"left\"},\"hovermode\":\"closest\",\"mapbox\":{\"style\":\"light\"},\"paper_bgcolor\":\"white\",\"plot_bgcolor\":\"#E5ECF6\",\"polar\":{\"angularaxis\":{\"gridcolor\":\"white\",\"linecolor\":\"white\",\"ticks\":\"\"},\"bgcolor\":\"#E5ECF6\",\"radialaxis\":{\"gridcolor\":\"white\",\"linecolor\":\"white\",\"ticks\":\"\"}},\"scene\":{\"xaxis\":{\"backgroundcolor\":\"#E5ECF6\",\"gridcolor\":\"white\",\"gridwidth\":2,\"linecolor\":\"white\",\"showbackground\":true,\"ticks\":\"\",\"zerolinecolor\":\"white\"},\"yaxis\":{\"backgroundcolor\":\"#E5ECF6\",\"gridcolor\":\"white\",\"gridwidth\":2,\"linecolor\":\"white\",\"showbackground\":true,\"ticks\":\"\",\"zerolinecolor\":\"white\"},\"zaxis\":{\"backgroundcolor\":\"#E5ECF6\",\"gridcolor\":\"white\",\"gridwidth\":2,\"linecolor\":\"white\",\"showbackground\":true,\"ticks\":\"\",\"zerolinecolor\":\"white\"}},\"shapedefaults\":{\"line\":{\"color\":\"#2a3f5f\"}},\"ternary\":{\"aaxis\":{\"gridcolor\":\"white\",\"linecolor\":\"white\",\"ticks\":\"\"},\"baxis\":{\"gridcolor\":\"white\",\"linecolor\":\"white\",\"ticks\":\"\"},\"bgcolor\":\"#E5ECF6\",\"caxis\":{\"gridcolor\":\"white\",\"linecolor\":\"white\",\"ticks\":\"\"}},\"title\":{\"x\":0.05},\"xaxis\":{\"automargin\":true,\"gridcolor\":\"white\",\"linecolor\":\"white\",\"ticks\":\"\",\"title\":{\"standoff\":15},\"zerolinecolor\":\"white\",\"zerolinewidth\":2},\"yaxis\":{\"automargin\":true,\"gridcolor\":\"white\",\"linecolor\":\"white\",\"ticks\":\"\",\"title\":{\"standoff\":15},\"zerolinecolor\":\"white\",\"zerolinewidth\":2}}}},                        {\"responsive\": true}                    ).then(function(){\n",
       "                            \n",
       "var gd = document.getElementById('bb05c405-949f-43e0-ab28-4457216cb25f');\n",
       "var x = new MutationObserver(function (mutations, observer) {{\n",
       "        var display = window.getComputedStyle(gd).display;\n",
       "        if (!display || display === 'none') {{\n",
       "            console.log([gd, 'removed!']);\n",
       "            Plotly.purge(gd);\n",
       "            observer.disconnect();\n",
       "        }}\n",
       "}});\n",
       "\n",
       "// Listen for the removal of the full notebook cells\n",
       "var notebookContainer = gd.closest('#notebook-container');\n",
       "if (notebookContainer) {{\n",
       "    x.observe(notebookContainer, {childList: true});\n",
       "}}\n",
       "\n",
       "// Listen for the clearing of the current output cell\n",
       "var outputEl = gd.closest('.output');\n",
       "if (outputEl) {{\n",
       "    x.observe(outputEl, {childList: true});\n",
       "}}\n",
       "\n",
       "                        })                };                });            </script>        </div>"
      ]
     },
     "metadata": {},
     "output_type": "display_data"
    }
   ],
   "source": [
    "grouped = zip_data.groupby('cluster')[ 'Population', 'HouseholdsPerZipCode','AverageHouseValue', 'over_65_ratio','school_rating', 'IncomePerHousehold', 'NumberOfBusinesses','Hosp_count'].mean()\n",
    "grouped = grouped.reset_index()\n",
    "fig = px.parallel_coordinates(grouped, color = 'cluster', \n",
    "                             dimensions = ['cluster','Population', 'AverageHouseValue', 'IncomePerHousehold', 'over_65_ratio'])\n",
    "fig.show()"
   ]
  },
  {
   "cell_type": "code",
   "execution_count": 49,
   "id": "5d88aec1",
   "metadata": {},
   "outputs": [
    {
     "data": {
      "text/html": [
       "<div>\n",
       "<style scoped>\n",
       "    .dataframe tbody tr th:only-of-type {\n",
       "        vertical-align: middle;\n",
       "    }\n",
       "\n",
       "    .dataframe tbody tr th {\n",
       "        vertical-align: top;\n",
       "    }\n",
       "\n",
       "    .dataframe thead th {\n",
       "        text-align: right;\n",
       "    }\n",
       "</style>\n",
       "<table border=\"1\" class=\"dataframe\">\n",
       "  <thead>\n",
       "    <tr style=\"text-align: right;\">\n",
       "      <th></th>\n",
       "      <th>ZipCode</th>\n",
       "      <th>cluster</th>\n",
       "      <th>Population</th>\n",
       "      <th>HouseholdsPerZipCode</th>\n",
       "      <th>AverageHouseValue</th>\n",
       "      <th>school_rating</th>\n",
       "      <th>IncomePerHousehold</th>\n",
       "      <th>NumberOfBusinesses</th>\n",
       "      <th>Hosp_count</th>\n",
       "      <th>over_65_ratio</th>\n",
       "    </tr>\n",
       "  </thead>\n",
       "  <tbody>\n",
       "    <tr>\n",
       "      <th>0</th>\n",
       "      <td>20001</td>\n",
       "      <td>0</td>\n",
       "      <td>38551</td>\n",
       "      <td>16500</td>\n",
       "      <td>692900</td>\n",
       "      <td>5.727273</td>\n",
       "      <td>116195</td>\n",
       "      <td>1978</td>\n",
       "      <td>1.008264</td>\n",
       "      <td>0.078726</td>\n",
       "    </tr>\n",
       "    <tr>\n",
       "      <th>1</th>\n",
       "      <td>20002</td>\n",
       "      <td>0</td>\n",
       "      <td>52370</td>\n",
       "      <td>22973</td>\n",
       "      <td>637300</td>\n",
       "      <td>4.851852</td>\n",
       "      <td>90424</td>\n",
       "      <td>1674</td>\n",
       "      <td>1.008264</td>\n",
       "      <td>0.085151</td>\n",
       "    </tr>\n",
       "    <tr>\n",
       "      <th>2</th>\n",
       "      <td>20003</td>\n",
       "      <td>2</td>\n",
       "      <td>26454</td>\n",
       "      <td>11724</td>\n",
       "      <td>806500</td>\n",
       "      <td>5.416667</td>\n",
       "      <td>134438</td>\n",
       "      <td>1227</td>\n",
       "      <td>1.008264</td>\n",
       "      <td>0.101423</td>\n",
       "    </tr>\n",
       "    <tr>\n",
       "      <th>3</th>\n",
       "      <td>20004</td>\n",
       "      <td>2</td>\n",
       "      <td>1622</td>\n",
       "      <td>1127</td>\n",
       "      <td>594600</td>\n",
       "      <td>8.000000</td>\n",
       "      <td>146822</td>\n",
       "      <td>961</td>\n",
       "      <td>1.008264</td>\n",
       "      <td>0.117005</td>\n",
       "    </tr>\n",
       "    <tr>\n",
       "      <th>4</th>\n",
       "      <td>20005</td>\n",
       "      <td>2</td>\n",
       "      <td>12775</td>\n",
       "      <td>8316</td>\n",
       "      <td>536700</td>\n",
       "      <td>6.000000</td>\n",
       "      <td>93956</td>\n",
       "      <td>2366</td>\n",
       "      <td>1.008264</td>\n",
       "      <td>0.090953</td>\n",
       "    </tr>\n",
       "    <tr>\n",
       "      <th>...</th>\n",
       "      <td>...</td>\n",
       "      <td>...</td>\n",
       "      <td>...</td>\n",
       "      <td>...</td>\n",
       "      <td>...</td>\n",
       "      <td>...</td>\n",
       "      <td>...</td>\n",
       "      <td>...</td>\n",
       "      <td>...</td>\n",
       "      <td>...</td>\n",
       "    </tr>\n",
       "    <tr>\n",
       "      <th>5031</th>\n",
       "      <td>39870</td>\n",
       "      <td>1</td>\n",
       "      <td>2238</td>\n",
       "      <td>886</td>\n",
       "      <td>91200</td>\n",
       "      <td>3.000000</td>\n",
       "      <td>27203</td>\n",
       "      <td>25</td>\n",
       "      <td>1.008264</td>\n",
       "      <td>0.190947</td>\n",
       "    </tr>\n",
       "    <tr>\n",
       "      <th>5032</th>\n",
       "      <td>39877</td>\n",
       "      <td>1</td>\n",
       "      <td>500</td>\n",
       "      <td>197</td>\n",
       "      <td>68700</td>\n",
       "      <td>5.279213</td>\n",
       "      <td>32750</td>\n",
       "      <td>8</td>\n",
       "      <td>1.008264</td>\n",
       "      <td>0.451039</td>\n",
       "    </tr>\n",
       "    <tr>\n",
       "      <th>5033</th>\n",
       "      <td>39885</td>\n",
       "      <td>1</td>\n",
       "      <td>76</td>\n",
       "      <td>37</td>\n",
       "      <td>125000</td>\n",
       "      <td>5.279213</td>\n",
       "      <td>39167</td>\n",
       "      <td>7</td>\n",
       "      <td>1.008264</td>\n",
       "      <td>0.321429</td>\n",
       "    </tr>\n",
       "    <tr>\n",
       "      <th>5034</th>\n",
       "      <td>39886</td>\n",
       "      <td>1</td>\n",
       "      <td>1616</td>\n",
       "      <td>675</td>\n",
       "      <td>66900</td>\n",
       "      <td>3.000000</td>\n",
       "      <td>36602</td>\n",
       "      <td>31</td>\n",
       "      <td>1.008264</td>\n",
       "      <td>0.195031</td>\n",
       "    </tr>\n",
       "    <tr>\n",
       "      <th>5035</th>\n",
       "      <td>39897</td>\n",
       "      <td>1</td>\n",
       "      <td>3430</td>\n",
       "      <td>1332</td>\n",
       "      <td>67700</td>\n",
       "      <td>5.000000</td>\n",
       "      <td>47026</td>\n",
       "      <td>37</td>\n",
       "      <td>1.008264</td>\n",
       "      <td>0.171983</td>\n",
       "    </tr>\n",
       "  </tbody>\n",
       "</table>\n",
       "<p>5036 rows × 10 columns</p>\n",
       "</div>"
      ],
      "text/plain": [
       "      ZipCode  cluster  Population  HouseholdsPerZipCode  AverageHouseValue  \\\n",
       "0       20001        0       38551                 16500             692900   \n",
       "1       20002        0       52370                 22973             637300   \n",
       "2       20003        2       26454                 11724             806500   \n",
       "3       20004        2        1622                  1127             594600   \n",
       "4       20005        2       12775                  8316             536700   \n",
       "...       ...      ...         ...                   ...                ...   \n",
       "5031    39870        1        2238                   886              91200   \n",
       "5032    39877        1         500                   197              68700   \n",
       "5033    39885        1          76                    37             125000   \n",
       "5034    39886        1        1616                   675              66900   \n",
       "5035    39897        1        3430                  1332              67700   \n",
       "\n",
       "      school_rating  IncomePerHousehold  NumberOfBusinesses  Hosp_count  \\\n",
       "0          5.727273              116195                1978    1.008264   \n",
       "1          4.851852               90424                1674    1.008264   \n",
       "2          5.416667              134438                1227    1.008264   \n",
       "3          8.000000              146822                 961    1.008264   \n",
       "4          6.000000               93956                2366    1.008264   \n",
       "...             ...                 ...                 ...         ...   \n",
       "5031       3.000000               27203                  25    1.008264   \n",
       "5032       5.279213               32750                   8    1.008264   \n",
       "5033       5.279213               39167                   7    1.008264   \n",
       "5034       3.000000               36602                  31    1.008264   \n",
       "5035       5.000000               47026                  37    1.008264   \n",
       "\n",
       "      over_65_ratio  \n",
       "0          0.078726  \n",
       "1          0.085151  \n",
       "2          0.101423  \n",
       "3          0.117005  \n",
       "4          0.090953  \n",
       "...             ...  \n",
       "5031       0.190947  \n",
       "5032       0.451039  \n",
       "5033       0.321429  \n",
       "5034       0.195031  \n",
       "5035       0.171983  \n",
       "\n",
       "[5036 rows x 10 columns]"
      ]
     },
     "execution_count": 49,
     "metadata": {},
     "output_type": "execute_result"
    }
   ],
   "source": [
    "for_merge = zip_data[['cluster', 'Population', 'HouseholdsPerZipCode','AverageHouseValue', 'school_rating', 'IncomePerHousehold', 'NumberOfBusinesses','Hosp_count', 'over_65_ratio']]\n",
    "for_merge = for_merge.reset_index()\n",
    "for_merge"
   ]
  },
  {
   "cell_type": "code",
   "execution_count": 40,
   "id": "e3f1838d",
   "metadata": {},
   "outputs": [
    {
     "name": "stdout",
     "output_type": "stream",
     "text": [
      "----pulling Redfin data from Azure storage----\n",
      "----Done----\n",
      "----pulling schools data from Azure storage----\n",
      "----Done----\n",
      "----merging all data----\n",
      "----Done----\n",
      "Shape: (75360, 22)\n"
     ]
    }
   ],
   "source": [
    "df = get_all()"
   ]
  },
  {
   "cell_type": "code",
   "execution_count": 41,
   "id": "1a2c873a",
   "metadata": {},
   "outputs": [],
   "source": [
    "df = pd.merge(df, for_merge, how = 'left', left_on = 'zip', right_on = 'ZipCode')"
   ]
  },
  {
   "cell_type": "code",
   "execution_count": 42,
   "id": "358e57fe",
   "metadata": {},
   "outputs": [
    {
     "data": {
      "text/html": [
       "<div>\n",
       "<style scoped>\n",
       "    .dataframe tbody tr th:only-of-type {\n",
       "        vertical-align: middle;\n",
       "    }\n",
       "\n",
       "    .dataframe tbody tr th {\n",
       "        vertical-align: top;\n",
       "    }\n",
       "\n",
       "    .dataframe thead th {\n",
       "        text-align: right;\n",
       "    }\n",
       "</style>\n",
       "<table border=\"1\" class=\"dataframe\">\n",
       "  <thead>\n",
       "    <tr style=\"text-align: right;\">\n",
       "      <th></th>\n",
       "      <th>Sale_Type</th>\n",
       "      <th>Sold_Date</th>\n",
       "      <th>Prop_Type</th>\n",
       "      <th>ADDRESS</th>\n",
       "      <th>CITY</th>\n",
       "      <th>State</th>\n",
       "      <th>PRICE</th>\n",
       "      <th>BEDS</th>\n",
       "      <th>BATHS</th>\n",
       "      <th>LOCATION</th>\n",
       "      <th>...</th>\n",
       "      <th>ZipCode</th>\n",
       "      <th>cluster</th>\n",
       "      <th>Population</th>\n",
       "      <th>HouseholdsPerZipCode</th>\n",
       "      <th>AverageHouseValue</th>\n",
       "      <th>school_rating</th>\n",
       "      <th>IncomePerHousehold</th>\n",
       "      <th>NumberOfBusinesses</th>\n",
       "      <th>Hosp_count_y</th>\n",
       "      <th>over_65_ratio</th>\n",
       "    </tr>\n",
       "  </thead>\n",
       "  <tbody>\n",
       "    <tr>\n",
       "      <th>0</th>\n",
       "      <td>MLS Listing</td>\n",
       "      <td>NaN</td>\n",
       "      <td>Condo/Co-op</td>\n",
       "      <td>810 O St NW #201</td>\n",
       "      <td>Washington</td>\n",
       "      <td>DC</td>\n",
       "      <td>899900.0</td>\n",
       "      <td>2.0</td>\n",
       "      <td>2.0</td>\n",
       "      <td>OLD CITY II</td>\n",
       "      <td>...</td>\n",
       "      <td>20001.0</td>\n",
       "      <td>0.0</td>\n",
       "      <td>38551.0</td>\n",
       "      <td>16500.0</td>\n",
       "      <td>692900.0</td>\n",
       "      <td>5.727273</td>\n",
       "      <td>116195.0</td>\n",
       "      <td>1978.0</td>\n",
       "      <td>1.008264</td>\n",
       "      <td>0.078726</td>\n",
       "    </tr>\n",
       "    <tr>\n",
       "      <th>1</th>\n",
       "      <td>MLS Listing</td>\n",
       "      <td>NaN</td>\n",
       "      <td>Townhouse</td>\n",
       "      <td>29 Q St NW</td>\n",
       "      <td>Washington</td>\n",
       "      <td>DC</td>\n",
       "      <td>1175000.0</td>\n",
       "      <td>4.0</td>\n",
       "      <td>3.5</td>\n",
       "      <td>OLD CITY II</td>\n",
       "      <td>...</td>\n",
       "      <td>20001.0</td>\n",
       "      <td>0.0</td>\n",
       "      <td>38551.0</td>\n",
       "      <td>16500.0</td>\n",
       "      <td>692900.0</td>\n",
       "      <td>5.727273</td>\n",
       "      <td>116195.0</td>\n",
       "      <td>1978.0</td>\n",
       "      <td>1.008264</td>\n",
       "      <td>0.078726</td>\n",
       "    </tr>\n",
       "    <tr>\n",
       "      <th>2</th>\n",
       "      <td>MLS Listing</td>\n",
       "      <td>NaN</td>\n",
       "      <td>Condo/Co-op</td>\n",
       "      <td>815 T St NW Unit A</td>\n",
       "      <td>Washington</td>\n",
       "      <td>DC</td>\n",
       "      <td>825000.0</td>\n",
       "      <td>3.0</td>\n",
       "      <td>2.5</td>\n",
       "      <td>OLD CITY II</td>\n",
       "      <td>...</td>\n",
       "      <td>20001.0</td>\n",
       "      <td>0.0</td>\n",
       "      <td>38551.0</td>\n",
       "      <td>16500.0</td>\n",
       "      <td>692900.0</td>\n",
       "      <td>5.727273</td>\n",
       "      <td>116195.0</td>\n",
       "      <td>1978.0</td>\n",
       "      <td>1.008264</td>\n",
       "      <td>0.078726</td>\n",
       "    </tr>\n",
       "    <tr>\n",
       "      <th>3</th>\n",
       "      <td>MLS Listing</td>\n",
       "      <td>NaN</td>\n",
       "      <td>Townhouse</td>\n",
       "      <td>2213 2nd St NW</td>\n",
       "      <td>Washington</td>\n",
       "      <td>DC</td>\n",
       "      <td>835427.0</td>\n",
       "      <td>4.0</td>\n",
       "      <td>2.0</td>\n",
       "      <td>LEDROIT PARK</td>\n",
       "      <td>...</td>\n",
       "      <td>20001.0</td>\n",
       "      <td>0.0</td>\n",
       "      <td>38551.0</td>\n",
       "      <td>16500.0</td>\n",
       "      <td>692900.0</td>\n",
       "      <td>5.727273</td>\n",
       "      <td>116195.0</td>\n",
       "      <td>1978.0</td>\n",
       "      <td>1.008264</td>\n",
       "      <td>0.078726</td>\n",
       "    </tr>\n",
       "    <tr>\n",
       "      <th>4</th>\n",
       "      <td>MLS Listing</td>\n",
       "      <td>NaN</td>\n",
       "      <td>Condo/Co-op</td>\n",
       "      <td>2914 11th St NW #103</td>\n",
       "      <td>Washington</td>\n",
       "      <td>DC</td>\n",
       "      <td>650000.0</td>\n",
       "      <td>2.0</td>\n",
       "      <td>2.0</td>\n",
       "      <td>COLUMBIA HEIGHTS</td>\n",
       "      <td>...</td>\n",
       "      <td>20001.0</td>\n",
       "      <td>0.0</td>\n",
       "      <td>38551.0</td>\n",
       "      <td>16500.0</td>\n",
       "      <td>692900.0</td>\n",
       "      <td>5.727273</td>\n",
       "      <td>116195.0</td>\n",
       "      <td>1978.0</td>\n",
       "      <td>1.008264</td>\n",
       "      <td>0.078726</td>\n",
       "    </tr>\n",
       "    <tr>\n",
       "      <th>...</th>\n",
       "      <td>...</td>\n",
       "      <td>...</td>\n",
       "      <td>...</td>\n",
       "      <td>...</td>\n",
       "      <td>...</td>\n",
       "      <td>...</td>\n",
       "      <td>...</td>\n",
       "      <td>...</td>\n",
       "      <td>...</td>\n",
       "      <td>...</td>\n",
       "      <td>...</td>\n",
       "      <td>...</td>\n",
       "      <td>...</td>\n",
       "      <td>...</td>\n",
       "      <td>...</td>\n",
       "      <td>...</td>\n",
       "      <td>...</td>\n",
       "      <td>...</td>\n",
       "      <td>...</td>\n",
       "      <td>...</td>\n",
       "      <td>...</td>\n",
       "    </tr>\n",
       "    <tr>\n",
       "      <th>75355</th>\n",
       "      <td>MLS Listing</td>\n",
       "      <td>NaN</td>\n",
       "      <td>Multi-Family (2-4 Unit)</td>\n",
       "      <td>3042 SE Clayton St</td>\n",
       "      <td>Stuart</td>\n",
       "      <td>FL</td>\n",
       "      <td>460000.0</td>\n",
       "      <td>6.0</td>\n",
       "      <td>3.0</td>\n",
       "      <td>Golden Gate</td>\n",
       "      <td>...</td>\n",
       "      <td>34997.0</td>\n",
       "      <td>0.0</td>\n",
       "      <td>40405.0</td>\n",
       "      <td>17423.0</td>\n",
       "      <td>253500.0</td>\n",
       "      <td>5.571429</td>\n",
       "      <td>58789.0</td>\n",
       "      <td>1286.0</td>\n",
       "      <td>1.008264</td>\n",
       "      <td>0.299292</td>\n",
       "    </tr>\n",
       "    <tr>\n",
       "      <th>75356</th>\n",
       "      <td>MLS Listing</td>\n",
       "      <td>NaN</td>\n",
       "      <td>Single Family Residential</td>\n",
       "      <td>7430 SW Harbor Cove Dr</td>\n",
       "      <td>Stuart</td>\n",
       "      <td>FL</td>\n",
       "      <td>459900.0</td>\n",
       "      <td>3.0</td>\n",
       "      <td>2.0</td>\n",
       "      <td>Tidewater Point</td>\n",
       "      <td>...</td>\n",
       "      <td>34997.0</td>\n",
       "      <td>0.0</td>\n",
       "      <td>40405.0</td>\n",
       "      <td>17423.0</td>\n",
       "      <td>253500.0</td>\n",
       "      <td>5.571429</td>\n",
       "      <td>58789.0</td>\n",
       "      <td>1286.0</td>\n",
       "      <td>1.008264</td>\n",
       "      <td>0.299292</td>\n",
       "    </tr>\n",
       "    <tr>\n",
       "      <th>75357</th>\n",
       "      <td>MLS Listing</td>\n",
       "      <td>NaN</td>\n",
       "      <td>Single Family Residential</td>\n",
       "      <td>886 SW Blue Stem Way</td>\n",
       "      <td>Stuart</td>\n",
       "      <td>FL</td>\n",
       "      <td>895000.0</td>\n",
       "      <td>4.0</td>\n",
       "      <td>3.5</td>\n",
       "      <td>FLORIDA CLUB PUD PHASE IB</td>\n",
       "      <td>...</td>\n",
       "      <td>34997.0</td>\n",
       "      <td>0.0</td>\n",
       "      <td>40405.0</td>\n",
       "      <td>17423.0</td>\n",
       "      <td>253500.0</td>\n",
       "      <td>5.571429</td>\n",
       "      <td>58789.0</td>\n",
       "      <td>1286.0</td>\n",
       "      <td>1.008264</td>\n",
       "      <td>0.299292</td>\n",
       "    </tr>\n",
       "    <tr>\n",
       "      <th>75358</th>\n",
       "      <td>MLS Listing</td>\n",
       "      <td>NaN</td>\n",
       "      <td>Single Family Residential</td>\n",
       "      <td>6998 SE Sleepy Hollow Ln</td>\n",
       "      <td>Stuart</td>\n",
       "      <td>FL</td>\n",
       "      <td>659900.0</td>\n",
       "      <td>4.0</td>\n",
       "      <td>3.0</td>\n",
       "      <td>Summerfield Golf Club Ph</td>\n",
       "      <td>...</td>\n",
       "      <td>34997.0</td>\n",
       "      <td>0.0</td>\n",
       "      <td>40405.0</td>\n",
       "      <td>17423.0</td>\n",
       "      <td>253500.0</td>\n",
       "      <td>5.571429</td>\n",
       "      <td>58789.0</td>\n",
       "      <td>1286.0</td>\n",
       "      <td>1.008264</td>\n",
       "      <td>0.299292</td>\n",
       "    </tr>\n",
       "    <tr>\n",
       "      <th>75359</th>\n",
       "      <td>MLS Listing</td>\n",
       "      <td>NaN</td>\n",
       "      <td>Condo/Co-op</td>\n",
       "      <td>6062 SE Landing Way Unit 12-3</td>\n",
       "      <td>Stuart</td>\n",
       "      <td>FL</td>\n",
       "      <td>405000.0</td>\n",
       "      <td>2.0</td>\n",
       "      <td>2.0</td>\n",
       "      <td>Hansons Landing A Condo</td>\n",
       "      <td>...</td>\n",
       "      <td>34997.0</td>\n",
       "      <td>0.0</td>\n",
       "      <td>40405.0</td>\n",
       "      <td>17423.0</td>\n",
       "      <td>253500.0</td>\n",
       "      <td>5.571429</td>\n",
       "      <td>58789.0</td>\n",
       "      <td>1286.0</td>\n",
       "      <td>1.008264</td>\n",
       "      <td>0.299292</td>\n",
       "    </tr>\n",
       "  </tbody>\n",
       "</table>\n",
       "<p>75360 rows × 32 columns</p>\n",
       "</div>"
      ],
      "text/plain": [
       "         Sale_Type  Sold_Date                  Prop_Type  \\\n",
       "0      MLS Listing        NaN                Condo/Co-op   \n",
       "1      MLS Listing        NaN                  Townhouse   \n",
       "2      MLS Listing        NaN                Condo/Co-op   \n",
       "3      MLS Listing        NaN                  Townhouse   \n",
       "4      MLS Listing        NaN                Condo/Co-op   \n",
       "...            ...        ...                        ...   \n",
       "75355  MLS Listing        NaN    Multi-Family (2-4 Unit)   \n",
       "75356  MLS Listing        NaN  Single Family Residential   \n",
       "75357  MLS Listing        NaN  Single Family Residential   \n",
       "75358  MLS Listing        NaN  Single Family Residential   \n",
       "75359  MLS Listing        NaN                Condo/Co-op   \n",
       "\n",
       "                             ADDRESS        CITY State      PRICE  BEDS  \\\n",
       "0                   810 O St NW #201  Washington    DC   899900.0   2.0   \n",
       "1                         29 Q St NW  Washington    DC  1175000.0   4.0   \n",
       "2                 815 T St NW Unit A  Washington    DC   825000.0   3.0   \n",
       "3                     2213 2nd St NW  Washington    DC   835427.0   4.0   \n",
       "4               2914 11th St NW #103  Washington    DC   650000.0   2.0   \n",
       "...                              ...         ...   ...        ...   ...   \n",
       "75355             3042 SE Clayton St      Stuart    FL   460000.0   6.0   \n",
       "75356         7430 SW Harbor Cove Dr      Stuart    FL   459900.0   3.0   \n",
       "75357           886 SW Blue Stem Way      Stuart    FL   895000.0   4.0   \n",
       "75358       6998 SE Sleepy Hollow Ln      Stuart    FL   659900.0   4.0   \n",
       "75359  6062 SE Landing Way Unit 12-3      Stuart    FL   405000.0   2.0   \n",
       "\n",
       "       BATHS                   LOCATION  ...  ZipCode  cluster  Population  \\\n",
       "0        2.0                OLD CITY II  ...  20001.0      0.0     38551.0   \n",
       "1        3.5                OLD CITY II  ...  20001.0      0.0     38551.0   \n",
       "2        2.5                OLD CITY II  ...  20001.0      0.0     38551.0   \n",
       "3        2.0               LEDROIT PARK  ...  20001.0      0.0     38551.0   \n",
       "4        2.0           COLUMBIA HEIGHTS  ...  20001.0      0.0     38551.0   \n",
       "...      ...                        ...  ...      ...      ...         ...   \n",
       "75355    3.0                Golden Gate  ...  34997.0      0.0     40405.0   \n",
       "75356    2.0            Tidewater Point  ...  34997.0      0.0     40405.0   \n",
       "75357    3.5  FLORIDA CLUB PUD PHASE IB  ...  34997.0      0.0     40405.0   \n",
       "75358    3.0   Summerfield Golf Club Ph  ...  34997.0      0.0     40405.0   \n",
       "75359    2.0    Hansons Landing A Condo  ...  34997.0      0.0     40405.0   \n",
       "\n",
       "       HouseholdsPerZipCode  AverageHouseValue  school_rating  \\\n",
       "0                   16500.0           692900.0       5.727273   \n",
       "1                   16500.0           692900.0       5.727273   \n",
       "2                   16500.0           692900.0       5.727273   \n",
       "3                   16500.0           692900.0       5.727273   \n",
       "4                   16500.0           692900.0       5.727273   \n",
       "...                     ...                ...            ...   \n",
       "75355               17423.0           253500.0       5.571429   \n",
       "75356               17423.0           253500.0       5.571429   \n",
       "75357               17423.0           253500.0       5.571429   \n",
       "75358               17423.0           253500.0       5.571429   \n",
       "75359               17423.0           253500.0       5.571429   \n",
       "\n",
       "      IncomePerHousehold  NumberOfBusinesses  Hosp_count_y  over_65_ratio  \n",
       "0               116195.0              1978.0      1.008264       0.078726  \n",
       "1               116195.0              1978.0      1.008264       0.078726  \n",
       "2               116195.0              1978.0      1.008264       0.078726  \n",
       "3               116195.0              1978.0      1.008264       0.078726  \n",
       "4               116195.0              1978.0      1.008264       0.078726  \n",
       "...                  ...                 ...           ...            ...  \n",
       "75355            58789.0              1286.0      1.008264       0.299292  \n",
       "75356            58789.0              1286.0      1.008264       0.299292  \n",
       "75357            58789.0              1286.0      1.008264       0.299292  \n",
       "75358            58789.0              1286.0      1.008264       0.299292  \n",
       "75359            58789.0              1286.0      1.008264       0.299292  \n",
       "\n",
       "[75360 rows x 32 columns]"
      ]
     },
     "execution_count": 42,
     "metadata": {},
     "output_type": "execute_result"
    }
   ],
   "source": [
    "df"
   ]
  },
  {
   "cell_type": "code",
   "execution_count": 51,
   "id": "30ef53a8",
   "metadata": {},
   "outputs": [],
   "source": [
    "by_cluster = df.groupby('cluster').mean()\n",
    "by_cluster = by_cluster[[ 'PRICE', 'BEDS', 'BATHS', 'SF', 'Lot_Size', 'YearBuilt',\n",
    "       'px_perSF', 'overallRating',  'Population', 'HouseholdsPerZipCode','AverageHouseValue', 'school_rating', 'IncomePerHousehold', 'NumberOfBusinesses',  'over_65_ratio']]"
   ]
  },
  {
   "cell_type": "code",
   "execution_count": 52,
   "id": "b570cea2",
   "metadata": {},
   "outputs": [
    {
     "data": {
      "text/html": [
       "<div>\n",
       "<style scoped>\n",
       "    .dataframe tbody tr th:only-of-type {\n",
       "        vertical-align: middle;\n",
       "    }\n",
       "\n",
       "    .dataframe tbody tr th {\n",
       "        vertical-align: top;\n",
       "    }\n",
       "\n",
       "    .dataframe thead th {\n",
       "        text-align: right;\n",
       "    }\n",
       "</style>\n",
       "<table border=\"1\" class=\"dataframe\">\n",
       "  <thead>\n",
       "    <tr style=\"text-align: right;\">\n",
       "      <th></th>\n",
       "      <th>PRICE</th>\n",
       "      <th>BEDS</th>\n",
       "      <th>BATHS</th>\n",
       "      <th>SF</th>\n",
       "      <th>Lot_Size</th>\n",
       "      <th>YearBuilt</th>\n",
       "      <th>px_perSF</th>\n",
       "      <th>overallRating</th>\n",
       "      <th>Population</th>\n",
       "      <th>HouseholdsPerZipCode</th>\n",
       "      <th>AverageHouseValue</th>\n",
       "      <th>school_rating</th>\n",
       "      <th>IncomePerHousehold</th>\n",
       "      <th>NumberOfBusinesses</th>\n",
       "      <th>over_65_ratio</th>\n",
       "    </tr>\n",
       "    <tr>\n",
       "      <th>cluster</th>\n",
       "      <th></th>\n",
       "      <th></th>\n",
       "      <th></th>\n",
       "      <th></th>\n",
       "      <th></th>\n",
       "      <th></th>\n",
       "      <th></th>\n",
       "      <th></th>\n",
       "      <th></th>\n",
       "      <th></th>\n",
       "      <th></th>\n",
       "      <th></th>\n",
       "      <th></th>\n",
       "      <th></th>\n",
       "      <th></th>\n",
       "    </tr>\n",
       "  </thead>\n",
       "  <tbody>\n",
       "    <tr>\n",
       "      <th>0.0</th>\n",
       "      <td>5.609476e+05</td>\n",
       "      <td>3.174766</td>\n",
       "      <td>4.207569</td>\n",
       "      <td>1957.963939</td>\n",
       "      <td>46597.235442</td>\n",
       "      <td>1984.634307</td>\n",
       "      <td>281.325227</td>\n",
       "      <td>5.441905</td>\n",
       "      <td>43394.237091</td>\n",
       "      <td>16904.867058</td>\n",
       "      <td>269539.678927</td>\n",
       "      <td>5.441905</td>\n",
       "      <td>66290.585360</td>\n",
       "      <td>1208.665868</td>\n",
       "      <td>0.161531</td>\n",
       "    </tr>\n",
       "    <tr>\n",
       "      <th>1.0</th>\n",
       "      <td>5.648332e+05</td>\n",
       "      <td>3.319529</td>\n",
       "      <td>2.443381</td>\n",
       "      <td>2148.136013</td>\n",
       "      <td>238937.652479</td>\n",
       "      <td>1990.702634</td>\n",
       "      <td>255.315942</td>\n",
       "      <td>5.195151</td>\n",
       "      <td>6767.061536</td>\n",
       "      <td>2701.004543</td>\n",
       "      <td>173361.026982</td>\n",
       "      <td>5.217764</td>\n",
       "      <td>50484.766382</td>\n",
       "      <td>180.577368</td>\n",
       "      <td>0.220815</td>\n",
       "    </tr>\n",
       "    <tr>\n",
       "      <th>2.0</th>\n",
       "      <td>1.286756e+06</td>\n",
       "      <td>3.120649</td>\n",
       "      <td>2.830516</td>\n",
       "      <td>2431.616762</td>\n",
       "      <td>193210.627146</td>\n",
       "      <td>1990.501154</td>\n",
       "      <td>517.211920</td>\n",
       "      <td>7.216812</td>\n",
       "      <td>15074.763198</td>\n",
       "      <td>6470.938971</td>\n",
       "      <td>539145.166443</td>\n",
       "      <td>6.832909</td>\n",
       "      <td>104859.517233</td>\n",
       "      <td>818.392989</td>\n",
       "      <td>0.218813</td>\n",
       "    </tr>\n",
       "    <tr>\n",
       "      <th>3.0</th>\n",
       "      <td>5.685773e+05</td>\n",
       "      <td>3.229420</td>\n",
       "      <td>2.832294</td>\n",
       "      <td>2037.250884</td>\n",
       "      <td>244995.421754</td>\n",
       "      <td>1989.501912</td>\n",
       "      <td>269.333312</td>\n",
       "      <td>5.349048</td>\n",
       "      <td>22321.133552</td>\n",
       "      <td>9130.443410</td>\n",
       "      <td>220567.376002</td>\n",
       "      <td>5.346756</td>\n",
       "      <td>58786.955883</td>\n",
       "      <td>700.545788</td>\n",
       "      <td>0.209994</td>\n",
       "    </tr>\n",
       "  </tbody>\n",
       "</table>\n",
       "</div>"
      ],
      "text/plain": [
       "                PRICE      BEDS     BATHS           SF       Lot_Size  \\\n",
       "cluster                                                                 \n",
       "0.0      5.609476e+05  3.174766  4.207569  1957.963939   46597.235442   \n",
       "1.0      5.648332e+05  3.319529  2.443381  2148.136013  238937.652479   \n",
       "2.0      1.286756e+06  3.120649  2.830516  2431.616762  193210.627146   \n",
       "3.0      5.685773e+05  3.229420  2.832294  2037.250884  244995.421754   \n",
       "\n",
       "           YearBuilt    px_perSF  overallRating    Population  \\\n",
       "cluster                                                         \n",
       "0.0      1984.634307  281.325227       5.441905  43394.237091   \n",
       "1.0      1990.702634  255.315942       5.195151   6767.061536   \n",
       "2.0      1990.501154  517.211920       7.216812  15074.763198   \n",
       "3.0      1989.501912  269.333312       5.349048  22321.133552   \n",
       "\n",
       "         HouseholdsPerZipCode  AverageHouseValue  school_rating  \\\n",
       "cluster                                                           \n",
       "0.0              16904.867058      269539.678927       5.441905   \n",
       "1.0               2701.004543      173361.026982       5.217764   \n",
       "2.0               6470.938971      539145.166443       6.832909   \n",
       "3.0               9130.443410      220567.376002       5.346756   \n",
       "\n",
       "         IncomePerHousehold  NumberOfBusinesses  over_65_ratio  \n",
       "cluster                                                         \n",
       "0.0            66290.585360         1208.665868       0.161531  \n",
       "1.0            50484.766382          180.577368       0.220815  \n",
       "2.0           104859.517233          818.392989       0.218813  \n",
       "3.0            58786.955883          700.545788       0.209994  "
      ]
     },
     "execution_count": 52,
     "metadata": {},
     "output_type": "execute_result"
    }
   ],
   "source": [
    "by_cluster"
   ]
  },
  {
   "cell_type": "code",
   "execution_count": 53,
   "id": "e72b0151",
   "metadata": {},
   "outputs": [],
   "source": [
    "by_cluster = by_cluster.reset_index()\n",
    "by_cluster.rename(\n",
    "    columns = {\n",
    "        \"PRICE\": \"avg_cluster_price\",\n",
    "        \"BEDS\":\"avg_cluster_beds\",\n",
    "        \"BATHS\":\"avg_cluster_baths\",\n",
    "        \"SF\":\"avg_cluster_sf\",\n",
    "        \"Lot_Size\":\"avg_cluster_lot_size\",\n",
    "        \"YearBuilt\": \"avg_cluster_year\",\n",
    "        \"px_perSF\": \"avg_cluster_price_persf\",\n",
    "        \"overallRating\": \"avg_cluster_school_rating\",\n",
    "        \"Hops_count\":\"avg_cluster_hosp_count\"\n",
    "    }, inplace = True\n",
    ")"
   ]
  },
  {
   "cell_type": "code",
   "execution_count": 54,
   "id": "443c901a",
   "metadata": {},
   "outputs": [
    {
     "data": {
      "text/html": [
       "<div>\n",
       "<style scoped>\n",
       "    .dataframe tbody tr th:only-of-type {\n",
       "        vertical-align: middle;\n",
       "    }\n",
       "\n",
       "    .dataframe tbody tr th {\n",
       "        vertical-align: top;\n",
       "    }\n",
       "\n",
       "    .dataframe thead th {\n",
       "        text-align: right;\n",
       "    }\n",
       "</style>\n",
       "<table border=\"1\" class=\"dataframe\">\n",
       "  <thead>\n",
       "    <tr style=\"text-align: right;\">\n",
       "      <th></th>\n",
       "      <th>cluster</th>\n",
       "      <th>avg_cluster_price</th>\n",
       "      <th>avg_cluster_beds</th>\n",
       "      <th>avg_cluster_baths</th>\n",
       "      <th>avg_cluster_sf</th>\n",
       "      <th>avg_cluster_lot_size</th>\n",
       "      <th>avg_cluster_year</th>\n",
       "      <th>avg_cluster_price_persf</th>\n",
       "      <th>avg_cluster_school_rating</th>\n",
       "      <th>Population</th>\n",
       "      <th>HouseholdsPerZipCode</th>\n",
       "      <th>AverageHouseValue</th>\n",
       "      <th>school_rating</th>\n",
       "      <th>IncomePerHousehold</th>\n",
       "      <th>NumberOfBusinesses</th>\n",
       "      <th>over_65_ratio</th>\n",
       "    </tr>\n",
       "  </thead>\n",
       "  <tbody>\n",
       "    <tr>\n",
       "      <th>0</th>\n",
       "      <td>0.0</td>\n",
       "      <td>5.609476e+05</td>\n",
       "      <td>3.174766</td>\n",
       "      <td>4.207569</td>\n",
       "      <td>1957.963939</td>\n",
       "      <td>46597.235442</td>\n",
       "      <td>1984.634307</td>\n",
       "      <td>281.325227</td>\n",
       "      <td>5.441905</td>\n",
       "      <td>43394.237091</td>\n",
       "      <td>16904.867058</td>\n",
       "      <td>269539.678927</td>\n",
       "      <td>5.441905</td>\n",
       "      <td>66290.585360</td>\n",
       "      <td>1208.665868</td>\n",
       "      <td>0.161531</td>\n",
       "    </tr>\n",
       "    <tr>\n",
       "      <th>1</th>\n",
       "      <td>1.0</td>\n",
       "      <td>5.648332e+05</td>\n",
       "      <td>3.319529</td>\n",
       "      <td>2.443381</td>\n",
       "      <td>2148.136013</td>\n",
       "      <td>238937.652479</td>\n",
       "      <td>1990.702634</td>\n",
       "      <td>255.315942</td>\n",
       "      <td>5.195151</td>\n",
       "      <td>6767.061536</td>\n",
       "      <td>2701.004543</td>\n",
       "      <td>173361.026982</td>\n",
       "      <td>5.217764</td>\n",
       "      <td>50484.766382</td>\n",
       "      <td>180.577368</td>\n",
       "      <td>0.220815</td>\n",
       "    </tr>\n",
       "    <tr>\n",
       "      <th>2</th>\n",
       "      <td>2.0</td>\n",
       "      <td>1.286756e+06</td>\n",
       "      <td>3.120649</td>\n",
       "      <td>2.830516</td>\n",
       "      <td>2431.616762</td>\n",
       "      <td>193210.627146</td>\n",
       "      <td>1990.501154</td>\n",
       "      <td>517.211920</td>\n",
       "      <td>7.216812</td>\n",
       "      <td>15074.763198</td>\n",
       "      <td>6470.938971</td>\n",
       "      <td>539145.166443</td>\n",
       "      <td>6.832909</td>\n",
       "      <td>104859.517233</td>\n",
       "      <td>818.392989</td>\n",
       "      <td>0.218813</td>\n",
       "    </tr>\n",
       "    <tr>\n",
       "      <th>3</th>\n",
       "      <td>3.0</td>\n",
       "      <td>5.685773e+05</td>\n",
       "      <td>3.229420</td>\n",
       "      <td>2.832294</td>\n",
       "      <td>2037.250884</td>\n",
       "      <td>244995.421754</td>\n",
       "      <td>1989.501912</td>\n",
       "      <td>269.333312</td>\n",
       "      <td>5.349048</td>\n",
       "      <td>22321.133552</td>\n",
       "      <td>9130.443410</td>\n",
       "      <td>220567.376002</td>\n",
       "      <td>5.346756</td>\n",
       "      <td>58786.955883</td>\n",
       "      <td>700.545788</td>\n",
       "      <td>0.209994</td>\n",
       "    </tr>\n",
       "  </tbody>\n",
       "</table>\n",
       "</div>"
      ],
      "text/plain": [
       "   cluster  avg_cluster_price  avg_cluster_beds  avg_cluster_baths  \\\n",
       "0      0.0       5.609476e+05          3.174766           4.207569   \n",
       "1      1.0       5.648332e+05          3.319529           2.443381   \n",
       "2      2.0       1.286756e+06          3.120649           2.830516   \n",
       "3      3.0       5.685773e+05          3.229420           2.832294   \n",
       "\n",
       "   avg_cluster_sf  avg_cluster_lot_size  avg_cluster_year  \\\n",
       "0     1957.963939          46597.235442       1984.634307   \n",
       "1     2148.136013         238937.652479       1990.702634   \n",
       "2     2431.616762         193210.627146       1990.501154   \n",
       "3     2037.250884         244995.421754       1989.501912   \n",
       "\n",
       "   avg_cluster_price_persf  avg_cluster_school_rating    Population  \\\n",
       "0               281.325227                   5.441905  43394.237091   \n",
       "1               255.315942                   5.195151   6767.061536   \n",
       "2               517.211920                   7.216812  15074.763198   \n",
       "3               269.333312                   5.349048  22321.133552   \n",
       "\n",
       "   HouseholdsPerZipCode  AverageHouseValue  school_rating  IncomePerHousehold  \\\n",
       "0          16904.867058      269539.678927       5.441905        66290.585360   \n",
       "1           2701.004543      173361.026982       5.217764        50484.766382   \n",
       "2           6470.938971      539145.166443       6.832909       104859.517233   \n",
       "3           9130.443410      220567.376002       5.346756        58786.955883   \n",
       "\n",
       "   NumberOfBusinesses  over_65_ratio  \n",
       "0         1208.665868       0.161531  \n",
       "1          180.577368       0.220815  \n",
       "2          818.392989       0.218813  \n",
       "3          700.545788       0.209994  "
      ]
     },
     "execution_count": 54,
     "metadata": {},
     "output_type": "execute_result"
    }
   ],
   "source": [
    "by_cluster"
   ]
  },
  {
   "cell_type": "code",
   "execution_count": 55,
   "id": "29fa49b2",
   "metadata": {},
   "outputs": [],
   "source": [
    "final = df.copy()\n",
    "final = final[['zip', 'cluster']]\n",
    "final.drop_duplicates(subset=['zip'], inplace = True)\n",
    "final = pd.merge(final, by_cluster, how = 'left', left_on = 'cluster', right_on = 'cluster')"
   ]
  },
  {
   "cell_type": "code",
   "execution_count": 56,
   "id": "78b810b8",
   "metadata": {
    "scrolled": true
   },
   "outputs": [
    {
     "ename": "KeyError",
     "evalue": "\"['index'] not found in axis\"",
     "output_type": "error",
     "traceback": [
      "\u001b[1;31m---------------------------------------------------------------------------\u001b[0m",
      "\u001b[1;31mKeyError\u001b[0m                                  Traceback (most recent call last)",
      "\u001b[1;32m<ipython-input-56-a958a375751f>\u001b[0m in \u001b[0;36m<module>\u001b[1;34m\u001b[0m\n\u001b[1;32m----> 1\u001b[1;33m \u001b[0mfinal\u001b[0m\u001b[1;33m.\u001b[0m\u001b[0mdrop\u001b[0m\u001b[1;33m(\u001b[0m\u001b[0mcolumns\u001b[0m \u001b[1;33m=\u001b[0m \u001b[1;33m[\u001b[0m\u001b[1;34m'index'\u001b[0m\u001b[1;33m]\u001b[0m\u001b[1;33m,\u001b[0m \u001b[0maxis\u001b[0m\u001b[1;33m=\u001b[0m\u001b[1;36m1\u001b[0m\u001b[1;33m,\u001b[0m \u001b[0minplace\u001b[0m \u001b[1;33m=\u001b[0m \u001b[1;32mTrue\u001b[0m\u001b[1;33m)\u001b[0m\u001b[1;33m\u001b[0m\u001b[1;33m\u001b[0m\u001b[0m\n\u001b[0m",
      "\u001b[1;32m~\\anaconda3\\lib\\site-packages\\pandas\\core\\frame.py\u001b[0m in \u001b[0;36mdrop\u001b[1;34m(self, labels, axis, index, columns, level, inplace, errors)\u001b[0m\n\u001b[0;32m   4306\u001b[0m                 \u001b[0mweight\u001b[0m  \u001b[1;36m1.0\u001b[0m     \u001b[1;36m0.8\u001b[0m\u001b[1;33m\u001b[0m\u001b[1;33m\u001b[0m\u001b[0m\n\u001b[0;32m   4307\u001b[0m         \"\"\"\n\u001b[1;32m-> 4308\u001b[1;33m         return super().drop(\n\u001b[0m\u001b[0;32m   4309\u001b[0m             \u001b[0mlabels\u001b[0m\u001b[1;33m=\u001b[0m\u001b[0mlabels\u001b[0m\u001b[1;33m,\u001b[0m\u001b[1;33m\u001b[0m\u001b[1;33m\u001b[0m\u001b[0m\n\u001b[0;32m   4310\u001b[0m             \u001b[0maxis\u001b[0m\u001b[1;33m=\u001b[0m\u001b[0maxis\u001b[0m\u001b[1;33m,\u001b[0m\u001b[1;33m\u001b[0m\u001b[1;33m\u001b[0m\u001b[0m\n",
      "\u001b[1;32m~\\anaconda3\\lib\\site-packages\\pandas\\core\\generic.py\u001b[0m in \u001b[0;36mdrop\u001b[1;34m(self, labels, axis, index, columns, level, inplace, errors)\u001b[0m\n\u001b[0;32m   4151\u001b[0m         \u001b[1;32mfor\u001b[0m \u001b[0maxis\u001b[0m\u001b[1;33m,\u001b[0m \u001b[0mlabels\u001b[0m \u001b[1;32min\u001b[0m \u001b[0maxes\u001b[0m\u001b[1;33m.\u001b[0m\u001b[0mitems\u001b[0m\u001b[1;33m(\u001b[0m\u001b[1;33m)\u001b[0m\u001b[1;33m:\u001b[0m\u001b[1;33m\u001b[0m\u001b[1;33m\u001b[0m\u001b[0m\n\u001b[0;32m   4152\u001b[0m             \u001b[1;32mif\u001b[0m \u001b[0mlabels\u001b[0m \u001b[1;32mis\u001b[0m \u001b[1;32mnot\u001b[0m \u001b[1;32mNone\u001b[0m\u001b[1;33m:\u001b[0m\u001b[1;33m\u001b[0m\u001b[1;33m\u001b[0m\u001b[0m\n\u001b[1;32m-> 4153\u001b[1;33m                 \u001b[0mobj\u001b[0m \u001b[1;33m=\u001b[0m \u001b[0mobj\u001b[0m\u001b[1;33m.\u001b[0m\u001b[0m_drop_axis\u001b[0m\u001b[1;33m(\u001b[0m\u001b[0mlabels\u001b[0m\u001b[1;33m,\u001b[0m \u001b[0maxis\u001b[0m\u001b[1;33m,\u001b[0m \u001b[0mlevel\u001b[0m\u001b[1;33m=\u001b[0m\u001b[0mlevel\u001b[0m\u001b[1;33m,\u001b[0m \u001b[0merrors\u001b[0m\u001b[1;33m=\u001b[0m\u001b[0merrors\u001b[0m\u001b[1;33m)\u001b[0m\u001b[1;33m\u001b[0m\u001b[1;33m\u001b[0m\u001b[0m\n\u001b[0m\u001b[0;32m   4154\u001b[0m \u001b[1;33m\u001b[0m\u001b[0m\n\u001b[0;32m   4155\u001b[0m         \u001b[1;32mif\u001b[0m \u001b[0minplace\u001b[0m\u001b[1;33m:\u001b[0m\u001b[1;33m\u001b[0m\u001b[1;33m\u001b[0m\u001b[0m\n",
      "\u001b[1;32m~\\anaconda3\\lib\\site-packages\\pandas\\core\\generic.py\u001b[0m in \u001b[0;36m_drop_axis\u001b[1;34m(self, labels, axis, level, errors)\u001b[0m\n\u001b[0;32m   4186\u001b[0m                 \u001b[0mnew_axis\u001b[0m \u001b[1;33m=\u001b[0m \u001b[0maxis\u001b[0m\u001b[1;33m.\u001b[0m\u001b[0mdrop\u001b[0m\u001b[1;33m(\u001b[0m\u001b[0mlabels\u001b[0m\u001b[1;33m,\u001b[0m \u001b[0mlevel\u001b[0m\u001b[1;33m=\u001b[0m\u001b[0mlevel\u001b[0m\u001b[1;33m,\u001b[0m \u001b[0merrors\u001b[0m\u001b[1;33m=\u001b[0m\u001b[0merrors\u001b[0m\u001b[1;33m)\u001b[0m\u001b[1;33m\u001b[0m\u001b[1;33m\u001b[0m\u001b[0m\n\u001b[0;32m   4187\u001b[0m             \u001b[1;32melse\u001b[0m\u001b[1;33m:\u001b[0m\u001b[1;33m\u001b[0m\u001b[1;33m\u001b[0m\u001b[0m\n\u001b[1;32m-> 4188\u001b[1;33m                 \u001b[0mnew_axis\u001b[0m \u001b[1;33m=\u001b[0m \u001b[0maxis\u001b[0m\u001b[1;33m.\u001b[0m\u001b[0mdrop\u001b[0m\u001b[1;33m(\u001b[0m\u001b[0mlabels\u001b[0m\u001b[1;33m,\u001b[0m \u001b[0merrors\u001b[0m\u001b[1;33m=\u001b[0m\u001b[0merrors\u001b[0m\u001b[1;33m)\u001b[0m\u001b[1;33m\u001b[0m\u001b[1;33m\u001b[0m\u001b[0m\n\u001b[0m\u001b[0;32m   4189\u001b[0m             \u001b[0mresult\u001b[0m \u001b[1;33m=\u001b[0m \u001b[0mself\u001b[0m\u001b[1;33m.\u001b[0m\u001b[0mreindex\u001b[0m\u001b[1;33m(\u001b[0m\u001b[1;33m**\u001b[0m\u001b[1;33m{\u001b[0m\u001b[0maxis_name\u001b[0m\u001b[1;33m:\u001b[0m \u001b[0mnew_axis\u001b[0m\u001b[1;33m}\u001b[0m\u001b[1;33m)\u001b[0m\u001b[1;33m\u001b[0m\u001b[1;33m\u001b[0m\u001b[0m\n\u001b[0;32m   4190\u001b[0m \u001b[1;33m\u001b[0m\u001b[0m\n",
      "\u001b[1;32m~\\anaconda3\\lib\\site-packages\\pandas\\core\\indexes\\base.py\u001b[0m in \u001b[0;36mdrop\u001b[1;34m(self, labels, errors)\u001b[0m\n\u001b[0;32m   5589\u001b[0m         \u001b[1;32mif\u001b[0m \u001b[0mmask\u001b[0m\u001b[1;33m.\u001b[0m\u001b[0many\u001b[0m\u001b[1;33m(\u001b[0m\u001b[1;33m)\u001b[0m\u001b[1;33m:\u001b[0m\u001b[1;33m\u001b[0m\u001b[1;33m\u001b[0m\u001b[0m\n\u001b[0;32m   5590\u001b[0m             \u001b[1;32mif\u001b[0m \u001b[0merrors\u001b[0m \u001b[1;33m!=\u001b[0m \u001b[1;34m\"ignore\"\u001b[0m\u001b[1;33m:\u001b[0m\u001b[1;33m\u001b[0m\u001b[1;33m\u001b[0m\u001b[0m\n\u001b[1;32m-> 5591\u001b[1;33m                 \u001b[1;32mraise\u001b[0m \u001b[0mKeyError\u001b[0m\u001b[1;33m(\u001b[0m\u001b[1;34mf\"{labels[mask]} not found in axis\"\u001b[0m\u001b[1;33m)\u001b[0m\u001b[1;33m\u001b[0m\u001b[1;33m\u001b[0m\u001b[0m\n\u001b[0m\u001b[0;32m   5592\u001b[0m             \u001b[0mindexer\u001b[0m \u001b[1;33m=\u001b[0m \u001b[0mindexer\u001b[0m\u001b[1;33m[\u001b[0m\u001b[1;33m~\u001b[0m\u001b[0mmask\u001b[0m\u001b[1;33m]\u001b[0m\u001b[1;33m\u001b[0m\u001b[1;33m\u001b[0m\u001b[0m\n\u001b[0;32m   5593\u001b[0m         \u001b[1;32mreturn\u001b[0m \u001b[0mself\u001b[0m\u001b[1;33m.\u001b[0m\u001b[0mdelete\u001b[0m\u001b[1;33m(\u001b[0m\u001b[0mindexer\u001b[0m\u001b[1;33m)\u001b[0m\u001b[1;33m\u001b[0m\u001b[1;33m\u001b[0m\u001b[0m\n",
      "\u001b[1;31mKeyError\u001b[0m: \"['index'] not found in axis\""
     ]
    }
   ],
   "source": [
    "final.drop(columns = ['index'], axis=1, inplace = True)\n"
   ]
  },
  {
   "cell_type": "code",
   "execution_count": 57,
   "id": "2104c157",
   "metadata": {},
   "outputs": [],
   "source": [
    "final.rename(columns = {'zip':'ZipCode'}, inplace = True)"
   ]
  },
  {
   "cell_type": "code",
   "execution_count": 58,
   "id": "5309c699",
   "metadata": {},
   "outputs": [],
   "source": [
    "final = final.set_index(\"ZipCode\")"
   ]
  },
  {
   "cell_type": "code",
   "execution_count": 61,
   "id": "12a98a3f",
   "metadata": {},
   "outputs": [
    {
     "data": {
      "text/html": [
       "<div>\n",
       "<style scoped>\n",
       "    .dataframe tbody tr th:only-of-type {\n",
       "        vertical-align: middle;\n",
       "    }\n",
       "\n",
       "    .dataframe tbody tr th {\n",
       "        vertical-align: top;\n",
       "    }\n",
       "\n",
       "    .dataframe thead th {\n",
       "        text-align: right;\n",
       "    }\n",
       "</style>\n",
       "<table border=\"1\" class=\"dataframe\">\n",
       "  <thead>\n",
       "    <tr style=\"text-align: right;\">\n",
       "      <th></th>\n",
       "      <th>cluster</th>\n",
       "      <th>avg_cluster_price</th>\n",
       "      <th>avg_cluster_beds</th>\n",
       "      <th>avg_cluster_baths</th>\n",
       "      <th>avg_cluster_sf</th>\n",
       "      <th>avg_cluster_lot_size</th>\n",
       "      <th>avg_cluster_year</th>\n",
       "      <th>avg_cluster_price_persf</th>\n",
       "      <th>avg_cluster_school_rating</th>\n",
       "      <th>Population</th>\n",
       "      <th>HouseholdsPerZipCode</th>\n",
       "      <th>AverageHouseValue</th>\n",
       "      <th>school_rating</th>\n",
       "      <th>IncomePerHousehold</th>\n",
       "      <th>NumberOfBusinesses</th>\n",
       "      <th>over_65_ratio</th>\n",
       "    </tr>\n",
       "    <tr>\n",
       "      <th>ZipCode</th>\n",
       "      <th></th>\n",
       "      <th></th>\n",
       "      <th></th>\n",
       "      <th></th>\n",
       "      <th></th>\n",
       "      <th></th>\n",
       "      <th></th>\n",
       "      <th></th>\n",
       "      <th></th>\n",
       "      <th></th>\n",
       "      <th></th>\n",
       "      <th></th>\n",
       "      <th></th>\n",
       "      <th></th>\n",
       "      <th></th>\n",
       "      <th></th>\n",
       "    </tr>\n",
       "  </thead>\n",
       "  <tbody>\n",
       "    <tr>\n",
       "      <th>20001</th>\n",
       "      <td>0.0</td>\n",
       "      <td>5.609476e+05</td>\n",
       "      <td>3.174766</td>\n",
       "      <td>4.207569</td>\n",
       "      <td>1957.963939</td>\n",
       "      <td>46597.235442</td>\n",
       "      <td>1984.634307</td>\n",
       "      <td>281.325227</td>\n",
       "      <td>5.441905</td>\n",
       "      <td>43394.237091</td>\n",
       "      <td>16904.867058</td>\n",
       "      <td>269539.678927</td>\n",
       "      <td>5.441905</td>\n",
       "      <td>66290.585360</td>\n",
       "      <td>1208.665868</td>\n",
       "      <td>0.161531</td>\n",
       "    </tr>\n",
       "    <tr>\n",
       "      <th>20002</th>\n",
       "      <td>0.0</td>\n",
       "      <td>5.609476e+05</td>\n",
       "      <td>3.174766</td>\n",
       "      <td>4.207569</td>\n",
       "      <td>1957.963939</td>\n",
       "      <td>46597.235442</td>\n",
       "      <td>1984.634307</td>\n",
       "      <td>281.325227</td>\n",
       "      <td>5.441905</td>\n",
       "      <td>43394.237091</td>\n",
       "      <td>16904.867058</td>\n",
       "      <td>269539.678927</td>\n",
       "      <td>5.441905</td>\n",
       "      <td>66290.585360</td>\n",
       "      <td>1208.665868</td>\n",
       "      <td>0.161531</td>\n",
       "    </tr>\n",
       "    <tr>\n",
       "      <th>20003</th>\n",
       "      <td>2.0</td>\n",
       "      <td>1.286756e+06</td>\n",
       "      <td>3.120649</td>\n",
       "      <td>2.830516</td>\n",
       "      <td>2431.616762</td>\n",
       "      <td>193210.627146</td>\n",
       "      <td>1990.501154</td>\n",
       "      <td>517.211920</td>\n",
       "      <td>7.216812</td>\n",
       "      <td>15074.763198</td>\n",
       "      <td>6470.938971</td>\n",
       "      <td>539145.166443</td>\n",
       "      <td>6.832909</td>\n",
       "      <td>104859.517233</td>\n",
       "      <td>818.392989</td>\n",
       "      <td>0.218813</td>\n",
       "    </tr>\n",
       "    <tr>\n",
       "      <th>20004</th>\n",
       "      <td>2.0</td>\n",
       "      <td>1.286756e+06</td>\n",
       "      <td>3.120649</td>\n",
       "      <td>2.830516</td>\n",
       "      <td>2431.616762</td>\n",
       "      <td>193210.627146</td>\n",
       "      <td>1990.501154</td>\n",
       "      <td>517.211920</td>\n",
       "      <td>7.216812</td>\n",
       "      <td>15074.763198</td>\n",
       "      <td>6470.938971</td>\n",
       "      <td>539145.166443</td>\n",
       "      <td>6.832909</td>\n",
       "      <td>104859.517233</td>\n",
       "      <td>818.392989</td>\n",
       "      <td>0.218813</td>\n",
       "    </tr>\n",
       "    <tr>\n",
       "      <th>20005</th>\n",
       "      <td>2.0</td>\n",
       "      <td>1.286756e+06</td>\n",
       "      <td>3.120649</td>\n",
       "      <td>2.830516</td>\n",
       "      <td>2431.616762</td>\n",
       "      <td>193210.627146</td>\n",
       "      <td>1990.501154</td>\n",
       "      <td>517.211920</td>\n",
       "      <td>7.216812</td>\n",
       "      <td>15074.763198</td>\n",
       "      <td>6470.938971</td>\n",
       "      <td>539145.166443</td>\n",
       "      <td>6.832909</td>\n",
       "      <td>104859.517233</td>\n",
       "      <td>818.392989</td>\n",
       "      <td>0.218813</td>\n",
       "    </tr>\n",
       "    <tr>\n",
       "      <th>...</th>\n",
       "      <td>...</td>\n",
       "      <td>...</td>\n",
       "      <td>...</td>\n",
       "      <td>...</td>\n",
       "      <td>...</td>\n",
       "      <td>...</td>\n",
       "      <td>...</td>\n",
       "      <td>...</td>\n",
       "      <td>...</td>\n",
       "      <td>...</td>\n",
       "      <td>...</td>\n",
       "      <td>...</td>\n",
       "      <td>...</td>\n",
       "      <td>...</td>\n",
       "      <td>...</td>\n",
       "      <td>...</td>\n",
       "    </tr>\n",
       "    <tr>\n",
       "      <th>34987</th>\n",
       "      <td>1.0</td>\n",
       "      <td>5.648332e+05</td>\n",
       "      <td>3.319529</td>\n",
       "      <td>2.443381</td>\n",
       "      <td>2148.136013</td>\n",
       "      <td>238937.652479</td>\n",
       "      <td>1990.702634</td>\n",
       "      <td>255.315942</td>\n",
       "      <td>5.195151</td>\n",
       "      <td>6767.061536</td>\n",
       "      <td>2701.004543</td>\n",
       "      <td>173361.026982</td>\n",
       "      <td>5.217764</td>\n",
       "      <td>50484.766382</td>\n",
       "      <td>180.577368</td>\n",
       "      <td>0.220815</td>\n",
       "    </tr>\n",
       "    <tr>\n",
       "      <th>34990</th>\n",
       "      <td>3.0</td>\n",
       "      <td>5.685773e+05</td>\n",
       "      <td>3.229420</td>\n",
       "      <td>2.832294</td>\n",
       "      <td>2037.250884</td>\n",
       "      <td>244995.421754</td>\n",
       "      <td>1989.501912</td>\n",
       "      <td>269.333312</td>\n",
       "      <td>5.349048</td>\n",
       "      <td>22321.133552</td>\n",
       "      <td>9130.443410</td>\n",
       "      <td>220567.376002</td>\n",
       "      <td>5.346756</td>\n",
       "      <td>58786.955883</td>\n",
       "      <td>700.545788</td>\n",
       "      <td>0.209994</td>\n",
       "    </tr>\n",
       "    <tr>\n",
       "      <th>34994</th>\n",
       "      <td>3.0</td>\n",
       "      <td>5.685773e+05</td>\n",
       "      <td>3.229420</td>\n",
       "      <td>2.832294</td>\n",
       "      <td>2037.250884</td>\n",
       "      <td>244995.421754</td>\n",
       "      <td>1989.501912</td>\n",
       "      <td>269.333312</td>\n",
       "      <td>5.349048</td>\n",
       "      <td>22321.133552</td>\n",
       "      <td>9130.443410</td>\n",
       "      <td>220567.376002</td>\n",
       "      <td>5.346756</td>\n",
       "      <td>58786.955883</td>\n",
       "      <td>700.545788</td>\n",
       "      <td>0.209994</td>\n",
       "    </tr>\n",
       "    <tr>\n",
       "      <th>34996</th>\n",
       "      <td>3.0</td>\n",
       "      <td>5.685773e+05</td>\n",
       "      <td>3.229420</td>\n",
       "      <td>2.832294</td>\n",
       "      <td>2037.250884</td>\n",
       "      <td>244995.421754</td>\n",
       "      <td>1989.501912</td>\n",
       "      <td>269.333312</td>\n",
       "      <td>5.349048</td>\n",
       "      <td>22321.133552</td>\n",
       "      <td>9130.443410</td>\n",
       "      <td>220567.376002</td>\n",
       "      <td>5.346756</td>\n",
       "      <td>58786.955883</td>\n",
       "      <td>700.545788</td>\n",
       "      <td>0.209994</td>\n",
       "    </tr>\n",
       "    <tr>\n",
       "      <th>34997</th>\n",
       "      <td>0.0</td>\n",
       "      <td>5.609476e+05</td>\n",
       "      <td>3.174766</td>\n",
       "      <td>4.207569</td>\n",
       "      <td>1957.963939</td>\n",
       "      <td>46597.235442</td>\n",
       "      <td>1984.634307</td>\n",
       "      <td>281.325227</td>\n",
       "      <td>5.441905</td>\n",
       "      <td>43394.237091</td>\n",
       "      <td>16904.867058</td>\n",
       "      <td>269539.678927</td>\n",
       "      <td>5.441905</td>\n",
       "      <td>66290.585360</td>\n",
       "      <td>1208.665868</td>\n",
       "      <td>0.161531</td>\n",
       "    </tr>\n",
       "  </tbody>\n",
       "</table>\n",
       "<p>2341 rows × 16 columns</p>\n",
       "</div>"
      ],
      "text/plain": [
       "         cluster  avg_cluster_price  avg_cluster_beds  avg_cluster_baths  \\\n",
       "ZipCode                                                                    \n",
       "20001        0.0       5.609476e+05          3.174766           4.207569   \n",
       "20002        0.0       5.609476e+05          3.174766           4.207569   \n",
       "20003        2.0       1.286756e+06          3.120649           2.830516   \n",
       "20004        2.0       1.286756e+06          3.120649           2.830516   \n",
       "20005        2.0       1.286756e+06          3.120649           2.830516   \n",
       "...          ...                ...               ...                ...   \n",
       "34987        1.0       5.648332e+05          3.319529           2.443381   \n",
       "34990        3.0       5.685773e+05          3.229420           2.832294   \n",
       "34994        3.0       5.685773e+05          3.229420           2.832294   \n",
       "34996        3.0       5.685773e+05          3.229420           2.832294   \n",
       "34997        0.0       5.609476e+05          3.174766           4.207569   \n",
       "\n",
       "         avg_cluster_sf  avg_cluster_lot_size  avg_cluster_year  \\\n",
       "ZipCode                                                           \n",
       "20001       1957.963939          46597.235442       1984.634307   \n",
       "20002       1957.963939          46597.235442       1984.634307   \n",
       "20003       2431.616762         193210.627146       1990.501154   \n",
       "20004       2431.616762         193210.627146       1990.501154   \n",
       "20005       2431.616762         193210.627146       1990.501154   \n",
       "...                 ...                   ...               ...   \n",
       "34987       2148.136013         238937.652479       1990.702634   \n",
       "34990       2037.250884         244995.421754       1989.501912   \n",
       "34994       2037.250884         244995.421754       1989.501912   \n",
       "34996       2037.250884         244995.421754       1989.501912   \n",
       "34997       1957.963939          46597.235442       1984.634307   \n",
       "\n",
       "         avg_cluster_price_persf  avg_cluster_school_rating    Population  \\\n",
       "ZipCode                                                                     \n",
       "20001                 281.325227                   5.441905  43394.237091   \n",
       "20002                 281.325227                   5.441905  43394.237091   \n",
       "20003                 517.211920                   7.216812  15074.763198   \n",
       "20004                 517.211920                   7.216812  15074.763198   \n",
       "20005                 517.211920                   7.216812  15074.763198   \n",
       "...                          ...                        ...           ...   \n",
       "34987                 255.315942                   5.195151   6767.061536   \n",
       "34990                 269.333312                   5.349048  22321.133552   \n",
       "34994                 269.333312                   5.349048  22321.133552   \n",
       "34996                 269.333312                   5.349048  22321.133552   \n",
       "34997                 281.325227                   5.441905  43394.237091   \n",
       "\n",
       "         HouseholdsPerZipCode  AverageHouseValue  school_rating  \\\n",
       "ZipCode                                                           \n",
       "20001            16904.867058      269539.678927       5.441905   \n",
       "20002            16904.867058      269539.678927       5.441905   \n",
       "20003             6470.938971      539145.166443       6.832909   \n",
       "20004             6470.938971      539145.166443       6.832909   \n",
       "20005             6470.938971      539145.166443       6.832909   \n",
       "...                       ...                ...            ...   \n",
       "34987             2701.004543      173361.026982       5.217764   \n",
       "34990             9130.443410      220567.376002       5.346756   \n",
       "34994             9130.443410      220567.376002       5.346756   \n",
       "34996             9130.443410      220567.376002       5.346756   \n",
       "34997            16904.867058      269539.678927       5.441905   \n",
       "\n",
       "         IncomePerHousehold  NumberOfBusinesses  over_65_ratio  \n",
       "ZipCode                                                         \n",
       "20001          66290.585360         1208.665868       0.161531  \n",
       "20002          66290.585360         1208.665868       0.161531  \n",
       "20003         104859.517233          818.392989       0.218813  \n",
       "20004         104859.517233          818.392989       0.218813  \n",
       "20005         104859.517233          818.392989       0.218813  \n",
       "...                     ...                 ...            ...  \n",
       "34987          50484.766382          180.577368       0.220815  \n",
       "34990          58786.955883          700.545788       0.209994  \n",
       "34994          58786.955883          700.545788       0.209994  \n",
       "34996          58786.955883          700.545788       0.209994  \n",
       "34997          66290.585360         1208.665868       0.161531  \n",
       "\n",
       "[2341 rows x 16 columns]"
      ]
     },
     "execution_count": 61,
     "metadata": {},
     "output_type": "execute_result"
    }
   ],
   "source": [
    "final"
   ]
  },
  {
   "cell_type": "code",
   "execution_count": 60,
   "id": "00b71774",
   "metadata": {},
   "outputs": [],
   "source": [
    "final.to_csv('clusters.csv')"
   ]
  }
 ],
 "metadata": {
  "kernelspec": {
   "display_name": "Python 3",
   "language": "python",
   "name": "python3"
  },
  "language_info": {
   "codemirror_mode": {
    "name": "ipython",
    "version": 3
   },
   "file_extension": ".py",
   "mimetype": "text/x-python",
   "name": "python",
   "nbconvert_exporter": "python",
   "pygments_lexer": "ipython3",
   "version": "3.8.8"
  }
 },
 "nbformat": 4,
 "nbformat_minor": 5
}
