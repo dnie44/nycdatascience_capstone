{
 "cells": [
  {
   "cell_type": "markdown",
   "metadata": {},
   "source": [
    "## Extract FRED indicators"
   ]
  },
  {
   "cell_type": "markdown",
   "metadata": {},
   "source": [
    "This notebook is implemented in Databricks which is scheduled to run every Tuesday"
   ]
  },
  {
   "cell_type": "code",
   "execution_count": 0,
   "metadata": {
    "application/vnd.databricks.v1+cell": {
     "inputWidgets": {},
     "nuid": "b22870fe-431b-4047-9c71-6b49b36ebd9c",
     "showTitle": false,
     "title": ""
    }
   },
   "outputs": [
    {
     "data": {
      "text/html": [
       "<style scoped>\n",
       "  .ansiout {\n",
       "    display: block;\n",
       "    unicode-bidi: embed;\n",
       "    white-space: pre-wrap;\n",
       "    word-wrap: break-word;\n",
       "    word-break: break-all;\n",
       "    font-family: \"Source Code Pro\", \"Menlo\", monospace;;\n",
       "    font-size: 13px;\n",
       "    color: #555;\n",
       "    margin-left: 4px;\n",
       "    line-height: 19px;\n",
       "  }\n",
       "</style>\n",
       "<div class=\"ansiout\"></div>"
      ]
     },
     "metadata": {
      "application/vnd.databricks.v1+output": {
       "addedWidgets": {},
       "arguments": {},
       "data": "<div class=\"ansiout\"></div>",
       "datasetInfos": [],
       "metadata": {},
       "removedWidgets": [],
       "type": "html"
      }
     },
     "output_type": "display_data"
    }
   ],
   "source": [
    "import pandas as pd\n",
    "from fredapi import Fred\n",
    "import pandas_datareader.data as web\n",
    "import datetime\n",
    "import time\n",
    "import os\n",
    "from os.path import dirname, join\n",
    "\n",
    "fred = Fred(api_key='KEY')\n",
    "api_url = 'https://fred.stlouisfed.org/'"
   ]
  },
  {
   "cell_type": "code",
   "execution_count": null,
   "metadata": {
    "application/vnd.databricks.v1+cell": {
     "inputWidgets": {},
     "nuid": "f210aa2c-970b-44c2-88d3-b2ba1af9c3a0",
     "showTitle": false,
     "title": ""
    }
   },
   "outputs": [],
   "source": [
    "#Reading files from databricks \n",
    "df_Unemployment_Counties= pd.read_excel( r'/dbfs/FileStore/tables/Endpoints/county_unemployment_endpoints-1.xlsx')\n",
    "df_unemployment_MSA_endpoints=pd.read_excel(r'/dbfs/FileStore/tables/Endpoints/unemployment_msa_endpoints-1.xlsx')\n",
    "df_Economic_Indicators = pd.read_excel( r'/dbfs/FileStore/tables/Endpoints/fred_national_indicators_endpoints-1.xlsx')\n",
    "xls = pd.ExcelFile( r'/dbfs/FileStore/tables/Endpoints/fred_house_price_index_endpoints-1.xlsx')\n",
    "df_House_Price_Index_Non_MSA = pd.read_excel(xls, 'HPI')\n",
    "df_House_Price_Index_MSA = pd.read_excel(xls, 'MSA_HPI')\n",
    "df_Market_Hotness= pd.read_excel(r'/dbfs/FileStore/tables/Endpoints/Market_Hotness_API-1.xlsx')\n",
    "df_Market_Hotness_MSA= pd.read_excel(r'/dbfs/FileStore/tables/Endpoints/Market_Hotness_Endpoints_MSA-2.xlsx')\n",
    "df_Producer_Price_Index= pd.read_excel(r'/dbfs/FileStore/tables/Endpoints/producer_price_index_endpoints-1.xlsx')\n"
   ]
  },
  {
   "cell_type": "code",
   "execution_count": 0,
   "metadata": {
    "application/vnd.databricks.v1+cell": {
     "inputWidgets": {},
     "nuid": "5858317d-0032-4c10-a041-a7426cb3cf2e",
     "showTitle": false,
     "title": ""
    }
   },
   "outputs": [
    {
     "data": {
      "text/html": [
       "<style scoped>\n",
       "  .ansiout {\n",
       "    display: block;\n",
       "    unicode-bidi: embed;\n",
       "    white-space: pre-wrap;\n",
       "    word-wrap: break-word;\n",
       "    word-break: break-all;\n",
       "    font-family: \"Source Code Pro\", \"Menlo\", monospace;;\n",
       "    font-size: 13px;\n",
       "    color: #555;\n",
       "    margin-left: 4px;\n",
       "    line-height: 19px;\n",
       "  }\n",
       "</style>\n",
       "<div class=\"ansiout\">---- Extracting County Unemployment Data ----\n",
       "County Unemployment Data Extraction Complete\n",
       "</div>"
      ]
     },
     "metadata": {
      "application/vnd.databricks.v1+output": {
       "addedWidgets": {},
       "arguments": {},
       "data": "<div class=\"ansiout\">---- Extracting County Unemployment Data ----\nCounty Unemployment Data Extraction Complete\n</div>",
       "datasetInfos": [],
       "metadata": {},
       "removedWidgets": [],
       "type": "html"
      }
     },
     "output_type": "display_data"
    }
   ],
   "source": [
    "#For unemployment counties; as the column name for the extracted data is State_County_Index instead of Dimension/Measure Name\n",
    "\n",
    "df_Unemployment_Counties['State_County_Index']=df_Unemployment_Counties['County']+'_'+df_Unemployment_Counties['State']\n",
    "df_Unemployment_Counties= df_Unemployment_Counties.applymap(lambda x: str(x).replace(\"'\",''))\n",
    "df_Unemployment_Counties=df_Unemployment_Counties.applymap(lambda x: x.strip() if isinstance(x, str) else x)\n",
    "\n",
    "def fetch_API_data_uc(df: pd.DataFrame)->pd.DataFrame:\n",
    "    #Fetch dimension name and APIs from the dataframe\n",
    "    name = [dim for dim in df['State_County_Index']]\n",
    "    api = [key for key in df['API']]\n",
    "    \n",
    "    #Create a dictionary of the extracted APIs\n",
    "    d = {}\n",
    "    for n,a in zip(name,api):\n",
    "        d[n] = fred.get_series(a,observation_start='01/01/2010')\n",
    "        time.sleep(0.5) ## Sleep timer to avoid exceeding api response limits.\n",
    "    df_d_uc = pd.DataFrame((d))\n",
    "    return df_d_uc\n",
    "\n",
    "df_list_uc = [df_Unemployment_Counties]\n",
    "\n",
    "#Extract Unemployment County Data using the function created above.\n",
    "print(\"---- Extracting County Unemployment Data ----\")\n",
    "Unemployment_Counties = fetch_API_data_uc(df_Unemployment_Counties)\n",
    "print(\"County Unemployment Data Extraction Complete\")"
   ]
  },
  {
   "cell_type": "code",
   "execution_count": 0,
   "metadata": {
    "application/vnd.databricks.v1+cell": {
     "inputWidgets": {},
     "nuid": "a941071c-af1c-4392-aad8-e76bb2f038af",
     "showTitle": false,
     "title": ""
    }
   },
   "outputs": [
    {
     "data": {
      "text/html": [
       "<style scoped>\n",
       "  .ansiout {\n",
       "    display: block;\n",
       "    unicode-bidi: embed;\n",
       "    white-space: pre-wrap;\n",
       "    word-wrap: break-word;\n",
       "    word-break: break-all;\n",
       "    font-family: \"Source Code Pro\", \"Menlo\", monospace;;\n",
       "    font-size: 13px;\n",
       "    color: #555;\n",
       "    margin-left: 4px;\n",
       "    line-height: 19px;\n",
       "  }\n",
       "</style>\n",
       "<div class=\"ansiout\">Data saved to Databricks filepath\n",
       "</div>"
      ]
     },
     "metadata": {
      "application/vnd.databricks.v1+output": {
       "addedWidgets": {},
       "arguments": {},
       "data": "<div class=\"ansiout\">Data saved to Databricks filepath\n</div>",
       "datasetInfos": [],
       "metadata": {},
       "removedWidgets": [],
       "type": "html"
      }
     },
     "output_type": "display_data"
    }
   ],
   "source": [
    "#save extracted Unemployment County data to a csv file in FileStore location of dbfs\n",
    "Unemployment_Counties.to_csv('/dbfs/FileStore/tables/Unemployment_Counties.csv')\n",
    "print(\"Data saved to Databricks filepath\")"
   ]
  },
  {
   "cell_type": "code",
   "execution_count": 0,
   "metadata": {
    "application/vnd.databricks.v1+cell": {
     "inputWidgets": {},
     "nuid": "1801f4c2-33f7-4021-adfc-a0606337e97f",
     "showTitle": false,
     "title": ""
    }
   },
   "outputs": [
    {
     "data": {
      "text/html": [
       "<style scoped>\n",
       "  .ansiout {\n",
       "    display: block;\n",
       "    unicode-bidi: embed;\n",
       "    white-space: pre-wrap;\n",
       "    word-wrap: break-word;\n",
       "    word-break: break-all;\n",
       "    font-family: \"Source Code Pro\", \"Menlo\", monospace;;\n",
       "    font-size: 13px;\n",
       "    color: #555;\n",
       "    margin-left: 4px;\n",
       "    line-height: 19px;\n",
       "  }\n",
       "</style>\n",
       "<div class=\"ansiout\">---- Extracting MSA Unemployment Data -----\n",
       "MSA Unemployment Data Extraction Complete\n",
       "</div>"
      ]
     },
     "metadata": {
      "application/vnd.databricks.v1+output": {
       "addedWidgets": {},
       "arguments": {},
       "data": "<div class=\"ansiout\">---- Extracting MSA Unemployment Data -----\nMSA Unemployment Data Extraction Complete\n</div>",
       "datasetInfos": [],
       "metadata": {},
       "removedWidgets": [],
       "type": "html"
      }
     },
     "output_type": "display_data"
    }
   ],
   "source": [
    "#--- Preprocessing Unemployment MSA endpoints data.\n",
    "#Replace \",\" with space and removing MSA string so that it is easier to join with building permits\n",
    "df_unemployment_MSA_endpoints[[\"MSA\"]]= df_unemployment_MSA_endpoints[[\"MSA\"]].applymap(lambda x: str(x).replace(\",\",' '))\n",
    "df_unemployment_MSA_endpoints[[\"MSA\"]]= df_unemployment_MSA_endpoints[[\"MSA\"]].applymap(lambda x: str(x).replace(\"MSA\",''))\n",
    "df_unemployment_MSA_endpoints[[\"MSA\"]]= df_unemployment_MSA_endpoints[[\"MSA\"]].applymap(lambda x: x.strip() if isinstance(x, str) else x)\n",
    "\n",
    "df_unemployment_MSA_endpoints['State_MSA_Index']=df_unemployment_MSA_endpoints[[\"MSA\"]].applymap(lambda x: str(x).replace(\" \",'_'))\n",
    "\n",
    "def fetch_API_data_uc_msa(df: pd.DataFrame)->pd.DataFrame:\n",
    "    \"\"\"Function to fetch data from Fred\n",
    "    \"\"\"\n",
    "    name = [dim for dim in df['State_MSA_Index']]\n",
    "    api = [key for key in df['API']]\n",
    "    #Create a dictionary of the extracted APIs\n",
    "    d = {}\n",
    "    for n,a in zip(name,api):\n",
    "        d[n] = fred.get_series(a,observation_start='01/01/2010')\n",
    "        time.sleep(0.5) ## Sleep timer to avoid exceeding api response limits.\n",
    "    df_d = pd.DataFrame((d))\n",
    "    return df_d\n",
    "print(\"---- Extracting MSA Unemployment Data -----\")\n",
    "Unemployment_MSA = fetch_API_data_uc_msa(df_unemployment_MSA_endpoints)\n",
    "print(\"MSA Unemployment Data Extraction Complete\")"
   ]
  },
  {
   "cell_type": "code",
   "execution_count": 0,
   "metadata": {
    "application/vnd.databricks.v1+cell": {
     "inputWidgets": {},
     "nuid": "7883ee04-a6b0-49ef-8802-d46e8ba3af68",
     "showTitle": false,
     "title": ""
    }
   },
   "outputs": [
    {
     "data": {
      "text/html": [
       "<style scoped>\n",
       "  .ansiout {\n",
       "    display: block;\n",
       "    unicode-bidi: embed;\n",
       "    white-space: pre-wrap;\n",
       "    word-wrap: break-word;\n",
       "    word-break: break-all;\n",
       "    font-family: \"Source Code Pro\", \"Menlo\", monospace;;\n",
       "    font-size: 13px;\n",
       "    color: #555;\n",
       "    margin-left: 4px;\n",
       "    line-height: 19px;\n",
       "  }\n",
       "</style>\n",
       "<div class=\"ansiout\"></div>"
      ]
     },
     "metadata": {
      "application/vnd.databricks.v1+output": {
       "addedWidgets": {},
       "arguments": {},
       "data": "<div class=\"ansiout\"></div>",
       "datasetInfos": [],
       "metadata": {},
       "removedWidgets": [],
       "type": "html"
      }
     },
     "output_type": "display_data"
    }
   ],
   "source": [
    "Unemployment_MSA.to_csv('/dbfs/FileStore/tables/Unemployment_MSA.csv')"
   ]
  },
  {
   "cell_type": "code",
   "execution_count": 0,
   "metadata": {
    "application/vnd.databricks.v1+cell": {
     "inputWidgets": {},
     "nuid": "25878f2b-4cc2-4f43-b999-fadd9bf51def",
     "showTitle": false,
     "title": ""
    }
   },
   "outputs": [
    {
     "data": {
      "text/html": [
       "<style scoped>\n",
       "  .ansiout {\n",
       "    display: block;\n",
       "    unicode-bidi: embed;\n",
       "    white-space: pre-wrap;\n",
       "    word-wrap: break-word;\n",
       "    word-break: break-all;\n",
       "    font-family: \"Source Code Pro\", \"Menlo\", monospace;;\n",
       "    font-size: 13px;\n",
       "    color: #555;\n",
       "    margin-left: 4px;\n",
       "    line-height: 19px;\n",
       "  }\n",
       "</style>\n",
       "<div class=\"ansiout\"></div>"
      ]
     },
     "metadata": {
      "application/vnd.databricks.v1+output": {
       "addedWidgets": {},
       "arguments": {},
       "data": "<div class=\"ansiout\"></div>",
       "datasetInfos": [],
       "metadata": {},
       "removedWidgets": [],
       "type": "html"
      }
     },
     "output_type": "display_data"
    }
   ],
   "source": [
    "output_file_names = ['Economic_Indicators','Market_Hotness_Indicators','Market_Hotness_Indicators_MSA','House_Price_Index_Non_MSA','House_Price_Index_MSA','Producer_Price_Index']"
   ]
  },
  {
   "cell_type": "code",
   "execution_count": 0,
   "metadata": {
    "application/vnd.databricks.v1+cell": {
     "inputWidgets": {},
     "nuid": "291f3ca8-9b24-4b7d-b7cc-bf389b06d03b",
     "showTitle": false,
     "title": ""
    }
   },
   "outputs": [
    {
     "data": {
      "text/html": [
       "<style scoped>\n",
       "  .ansiout {\n",
       "    display: block;\n",
       "    unicode-bidi: embed;\n",
       "    white-space: pre-wrap;\n",
       "    word-wrap: break-word;\n",
       "    word-break: break-all;\n",
       "    font-family: \"Source Code Pro\", \"Menlo\", monospace;;\n",
       "    font-size: 13px;\n",
       "    color: #555;\n",
       "    margin-left: 4px;\n",
       "    line-height: 19px;\n",
       "  }\n",
       "</style>\n",
       "<div class=\"ansiout\"></div>"
      ]
     },
     "metadata": {
      "application/vnd.databricks.v1+output": {
       "addedWidgets": {},
       "arguments": {},
       "data": "<div class=\"ansiout\"></div>",
       "datasetInfos": [],
       "metadata": {},
       "removedWidgets": [],
       "type": "html"
      }
     },
     "output_type": "display_data"
    }
   ],
   "source": [
    "df_list = [df_Economic_Indicators,df_Market_Hotness,df_Market_Hotness_MSA,\n",
    "           df_House_Price_Index_Non_MSA,df_House_Price_Index_MSA, df_Producer_Price_Index]"
   ]
  },
  {
   "cell_type": "code",
   "execution_count": 0,
   "metadata": {
    "application/vnd.databricks.v1+cell": {
     "inputWidgets": {},
     "nuid": "7286d58a-a2a3-46b3-ba07-81d1bbcb7df5",
     "showTitle": false,
     "title": ""
    }
   },
   "outputs": [
    {
     "data": {
      "text/html": [
       "<style scoped>\n",
       "  .ansiout {\n",
       "    display: block;\n",
       "    unicode-bidi: embed;\n",
       "    white-space: pre-wrap;\n",
       "    word-wrap: break-word;\n",
       "    word-break: break-all;\n",
       "    font-family: \"Source Code Pro\", \"Menlo\", monospace;;\n",
       "    font-size: 13px;\n",
       "    color: #555;\n",
       "    margin-left: 4px;\n",
       "    line-height: 19px;\n",
       "  }\n",
       "</style>\n",
       "<div class=\"ansiout\"></div>"
      ]
     },
     "metadata": {
      "application/vnd.databricks.v1+output": {
       "addedWidgets": {},
       "arguments": {},
       "data": "<div class=\"ansiout\"></div>",
       "datasetInfos": [],
       "metadata": {},
       "removedWidgets": [],
       "type": "html"
      }
     },
     "output_type": "display_data"
    }
   ],
   "source": [
    "def fetch_API_data(df: pd.DataFrame)->pd.DataFrame:\n",
    "    #Fetch dimension name and APIs from the dataframe\n",
    "    name = [dim for dim in df['Dimension/Measure Name']]\n",
    "    api = [key for key in df['API']]\n",
    "    \n",
    "    #Create a dictionary of the extracted APIs\n",
    "    d = {}\n",
    "    for n,a in zip(name,api):\n",
    "        d[n] = fred.get_series(a,observation_start='01/01/2010')\n",
    "        time.sleep(0.5) ## Sleep timer to avoid exceeding api response limits.\n",
    "    df_d = pd.DataFrame((d))\n",
    "    return df_d"
   ]
  },
  {
   "cell_type": "code",
   "execution_count": 0,
   "metadata": {
    "application/vnd.databricks.v1+cell": {
     "inputWidgets": {},
     "nuid": "f9618d35-374d-4781-8137-68cf63b99561",
     "showTitle": false,
     "title": ""
    }
   },
   "outputs": [
    {
     "data": {
      "text/html": [
       "<style scoped>\n",
       "  .ansiout {\n",
       "    display: block;\n",
       "    unicode-bidi: embed;\n",
       "    white-space: pre-wrap;\n",
       "    word-wrap: break-word;\n",
       "    word-break: break-all;\n",
       "    font-family: \"Source Code Pro\", \"Menlo\", monospace;;\n",
       "    font-size: 13px;\n",
       "    color: #555;\n",
       "    margin-left: 4px;\n",
       "    line-height: 19px;\n",
       "  }\n",
       "</style>\n",
       "<div class=\"ansiout\"></div>"
      ]
     },
     "metadata": {
      "application/vnd.databricks.v1+output": {
       "addedWidgets": {},
       "arguments": {},
       "data": "<div class=\"ansiout\"></div>",
       "datasetInfos": [],
       "metadata": {},
       "removedWidgets": [],
       "type": "html"
      }
     },
     "output_type": "display_data"
    }
   ],
   "source": [
    "# fred_extract_dict[\"Market_Hotness_Indicators_MSA\"]=Market_Hotness_Indicators_MSA\n"
   ]
  },
  {
   "cell_type": "code",
   "execution_count": 0,
   "metadata": {
    "application/vnd.databricks.v1+cell": {
     "inputWidgets": {},
     "nuid": "c1dee246-ed43-40fd-8eb1-e9fea3ee340e",
     "showTitle": false,
     "title": ""
    }
   },
   "outputs": [
    {
     "data": {
      "text/html": [
       "<style scoped>\n",
       "  .ansiout {\n",
       "    display: block;\n",
       "    unicode-bidi: embed;\n",
       "    white-space: pre-wrap;\n",
       "    word-wrap: break-word;\n",
       "    word-break: break-all;\n",
       "    font-family: \"Source Code Pro\", \"Menlo\", monospace;;\n",
       "    font-size: 13px;\n",
       "    color: #555;\n",
       "    margin-left: 4px;\n",
       "    line-height: 19px;\n",
       "  }\n",
       "</style>\n",
       "<div class=\"ansiout\">Economic_Indicators\n",
       "Extracting ---- Economic_Indicators\n",
       "Extract complete ---- Economic_Indicators\n",
       "Market_Hotness_Indicators\n",
       "Extracting ---- Market_Hotness_Indicators\n",
       "Extract complete ---- Market_Hotness_Indicators\n",
       "Market_Hotness_Indicators_MSA\n",
       "Extracting ---- Market_Hotness_Indicators_MSA\n",
       "Extract complete ---- Market_Hotness_Indicators_MSA\n",
       "House_Price_Index_Non_MSA\n",
       "Extracting ---- House_Price_Index_Non_MSA\n",
       "Extract complete ---- House_Price_Index_Non_MSA\n",
       "House_Price_Index_MSA\n",
       "Extracting ---- House_Price_Index_MSA\n",
       "Extract complete ---- House_Price_Index_MSA\n",
       "Producer_Price_Index\n",
       "Extracting ---- Producer_Price_Index\n",
       "Extract complete ---- Producer_Price_Index\n",
       "---- Data read complete ----\n",
       "</div>"
      ]
     },
     "metadata": {
      "application/vnd.databricks.v1+output": {
       "addedWidgets": {},
       "arguments": {},
       "data": "<div class=\"ansiout\">Economic_Indicators\nExtracting ---- Economic_Indicators\nExtract complete ---- Economic_Indicators\nMarket_Hotness_Indicators\nExtracting ---- Market_Hotness_Indicators\nExtract complete ---- Market_Hotness_Indicators\nMarket_Hotness_Indicators_MSA\nExtracting ---- Market_Hotness_Indicators_MSA\nExtract complete ---- Market_Hotness_Indicators_MSA\nHouse_Price_Index_Non_MSA\nExtracting ---- House_Price_Index_Non_MSA\nExtract complete ---- House_Price_Index_Non_MSA\nHouse_Price_Index_MSA\nExtracting ---- House_Price_Index_MSA\nExtract complete ---- House_Price_Index_MSA\nProducer_Price_Index\nExtracting ---- Producer_Price_Index\nExtract complete ---- Producer_Price_Index\n---- Data read complete ----\n</div>",
       "datasetInfos": [],
       "metadata": {},
       "removedWidgets": [],
       "type": "html"
      }
     },
     "output_type": "display_data"
    }
   ],
   "source": [
    "\n",
    "fred_extract_dict={}\n",
    "for f,o in zip(df_list,output_file_names):\n",
    "    print(o)\n",
    "    print('Extracting ---- {}'.format(o))\n",
    "    fred_extract_dict[o] = fetch_API_data(f)\n",
    "    print('Extract complete ---- {}'.format(o))\n",
    "print('---- Data read complete ----')"
   ]
  },
  {
   "cell_type": "code",
   "execution_count": 0,
   "metadata": {
    "application/vnd.databricks.v1+cell": {
     "inputWidgets": {},
     "nuid": "4e7cb944-4f3e-461c-8a3f-7318bff732c4",
     "showTitle": false,
     "title": ""
    }
   },
   "outputs": [
    {
     "data": {
      "text/html": [
       "<style scoped>\n",
       "  .ansiout {\n",
       "    display: block;\n",
       "    unicode-bidi: embed;\n",
       "    white-space: pre-wrap;\n",
       "    word-wrap: break-word;\n",
       "    word-break: break-all;\n",
       "    font-family: \"Source Code Pro\", \"Menlo\", monospace;;\n",
       "    font-size: 13px;\n",
       "    color: #555;\n",
       "    margin-left: 4px;\n",
       "    line-height: 19px;\n",
       "  }\n",
       "</style>\n",
       "<div class=\"ansiout\">Files converted to CSV and loaded to Databricks Filepath\n",
       "</div>"
      ]
     },
     "metadata": {
      "application/vnd.databricks.v1+output": {
       "addedWidgets": {},
       "arguments": {},
       "data": "<div class=\"ansiout\">Files converted to CSV and loaded to Databricks Filepath\n</div>",
       "datasetInfos": [],
       "metadata": {},
       "removedWidgets": [],
       "type": "html"
      }
     },
     "output_type": "display_data"
    }
   ],
   "source": [
    "#fred_extract_dict['Unemployment_Counties'].to_csv('/dbfs/FileStore/tables/Unemployment_Counties.csv')\n",
    "fred_extract_dict['Economic_Indicators'].to_csv('/dbfs/FileStore/tables/Economic_Indicators.csv')\n",
    "fred_extract_dict['Market_Hotness_Indicators'].to_csv('/dbfs/FileStore/tables/Market_Hotness_Indicators.csv')\n",
    "fred_extract_dict['Market_Hotness_Indicators_MSA'].to_csv('/dbfs/FileStore/tables/Market_Hotness_Indicators_MSA.csv')\n",
    "fred_extract_dict['House_Price_Index_Non_MSA'].to_csv('/dbfs/FileStore/tables/House_Price_Index_Non_MSA.csv')\n",
    "fred_extract_dict['House_Price_Index_MSA'].to_csv('/dbfs/FileStore/tables/House_Price_Index_MSA.csv')\n",
    "fred_extract_dict['Producer_Price_Index'].to_csv('/dbfs/FileStore/tables/Producer_Price_Index.csv')\n",
    "\n",
    "print('Files converted to CSV and loaded to Databricks Filepath')"
   ]
  },
  {
   "cell_type": "code",
   "execution_count": 0,
   "metadata": {
    "application/vnd.databricks.v1+cell": {
     "inputWidgets": {},
     "nuid": "2efac171-0d23-4e9c-8018-040442dfc0b7",
     "showTitle": false,
     "title": ""
    }
   },
   "outputs": [
    {
     "data": {
      "text/html": [
       "<style scoped>\n",
       "  .ansiout {\n",
       "    display: block;\n",
       "    unicode-bidi: embed;\n",
       "    white-space: pre-wrap;\n",
       "    word-wrap: break-word;\n",
       "    word-break: break-all;\n",
       "    font-family: \"Source Code Pro\", \"Menlo\", monospace;;\n",
       "    font-size: 13px;\n",
       "    color: #555;\n",
       "    margin-left: 4px;\n",
       "    line-height: 19px;\n",
       "  }\n",
       "</style>\n",
       "<div class=\"ansiout\"></div>"
      ]
     },
     "metadata": {
      "application/vnd.databricks.v1+output": {
       "addedWidgets": {},
       "arguments": {},
       "data": "<div class=\"ansiout\"></div>",
       "datasetInfos": [],
       "metadata": {},
       "removedWidgets": [],
       "type": "html"
      }
     },
     "output_type": "display_data"
    }
   ],
   "source": [
    "\n",
    "#Converting stored csv files to pandas df to rename Unnamed date column\n",
    "\n",
    "pd_df_Unemployment_Counties= pd.read_csv('/dbfs/FileStore/tables/Unemployment_Counties.csv')\n",
    "pd_df_Unemployment_Counties.rename( columns={'Unnamed: 0':'Date'}, inplace=True )\n",
    "pd_df_Unemployment_Counties.to_csv('Unemployment_Counties.csv',index=False)\n",
    "\n",
    "pd_df_Unemployment_MSA= pd.read_csv('/dbfs/FileStore/tables/Unemployment_MSA.csv')\n",
    "pd_df_Unemployment_MSA.rename( columns={'Unnamed: 0':'Date'}, inplace=True )\n",
    "pd_df_Unemployment_MSA.to_csv('Unemployment_MSA.csv',index=False)\n",
    "\n",
    "pd_df_Economic_Indicators= pd.read_csv('/dbfs/FileStore/tables/Economic_Indicators.csv')\n",
    "pd_df_Economic_Indicators.rename( columns={'Unnamed: 0':'Date'}, inplace=True )\n",
    "pd_df_Economic_Indicators.to_csv('/dbfs/FileStore/tables/Economic_Indicators.csv',index=False)\n",
    "\n",
    "pd_df_Market_Hotness_Indicators= pd.read_csv('/dbfs/FileStore/tables/Market_Hotness_Indicators.csv')\n",
    "pd_df_Market_Hotness_Indicators.rename( columns={'Unnamed: 0':'Date'}, inplace=True )\n",
    "pd_df_Market_Hotness_Indicators.to_csv('/dbfs/FileStore/tables/Market_Hotness_Indicators.csv',index=False)\n",
    "\n",
    "pd_df_Market_Hotness_Indicators_MSA= pd.read_csv('/dbfs/FileStore/tables/Market_Hotness_Indicators_MSA.csv')\n",
    "pd_df_Market_Hotness_Indicators_MSA.rename( columns={'Unnamed: 0':'Date'}, inplace=True )\n",
    "pd_df_Market_Hotness_Indicators_MSA.to_csv('/dbfs/FileStore/tables/Market_Hotness_Indicators_MSA.csv',index=False)\n",
    "\n",
    "pd_df_House_Price_Index_Non_MSA= pd.read_csv('/dbfs/FileStore/tables/House_Price_Index_Non_MSA.csv')\n",
    "pd_df_House_Price_Index_Non_MSA.rename( columns={'Unnamed: 0':'Date'}, inplace=True )\n",
    "pd_df_House_Price_Index_Non_MSA.to_csv('/dbfs/FileStore/tables/House_Price_Index_Non_MSA.csv',index=False)\n",
    "\n",
    "pd_df_House_Price_Index_MSA= pd.read_csv('/dbfs/FileStore/tables/House_Price_Index_MSA.csv')\n",
    "pd_df_House_Price_Index_MSA.rename( columns={'Unnamed: 0':'Date'}, inplace=True )\n",
    "pd_df_House_Price_Index_MSA.to_csv('/dbfs/FileStore/tables/House_Price_Index_MSA.csv',index=False)\n",
    "\n",
    "pd_df_Producer_Price_Index= pd.read_csv('/dbfs/FileStore/tables/Producer_Price_Index.csv')\n",
    "pd_df_Producer_Price_Index.rename( columns={'Unnamed: 0':'Date'}, inplace=True )\n",
    "pd_df_Producer_Price_Index.to_csv('/dbfs/FileStore/tables/Producer_Price_Index.csv',index=False)"
   ]
  },
  {
   "cell_type": "code",
   "execution_count": 0,
   "metadata": {
    "application/vnd.databricks.v1+cell": {
     "inputWidgets": {},
     "nuid": "7a4e4f68-0baf-45d0-be62-f40a3f7039fb",
     "showTitle": false,
     "title": ""
    }
   },
   "outputs": [
    {
     "data": {
      "text/html": [
       "<style scoped>\n",
       "  .ansiout {\n",
       "    display: block;\n",
       "    unicode-bidi: embed;\n",
       "    white-space: pre-wrap;\n",
       "    word-wrap: break-word;\n",
       "    word-break: break-all;\n",
       "    font-family: \"Source Code Pro\", \"Menlo\", monospace;;\n",
       "    font-size: 13px;\n",
       "    color: #555;\n",
       "    margin-left: 4px;\n",
       "    line-height: 19px;\n",
       "  }\n",
       "</style>\n",
       "<div class=\"ansiout\">Conversion to Spark Dataframe complete\n",
       "</div>"
      ]
     },
     "metadata": {
      "application/vnd.databricks.v1+output": {
       "addedWidgets": {},
       "arguments": {},
       "data": "<div class=\"ansiout\">Conversion to Spark Dataframe complete\n</div>",
       "datasetInfos": [],
       "metadata": {},
       "removedWidgets": [],
       "type": "html"
      }
     },
     "output_type": "display_data"
    }
   ],
   "source": [
    "#Get spark dataframe from pandas dataframe for sending data to azure blob storage\n",
    "spark_df_unmep_counties=spark.createDataFrame(pd_df_Unemployment_Counties) \n",
    "spark_df_unmep_msa=spark.createDataFrame(pd_df_Unemployment_MSA) \n",
    "spark_df_economic_indicators=spark.createDataFrame(pd_df_Economic_Indicators) \n",
    "spark_df_market_hotness=spark.createDataFrame(pd_df_Market_Hotness_Indicators)\n",
    "spark_df_market_hotness_msa=spark.createDataFrame(pd_df_Market_Hotness_Indicators_MSA)\n",
    "spark_df_hpi_non_msa=spark.createDataFrame(pd_df_House_Price_Index_Non_MSA) \n",
    "spark_df_hpi_msa=spark.createDataFrame(pd_df_House_Price_Index_MSA) \n",
    "spark_df_ppi=spark.createDataFrame(pd_df_Producer_Price_Index) \n",
    "print('Conversion to Spark Dataframe complete')\n"
   ]
  },
  {
   "cell_type": "code",
   "execution_count": 0,
   "metadata": {
    "application/vnd.databricks.v1+cell": {
     "inputWidgets": {},
     "nuid": "11f869d3-355c-4538-a0d3-5a4a7d88edfa",
     "showTitle": false,
     "title": ""
    }
   },
   "outputs": [
    {
     "data": {
      "text/html": [
       "<style scoped>\n",
       "  .ansiout {\n",
       "    display: block;\n",
       "    unicode-bidi: embed;\n",
       "    white-space: pre-wrap;\n",
       "    word-wrap: break-word;\n",
       "    word-break: break-all;\n",
       "    font-family: \"Source Code Pro\", \"Menlo\", monospace;;\n",
       "    font-size: 13px;\n",
       "    color: #555;\n",
       "    margin-left: 4px;\n",
       "    line-height: 19px;\n",
       "  }\n",
       "</style>\n",
       "<div class=\"ansiout\"></div>"
      ]
     },
     "metadata": {
      "application/vnd.databricks.v1+output": {
       "addedWidgets": {},
       "arguments": {},
       "data": "<div class=\"ansiout\"></div>",
       "datasetInfos": [],
       "metadata": {},
       "removedWidgets": [],
       "type": "html"
      }
     },
     "output_type": "display_data"
    }
   ],
   "source": [
    "\n",
    "#### Directly converting rejects date field \n",
    "# #Creating spark dataframe from Pandas Dataframe to write into a csv file later\n",
    "# spark_df_unmep_counties=spark.createDataFrame(fred_extract_dict['Unemployment_Counties']) \n",
    "# spark_df_economic_indicators=spark.createDataFrame(fred_extract_dict['Economic_Indicators']) \n",
    "# spark_df_market_hotness=spark.createDataFrame(fred_extract_dict['Market_Hotness_Indicators']) \n",
    "# spark_df_hpi_non_msa=spark.createDataFrame(fred_extract_dict['House_Price_Index_Non_MSA']) \n",
    "# spark_df_hpi_msa=spark.createDataFrame(fred_extract_dict['House_Price_Index_MSA']) \n",
    "# spark_df_ppi=spark.createDataFrame(fred_extract_dict['Producer_Price_Index']) \n",
    "\n"
   ]
  },
  {
   "cell_type": "code",
   "execution_count": 0,
   "metadata": {
    "application/vnd.databricks.v1+cell": {
     "inputWidgets": {},
     "nuid": "b2614162-6154-4555-8986-95a3b3f42c28",
     "showTitle": false,
     "title": ""
    }
   },
   "outputs": [
    {
     "data": {
      "text/html": [
       "<style scoped>\n",
       "  .ansiout {\n",
       "    display: block;\n",
       "    unicode-bidi: embed;\n",
       "    white-space: pre-wrap;\n",
       "    word-wrap: break-word;\n",
       "    word-break: break-all;\n",
       "    font-family: \"Source Code Pro\", \"Menlo\", monospace;;\n",
       "    font-size: 13px;\n",
       "    color: #555;\n",
       "    margin-left: 4px;\n",
       "    line-height: 19px;\n",
       "  }\n",
       "</style>\n",
       "<div class=\"ansiout\">------Files added to smcanalytics/fred-extract path on Azure---------\n",
       "</div>"
      ]
     },
     "metadata": {
      "application/vnd.databricks.v1+output": {
       "addedWidgets": {},
       "arguments": {},
       "data": "<div class=\"ansiout\">------Files added to smcanalytics/fred-extract path on Azure---------\n</div>",
       "datasetInfos": [],
       "metadata": {},
       "removedWidgets": [],
       "type": "html"
      }
     },
     "output_type": "display_data"
    }
   ],
   "source": [
    "spark_df_unmep_counties.coalesce(1).write.mode(\"overwrite\").format(\"com.databricks.spark.csv\").option(\"header\",\"true\").csv(\"/mnt/storage_account_name/container_name/Unemployment_Counties\")\n",
    "spark_df_unmep_msa.coalesce(1).write.mode(\"overwrite\").format(\"com.databricks.spark.csv\").option(\"header\",\"true\").csv(\"/mnt/storage_account_name/container_name/Unemployment_MSA\")\n",
    "spark_df_economic_indicators.coalesce(1).write.mode(\"overwrite\").format(\"com.databricks.spark.csv\").option(\"header\",\"true\").csv(\"/mnt/storage_account_name/container_name/Economic_Indicators\")\n",
    "spark_df_market_hotness.coalesce(1).write.mode(\"overwrite\").format(\"com.databricks.spark.csv\").option(\"header\",\"true\").csv(\"/mnt/storage_account_name/container_name/Market_Hotness_Indicators\")\n",
    "spark_df_market_hotness_msa.coalesce(1).write.mode(\"overwrite\").format(\"com.databricks.spark.csv\").option(\"header\",\"true\").csv(\"/mnt/storage_account_name/container_name/Market_Hotness_Indicators_MSA\")\n",
    "spark_df_hpi_non_msa.coalesce(1).write.mode(\"overwrite\").format(\"com.databricks.spark.csv\").option(\"header\",\"true\").csv(\"/mnt/storage_account_name/container_name/House_Price_Index_Non_MSA\")\n",
    "spark_df_hpi_msa.coalesce(1).write.mode(\"overwrite\").format(\"com.databricks.spark.csv\").option(\"header\",\"true\").csv(\"/mnt/storage_account_name/container_name/House_Price_Index_MSA\")\n",
    "spark_df_ppi.coalesce(1).write.mode(\"overwrite\").format(\"com.databricks.spark.csv\").option(\"header\",\"true\").csv(\"/mnt/storage_account_name/container_name/Producer_Price_Index\")\n",
    "\n",
    "print('------Files added to storage_account_name/container_name path on Azure---------')"
   ]
  },
  {
   "cell_type": "markdown",
   "metadata": {
    "application/vnd.databricks.v1+cell": {
     "inputWidgets": {},
     "nuid": "85178f9e-90eb-4a89-b537-e1e04cba7d35",
     "showTitle": false,
     "title": ""
    }
   },
   "source": [
    "##### Note: These files are saved with default spark naming format therefore we now need to rename them."
   ]
  },
  {
   "cell_type": "code",
   "execution_count": 0,
   "metadata": {
    "application/vnd.databricks.v1+cell": {
     "inputWidgets": {},
     "nuid": "979cba54-3892-4c1d-b1e3-f4d9785c2ab7",
     "showTitle": false,
     "title": ""
    }
   },
   "outputs": [
    {
     "data": {
      "text/html": [
       "<style scoped>\n",
       "  .ansiout {\n",
       "    display: block;\n",
       "    unicode-bidi: embed;\n",
       "    white-space: pre-wrap;\n",
       "    word-wrap: break-word;\n",
       "    word-break: break-all;\n",
       "    font-family: \"Source Code Pro\", \"Menlo\", monospace;;\n",
       "    font-size: 13px;\n",
       "    color: #555;\n",
       "    margin-left: 4px;\n",
       "    line-height: 19px;\n",
       "  }\n",
       "</style>\n",
       "<div class=\"ansiout\">File rename complete\n",
       "</div>"
      ]
     },
     "metadata": {
      "application/vnd.databricks.v1+output": {
       "addedWidgets": {},
       "arguments": {},
       "data": "<div class=\"ansiout\">File rename complete\n</div>",
       "datasetInfos": [],
       "metadata": {},
       "removedWidgets": [],
       "type": "html"
      }
     },
     "output_type": "display_data"
    }
   ],
   "source": [
    "# read files that start with part-\n",
    "output_blob_folder = \"/mnt/storage_account_name/container_name/Unemployment_Counties/\"\n",
    "files = dbutils.fs.ls(output_blob_folder)\n",
    "output_file = [x for x in files if x.name.startswith(\"part-\")]\n",
    "\n",
    "output_container_path =\"/mnt/storage_account_name/container_name/Unemployment_Counties/\"\n",
    "dbutils.fs.mv(output_file[0].path, \"%s/Unemployment_Counties.csv\" % output_container_path)\n",
    "\n",
    "# read files that start with part-\n",
    "output_blob_folder = \"/mnt/storage_account_name/container_name/Unemployment_MSA/\"\n",
    "files = dbutils.fs.ls(output_blob_folder)\n",
    "output_file = [x for x in files if x.name.startswith(\"part-\")]\n",
    "\n",
    "output_container_path =\"/mnt/storage_account_name/container_name/Unemployment_MSA/\"\n",
    "dbutils.fs.mv(output_file[0].path, \"%s/Unemployment_MSA.csv\" % output_container_path)\n",
    "\n",
    "# read files that start with part-\n",
    "output_blob_folder = \"/mnt/storage_account_name/container_name/Economic_Indicators/\"\n",
    "files = dbutils.fs.ls(output_blob_folder)\n",
    "output_file = [x for x in files if x.name.startswith(\"part-\")]\n",
    "\n",
    "output_container_path =\"/mnt/storage_account_name/container_name/Economic_Indicators/\"\n",
    "dbutils.fs.mv(output_file[0].path, \"%s/Economic_Indicators.csv\" % output_container_path)\n",
    "\n",
    "# read files that start with part-\n",
    "output_blob_folder = \"/mnt/storage_account_name/container_name/Market_Hotness_Indicators/\"\n",
    "files = dbutils.fs.ls(output_blob_folder)\n",
    "output_file = [x for x in files if x.name.startswith(\"part-\")]\n",
    "\n",
    "output_container_path =\"/mnt/storage_account_name/container_name/Market_Hotness_Indicators/\"\n",
    "dbutils.fs.mv(output_file[0].path, \"%s/Market_Hotness_Indicators.csv\" % output_container_path)\n",
    "\n",
    "# read files that start with part-\n",
    "output_blob_folder = \"/mnt/storage_account_name/container_name/Market_Hotness_Indicators_MSA/\"\n",
    "files = dbutils.fs.ls(output_blob_folder)\n",
    "output_file = [x for x in files if x.name.startswith(\"part-\")]\n",
    "\n",
    "output_container_path =\"/mnt/storage_account_name/container_name/Market_Hotness_Indicators_MSA/\"\n",
    "dbutils.fs.mv(output_file[0].path, \"%s/Market_Hotness_Indicators_MSA.csv\" % output_container_path)\n",
    "\n",
    "# read files that start with part-\n",
    "output_blob_folder = \"/mnt/storage_account_name/container_name/House_Price_Index_Non_MSA/\"\n",
    "files = dbutils.fs.ls(output_blob_folder)\n",
    "output_file = [x for x in files if x.name.startswith(\"part-\")]\n",
    "\n",
    "output_container_path =\"/mnt/storage_account_name/container_name/House_Price_Index_Non_MSA/\"\n",
    "dbutils.fs.mv(output_file[0].path, \"%s/House_Price_Index_Non_MSA.csv\" % output_container_path)\n",
    "\n",
    "\n",
    "# read files that start with part-\n",
    "output_blob_folder = \"/mnt/storage_account_name/container_name/House_Price_Index_MSA/\"\n",
    "files = dbutils.fs.ls(output_blob_folder)\n",
    "output_file = [x for x in files if x.name.startswith(\"part-\")]\n",
    "\n",
    "output_container_path =\"/mnt/storage_account_name/container_name/House_Price_Index_MSA/\"\n",
    "dbutils.fs.mv(output_file[0].path, \"%s/House_Price_Index_MSA.csv\" % output_container_path)\n",
    "\n",
    "# read files that start with part-\n",
    "output_blob_folder = \"/mnt/storage_account_name/container_name/Producer_Price_Index/\"\n",
    "files = dbutils.fs.ls(output_blob_folder)\n",
    "output_file = [x for x in files if x.name.startswith(\"part-\")]\n",
    "\n",
    "output_container_path =\"/mnt/storage_account_name/container_name/Producer_Price_Index/\"\n",
    "dbutils.fs.mv(output_file[0].path, \"%s/Producer_Price_Index.csv\" % output_container_path)\n",
    "\n",
    "print('File rename complete')\n",
    "\n",
    "#Convert this section to a function"
   ]
  },
  {
   "cell_type": "code",
   "execution_count": 0,
   "metadata": {
    "application/vnd.databricks.v1+cell": {
     "inputWidgets": {},
     "nuid": "052ddb3e-0e27-4693-b874-a0bda13e4297",
     "showTitle": false,
     "title": ""
    }
   },
   "outputs": [
    {
     "data": {
      "text/html": [
       "<style scoped>\n",
       "  .ansiout {\n",
       "    display: block;\n",
       "    unicode-bidi: embed;\n",
       "    white-space: pre-wrap;\n",
       "    word-wrap: break-word;\n",
       "    word-break: break-all;\n",
       "    font-family: \"Source Code Pro\", \"Menlo\", monospace;;\n",
       "    font-size: 13px;\n",
       "    color: #555;\n",
       "    margin-left: 4px;\n",
       "    line-height: 19px;\n",
       "  }\n",
       "</style>\n",
       "<div class=\"ansiout\"></div>"
      ]
     },
     "metadata": {
      "application/vnd.databricks.v1+output": {
       "addedWidgets": {},
       "arguments": {},
       "data": "<div class=\"ansiout\"></div>",
       "datasetInfos": [],
       "metadata": {},
       "removedWidgets": [],
       "type": "html"
      }
     },
     "output_type": "display_data"
    }
   ],
   "source": [
    "# pd_df_= pd.read_csv('Unemployment_Counties.csv')\n",
    "# pd_dataframe.rename( columns={'Unnamed: 0':'Date'}, inplace=True )\n",
    "\n",
    "# pd_dataframe= pd.read_csv('Unemployment_Counties.csv')\n",
    "# pd_dataframe.rename( columns={'Unnamed: 0':'Date'}, inplace=True )\n",
    "\n",
    "# pd_dataframe= pd.read_csv('Unemployment_Counties.csv')\n",
    "# pd_dataframe.rename( columns={'Unnamed: 0':'Date'}, inplace=True )\n",
    "\n",
    "\n",
    "# pd_dataframe= pd.read_csv('Unemployment_Counties.csv')\n",
    "# pd_dataframe.rename( columns={'Unnamed: 0':'Date'}, inplace=True )\n",
    "\n",
    "# pd_dataframe= pd.read_csv('Unemployment_Counties.csv')\n",
    "# pd_dataframe.rename( columns={'Unnamed: 0':'Date'}, inplace=True )\n",
    "\n",
    "# pd_dataframe= pd.read_csv('Unemployment_Counties.csv')\n",
    "# pd_dataframe.rename( columns={'Unnamed: 0':'Date'}, inplace=True )"
   ]
  },
  {
   "cell_type": "code",
   "execution_count": 0,
   "metadata": {
    "application/vnd.databricks.v1+cell": {
     "inputWidgets": {},
     "nuid": "3ea34750-5336-4058-80b8-5ef3ba2a3ea5",
     "showTitle": false,
     "title": ""
    }
   },
   "outputs": [
    {
     "data": {
      "text/html": [
       "<style scoped>\n",
       "  .ansiout {\n",
       "    display: block;\n",
       "    unicode-bidi: embed;\n",
       "    white-space: pre-wrap;\n",
       "    word-wrap: break-word;\n",
       "    word-break: break-all;\n",
       "    font-family: \"Source Code Pro\", \"Menlo\", monospace;;\n",
       "    font-size: 13px;\n",
       "    color: #555;\n",
       "    margin-left: 4px;\n",
       "    line-height: 19px;\n",
       "  }\n",
       "</style>"
      ]
     },
     "metadata": {
      "application/vnd.databricks.v1+output": {
       "arguments": {},
       "data": "",
       "errorSummary": "",
       "errorTraceType": null,
       "metadata": {},
       "type": "ipynbError"
      }
     },
     "output_type": "display_data"
    }
   ],
   "source": []
  }
 ],
 "metadata": {
  "application/vnd.databricks.v1+notebook": {
   "dashboards": [],
   "language": "python",
   "notebookMetadata": {
    "pythonIndentUnit": 2
   },
   "notebookName": "Fred_Extract_All_Freq",
   "notebookOrigID": 685967879260779,
   "widgets": {}
  },
  "kernelspec": {
   "display_name": "Python 3",
   "language": "python",
   "name": "python3"
  },
  "language_info": {
   "codemirror_mode": {
    "name": "ipython",
    "version": 3
   },
   "file_extension": ".py",
   "mimetype": "text/x-python",
   "name": "python",
   "nbconvert_exporter": "python",
   "pygments_lexer": "ipython3",
   "version": "3.8.5"
  }
 },
 "nbformat": 4,
 "nbformat_minor": 1
}
