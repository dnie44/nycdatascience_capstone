{
 "cells": [
  {
   "cell_type": "markdown",
   "metadata": {},
   "source": [
    "## Great Schools Scraping Info"
   ]
  },
  {
   "cell_type": "markdown",
   "metadata": {},
   "source": [
    "- The school_scraper spider will pull all of the zip codes from 'smh_zip.txt' and scrape school data for each zip code \n",
    "- In order to run the code, navigate to nycdatascience_capstone/jack/Scrapy/schools/ and run: scrapy crawl school_scraper \n",
    "- In order to save the result, run: scrapy crawl school_scraper -o great_schools.json"
   ]
  },
  {
   "cell_type": "markdown",
   "metadata": {},
   "source": [
    "##### Note:\n",
    "- I added in two lines from the original code in the school_scraper.py (the spider used): \n",
    "    - Line 10 created a new list of two zip codes to use for example purposes. This way if you run it, it will not run for all 7,000 zip codes. If you prefer to run for all 7,000, feel free to delete line 10. \n",
    "    - Line 59 prints the information before it is added to the json file -- this provides transparency for this example to see how it runs \n",
    "    - Feel free to delete both of the lines above to see how the full code will run"
   ]
  }
 ],
 "metadata": {
  "language_info": {
   "name": "python"
  },
  "orig_nbformat": 4
 },
 "nbformat": 4,
 "nbformat_minor": 2
}
