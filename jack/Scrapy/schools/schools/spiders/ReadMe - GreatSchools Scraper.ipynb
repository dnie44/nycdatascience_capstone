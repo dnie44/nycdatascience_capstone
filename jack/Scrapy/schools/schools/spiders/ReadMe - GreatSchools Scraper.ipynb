{
 "cells": [
  {
   "cell_type": "markdown",
   "metadata": {},
   "source": [
    "Great Schools Scraping Info"
   ]
  },
  {
   "cell_type": "markdown",
   "metadata": {},
   "source": [
    "- The school_scraper spider will pull all of the zip codes from 'smh_zip.txt' and scrape school data for each zip code \n",
    "- In order to run the code, navigate to nycdatascience_capstone/jack/Scrapy/schools/ and run scrapy crawl school_scraper (Note that by default, it will scrape 7,000 zip codes and may run for a while)\n",
    "- In order to save the result, run: scrapy crawl school_scraper -o great_schools.json"
   ]
  }
 ],
 "metadata": {
  "language_info": {
   "name": "python"
  },
  "orig_nbformat": 4
 },
 "nbformat": 4,
 "nbformat_minor": 2
}
