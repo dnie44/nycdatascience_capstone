{
 "cells": [
  {
   "cell_type": "code",
   "execution_count": 2,
   "id": "f9515835",
   "metadata": {},
   "outputs": [],
   "source": [
    "import pandas as pd \n",
    "import numpy as np \n",
    "\n",
    "class color:\n",
    "   PURPLE = '\\033[95m'\n",
    "   CYAN = '\\033[96m'\n",
    "   DARKCYAN = '\\033[36m'\n",
    "   BLUE = '\\033[94m'\n",
    "   GREEN = '\\033[92m'\n",
    "   YELLOW = '\\033[93m'\n",
    "   RED = '\\033[91m'\n",
    "   BOLD = '\\033[1m'\n",
    "   UNDERLINE = '\\033[4m'\n",
    "   END = '\\033[0m'"
   ]
  },
  {
   "cell_type": "markdown",
   "id": "c284d7ee",
   "metadata": {},
   "source": [
    "## Pre-processing Data"
   ]
  },
  {
   "cell_type": "code",
   "execution_count": 6,
   "id": "470934aa",
   "metadata": {},
   "outputs": [
    {
     "data": {
      "text/html": [
       "<div>\n",
       "<style scoped>\n",
       "    .dataframe tbody tr th:only-of-type {\n",
       "        vertical-align: middle;\n",
       "    }\n",
       "\n",
       "    .dataframe tbody tr th {\n",
       "        vertical-align: top;\n",
       "    }\n",
       "\n",
       "    .dataframe thead th {\n",
       "        text-align: right;\n",
       "    }\n",
       "</style>\n",
       "<table border=\"1\" class=\"dataframe\">\n",
       "  <thead>\n",
       "    <tr style=\"text-align: right;\">\n",
       "      <th></th>\n",
       "      <th>SALE TYPE</th>\n",
       "      <th>SOLD DATE</th>\n",
       "      <th>PROPERTY TYPE</th>\n",
       "      <th>ADDRESS</th>\n",
       "      <th>CITY</th>\n",
       "      <th>STATE OR PROVINCE</th>\n",
       "      <th>ZipCode</th>\n",
       "      <th>PRICE</th>\n",
       "      <th>BEDS</th>\n",
       "      <th>BATHS</th>\n",
       "      <th>...</th>\n",
       "      <th>STATUS</th>\n",
       "      <th>NEXT OPEN HOUSE START TIME</th>\n",
       "      <th>NEXT OPEN HOUSE END TIME</th>\n",
       "      <th>URL (SEE https://www.redfin.com/buy-a-home/comparative-market-analysis FOR INFO ON PRICING)</th>\n",
       "      <th>SOURCE</th>\n",
       "      <th>MLS#</th>\n",
       "      <th>FAVORITE</th>\n",
       "      <th>INTERESTED</th>\n",
       "      <th>LATITUDE</th>\n",
       "      <th>LONGITUDE</th>\n",
       "    </tr>\n",
       "  </thead>\n",
       "  <tbody>\n",
       "    <tr>\n",
       "      <th>0</th>\n",
       "      <td>MLS Listing</td>\n",
       "      <td>NaN</td>\n",
       "      <td>Single Family Residential</td>\n",
       "      <td>1412 Lee Ln</td>\n",
       "      <td>Hopewell</td>\n",
       "      <td>VA</td>\n",
       "      <td>23860</td>\n",
       "      <td>169900.0</td>\n",
       "      <td>3.0</td>\n",
       "      <td>2.0</td>\n",
       "      <td>...</td>\n",
       "      <td>Active</td>\n",
       "      <td>NaN</td>\n",
       "      <td>NaN</td>\n",
       "      <td>https://www.redfin.com/VA/Hopewell/1412-Lee-Ln...</td>\n",
       "      <td>CVRMLS</td>\n",
       "      <td>2135800.0</td>\n",
       "      <td>N</td>\n",
       "      <td>Y</td>\n",
       "      <td>37.273772</td>\n",
       "      <td>-77.301207</td>\n",
       "    </tr>\n",
       "    <tr>\n",
       "      <th>1</th>\n",
       "      <td>MLS Listing</td>\n",
       "      <td>NaN</td>\n",
       "      <td>Single Family Residential</td>\n",
       "      <td>812 North Ave</td>\n",
       "      <td>Hopewell</td>\n",
       "      <td>VA</td>\n",
       "      <td>23860</td>\n",
       "      <td>275000.0</td>\n",
       "      <td>4.0</td>\n",
       "      <td>3.0</td>\n",
       "      <td>...</td>\n",
       "      <td>Active</td>\n",
       "      <td>NaN</td>\n",
       "      <td>NaN</td>\n",
       "      <td>https://www.redfin.com/VA/Hopewell/812-North-A...</td>\n",
       "      <td>REINMLS</td>\n",
       "      <td>10412819.0</td>\n",
       "      <td>N</td>\n",
       "      <td>Y</td>\n",
       "      <td>37.279344</td>\n",
       "      <td>-77.316350</td>\n",
       "    </tr>\n",
       "    <tr>\n",
       "      <th>2</th>\n",
       "      <td>MLS Listing</td>\n",
       "      <td>NaN</td>\n",
       "      <td>Single Family Residential</td>\n",
       "      <td>102 S Colonial Dr</td>\n",
       "      <td>Hopewell</td>\n",
       "      <td>VA</td>\n",
       "      <td>23860</td>\n",
       "      <td>242950.0</td>\n",
       "      <td>3.0</td>\n",
       "      <td>2.0</td>\n",
       "      <td>...</td>\n",
       "      <td>Active</td>\n",
       "      <td>NaN</td>\n",
       "      <td>NaN</td>\n",
       "      <td>https://www.redfin.com/VA/Hopewell/102-S-Colon...</td>\n",
       "      <td>CVRMLS</td>\n",
       "      <td>2135141.0</td>\n",
       "      <td>N</td>\n",
       "      <td>Y</td>\n",
       "      <td>37.297638</td>\n",
       "      <td>-77.319467</td>\n",
       "    </tr>\n",
       "  </tbody>\n",
       "</table>\n",
       "<p>3 rows × 27 columns</p>\n",
       "</div>"
      ],
      "text/plain": [
       "     SALE TYPE SOLD DATE              PROPERTY TYPE            ADDRESS  \\\n",
       "0  MLS Listing       NaN  Single Family Residential        1412 Lee Ln   \n",
       "1  MLS Listing       NaN  Single Family Residential      812 North Ave   \n",
       "2  MLS Listing       NaN  Single Family Residential  102 S Colonial Dr   \n",
       "\n",
       "       CITY STATE OR PROVINCE ZipCode     PRICE  BEDS  BATHS  ...  STATUS  \\\n",
       "0  Hopewell                VA   23860  169900.0   3.0    2.0  ...  Active   \n",
       "1  Hopewell                VA   23860  275000.0   4.0    3.0  ...  Active   \n",
       "2  Hopewell                VA   23860  242950.0   3.0    2.0  ...  Active   \n",
       "\n",
       "   NEXT OPEN HOUSE START TIME  NEXT OPEN HOUSE END TIME  \\\n",
       "0                         NaN                       NaN   \n",
       "1                         NaN                       NaN   \n",
       "2                         NaN                       NaN   \n",
       "\n",
       "   URL (SEE https://www.redfin.com/buy-a-home/comparative-market-analysis FOR INFO ON PRICING)  \\\n",
       "0  https://www.redfin.com/VA/Hopewell/1412-Lee-Ln...                                             \n",
       "1  https://www.redfin.com/VA/Hopewell/812-North-A...                                             \n",
       "2  https://www.redfin.com/VA/Hopewell/102-S-Colon...                                             \n",
       "\n",
       "    SOURCE        MLS#  FAVORITE INTERESTED   LATITUDE  LONGITUDE  \n",
       "0   CVRMLS   2135800.0         N          Y  37.273772 -77.301207  \n",
       "1  REINMLS  10412819.0         N          Y  37.279344 -77.316350  \n",
       "2   CVRMLS   2135141.0         N          Y  37.297638 -77.319467  \n",
       "\n",
       "[3 rows x 27 columns]"
      ]
     },
     "execution_count": 6,
     "metadata": {},
     "output_type": "execute_result"
    }
   ],
   "source": [
    "df_combined_redfin = pd.read_csv('../nicole/raw_data/combined_data/combined_redfin_12-05-21.csv')\n",
    "\n",
    "# pop ZipCode column\n",
    "popped_column = df_combined_redfin.pop('ZIP OR POSTAL CODE')\n",
    "  \n",
    "# insert column using insert(position, column_name, popped_column) function\n",
    "df_combined_redfin.insert(6, 'ZipCode', popped_column)\n",
    "\n",
    "#check\n",
    "df_combined_redfin.head(3)"
   ]
  },
  {
   "cell_type": "code",
   "execution_count": 11,
   "id": "03fa2cbe",
   "metadata": {},
   "outputs": [
    {
     "data": {
      "text/plain": [
       "70873"
      ]
     },
     "execution_count": 11,
     "metadata": {},
     "output_type": "execute_result"
    }
   ],
   "source": [
    "df_combined_redfin.duplicated().sum()"
   ]
  },
  {
   "cell_type": "code",
   "execution_count": 7,
   "id": "352fa9ba",
   "metadata": {},
   "outputs": [
    {
     "data": {
      "text/plain": [
       "['redfin_2021-12-04-22-06-56.csv',\n",
       " 'redfin_2021-12-04-22-07-16.csv',\n",
       " 'redfin_2021-12-04-22-07-01.csv',\n",
       " 'redfin_2021-12-04-22-07-05.csv',\n",
       " 'redfin_2021-12-04-22-07-11.csv',\n",
       " 'redfin_2021-12-04-22-06-51.csv',\n",
       " 'redfin_2021-12-04-22-06-45.csv',\n",
       " 'redfin_2021-12-04-22-06-39.csv',\n",
       " 'redfin_2021-12-04-22-07-22.csv']"
      ]
     },
     "execution_count": 7,
     "metadata": {},
     "output_type": "execute_result"
    }
   ],
   "source": [
    "#scraped_zipcodes = df_combined_redfin['ZipCode'].str[:5].unique().tolist()\n",
    "\n",
    "\n",
    "#df_combined_redfin[df_combined_redfin['ZipCode'].str[:5].isna()]\n",
    "\n",
    "#df_combined_redfin.sum()\n",
    "\n",
    "#scraped_zipcodes.isnull()\n",
    "#len(scraped_zipcodes)"
   ]
  },
  {
   "cell_type": "code",
   "execution_count": 12,
   "id": "7720846d",
   "metadata": {},
   "outputs": [],
   "source": [
    "print(color.RED + color.BOLD + \"Scanned Summary:\" + color.END) \n",
    "print(f'null zipcodes: {len(null_zipcodes)}') \n",
    "print(f'scraped zipcodes: {len(scraped_zipcodes)}')\n",
    "print(f'total scanned zipcodes: {len(scraped_zipcodes)+len(null_zipcodes)}')\n",
    "print(f'redfin zipcodes: {len(zipcodes)}')"
   ]
  }
 ],
 "metadata": {
  "kernelspec": {
   "display_name": "Python 3 (ipykernel)",
   "language": "python",
   "name": "python3"
  },
  "language_info": {
   "codemirror_mode": {
    "name": "ipython",
    "version": 3
   },
   "file_extension": ".py",
   "mimetype": "text/x-python",
   "name": "python",
   "nbconvert_exporter": "python",
   "pygments_lexer": "ipython3",
   "version": "3.8.12"
  }
 },
 "nbformat": 4,
 "nbformat_minor": 5
}
