{
 "cells": [
  {
   "cell_type": "code",
   "execution_count": 2,
   "id": "f9515835",
   "metadata": {},
   "outputs": [],
   "source": [
    "import pandas as pd \n",
    "import numpy as np \n"
   ]
  },
  {
   "cell_type": "code",
   "execution_count": 5,
   "id": "470934aa",
   "metadata": {},
   "outputs": [],
   "source": []
  },
  {
   "cell_type": "code",
   "execution_count": 7,
   "id": "352fa9ba",
   "metadata": {},
   "outputs": [
    {
     "data": {
      "text/plain": [
       "['redfin_2021-12-04-22-06-56.csv',\n",
       " 'redfin_2021-12-04-22-07-16.csv',\n",
       " 'redfin_2021-12-04-22-07-01.csv',\n",
       " 'redfin_2021-12-04-22-07-05.csv',\n",
       " 'redfin_2021-12-04-22-07-11.csv',\n",
       " 'redfin_2021-12-04-22-06-51.csv',\n",
       " 'redfin_2021-12-04-22-06-45.csv',\n",
       " 'redfin_2021-12-04-22-06-39.csv',\n",
       " 'redfin_2021-12-04-22-07-22.csv']"
      ]
     },
     "execution_count": 7,
     "metadata": {},
     "output_type": "execute_result"
    }
   ],
   "source": []
  },
  {
   "cell_type": "code",
   "execution_count": 12,
   "id": "7720846d",
   "metadata": {},
   "outputs": [],
   "source": []
  }
 ],
 "metadata": {
  "kernelspec": {
   "display_name": "Python 3 (ipykernel)",
   "language": "python",
   "name": "python3"
  },
  "language_info": {
   "codemirror_mode": {
    "name": "ipython",
    "version": 3
   },
   "file_extension": ".py",
   "mimetype": "text/x-python",
   "name": "python",
   "nbconvert_exporter": "python",
   "pygments_lexer": "ipython3",
   "version": "3.8.12"
  }
 },
 "nbformat": 4,
 "nbformat_minor": 5
}
