{
 "cells": [
  {
   "cell_type": "markdown",
   "id": "d978b4c0",
   "metadata": {},
   "source": [
    "### Relative Affordability Calculaton"
   ]
  },
  {
   "cell_type": "code",
   "execution_count": 24,
   "id": "b4e8f386",
   "metadata": {},
   "outputs": [],
   "source": [
    "import pandas as pd\n",
    "import numpy as np \n",
    "import geopy.distance\n",
    "\n",
    "pd.set_option('display.max_columns', None)"
   ]
  },
  {
   "cell_type": "code",
   "execution_count": 3,
   "id": "291c6095",
   "metadata": {},
   "outputs": [],
   "source": [
    "zips_data = pd.read_csv('../nicole/clean_data/final_zip_data.csv')"
   ]
  },
  {
   "cell_type": "code",
   "execution_count": 5,
   "id": "df31e797",
   "metadata": {},
   "outputs": [],
   "source": [
    "listings_data = pd.read_csv('../nicole/clean_data/redfin_cleaned_stage_1.csv')"
   ]
  },
  {
   "cell_type": "code",
   "execution_count": 36,
   "id": "89d0a739",
   "metadata": {},
   "outputs": [],
   "source": [
    "smh_data = pd.read_csv('../nicole/clean_data/SMH_Projects.csv')\n",
    "smh_data['MedianSalesPrice'] = (smh_data['MinBaseSalesPrice'] + smh_data['MaxBaseSalesPrice'])/2"
   ]
  },
  {
   "cell_type": "code",
   "execution_count": 37,
   "id": "684f44e2",
   "metadata": {},
   "outputs": [
    {
     "name": "stderr",
     "output_type": "stream",
     "text": [
      "/var/folders/rq/s81db4sn0tl61l05qmsldf5r0000gn/T/ipykernel_950/2018127091.py:3: UserWarning: DataFrame columns are not unique, some columns will be omitted.\n",
      "  smh_geo_dict = smh_geo.set_index('MetroAreaID').T.to_dict('list')\n"
     ]
    }
   ],
   "source": [
    "#dict of lat/long for each SMH property\n",
    "smh_geo = smh_data[['MetroAreaID', 'Latitude', 'Longitude']]\n",
    "smh_geo_dict = smh_geo.set_index('MetroAreaID').T.to_dict('list')"
   ]
  },
  {
   "cell_type": "code",
   "execution_count": 35,
   "id": "67cdc04f",
   "metadata": {},
   "outputs": [],
   "source": [
    "#dict of centroid lat/long for each SMH community/metro area ID\n",
    "centroids = pd.read_csv('../project/centroid_dummy .csv')\n",
    "centroids_dict = centroids.set_index('MetroAreaID').T.to_dict('list')"
   ]
  },
  {
   "cell_type": "markdown",
   "id": "43fd04f5",
   "metadata": {},
   "source": [
    "## Inputs"
   ]
  },
  {
   "cell_type": "markdown",
   "id": "48b1582f",
   "metadata": {},
   "source": [
    "#### Average Stanley Martin Base Price: \n",
    "- Average base price of all SMH homes in the selected SMH Community. "
   ]
  },
  {
   "cell_type": "code",
   "execution_count": 39,
   "id": "17618ec8",
   "metadata": {},
   "outputs": [
    {
     "data": {
      "text/html": [
       "<div>\n",
       "<style scoped>\n",
       "    .dataframe tbody tr th:only-of-type {\n",
       "        vertical-align: middle;\n",
       "    }\n",
       "\n",
       "    .dataframe tbody tr th {\n",
       "        vertical-align: top;\n",
       "    }\n",
       "\n",
       "    .dataframe thead th {\n",
       "        text-align: right;\n",
       "    }\n",
       "</style>\n",
       "<table border=\"1\" class=\"dataframe\">\n",
       "  <thead>\n",
       "    <tr style=\"text-align: right;\">\n",
       "      <th></th>\n",
       "      <th>MetroAreaID</th>\n",
       "      <th>Average Sale Price</th>\n",
       "    </tr>\n",
       "  </thead>\n",
       "  <tbody>\n",
       "    <tr>\n",
       "      <th>0</th>\n",
       "      <td>1000</td>\n",
       "      <td>700512.282609</td>\n",
       "    </tr>\n",
       "    <tr>\n",
       "      <th>1</th>\n",
       "      <td>1001</td>\n",
       "      <td>541461.428571</td>\n",
       "    </tr>\n",
       "    <tr>\n",
       "      <th>2</th>\n",
       "      <td>1003</td>\n",
       "      <td>492651.590909</td>\n",
       "    </tr>\n",
       "    <tr>\n",
       "      <th>3</th>\n",
       "      <td>1004</td>\n",
       "      <td>507030.000000</td>\n",
       "    </tr>\n",
       "    <tr>\n",
       "      <th>4</th>\n",
       "      <td>1006</td>\n",
       "      <td>342768.846154</td>\n",
       "    </tr>\n",
       "  </tbody>\n",
       "</table>\n",
       "</div>"
      ],
      "text/plain": [
       "   MetroAreaID  Average Sale Price\n",
       "0         1000       700512.282609\n",
       "1         1001       541461.428571\n",
       "2         1003       492651.590909\n",
       "3         1004       507030.000000\n",
       "4         1006       342768.846154"
      ]
     },
     "execution_count": 39,
     "metadata": {},
     "output_type": "execute_result"
    }
   ],
   "source": [
    "#list of average sale price of each SMH Community \n",
    "smh = smh_data.groupby(['MetroAreaID']).agg({'MedianSalesPrice': ['mean']}).reset_index()\n",
    "smh.columns = ['MetroAreaID', 'Average Sale Price']\n",
    "smh.head()"
   ]
  },
  {
   "cell_type": "markdown",
   "id": "05a6e83f",
   "metadata": {},
   "source": [
    "#### Average Resale Price:\n",
    "- Average resale price of the competitor houses within the radius of selected distance  from the SMH community. (Previous Year Closing price) "
   ]
  },
  {
   "cell_type": "code",
   "execution_count": null,
   "id": "05684fc6",
   "metadata": {},
   "outputs": [],
   "source": [
    "in_radius = []\n",
    "\n",
    "for value in smh_geo_dict.values():\n",
    "\n",
    "if geopy.distance.vincenty(value, coords_2).km < "
   ]
  },
  {
   "cell_type": "markdown",
   "id": "803b3421",
   "metadata": {},
   "source": [
    "#### Average Resale Year Built: \n",
    "- Average year when the resale homes were built. (Example 1992) "
   ]
  },
  {
   "cell_type": "code",
   "execution_count": null,
   "id": "6e98df7d",
   "metadata": {},
   "outputs": [],
   "source": []
  },
  {
   "cell_type": "markdown",
   "id": "28c6edeb",
   "metadata": {},
   "source": [
    "## Calculations\n",
    "\n",
    "##### Age of Resales: \n",
    "- Average Resale Year Built — Current Year (e.g., 2021 -1992 = 29) \n",
    "\n",
    "##### Expected Resale Premium: \n",
    "- Based on the age of Resales, this is derived from lookup table #1. Example: For  age band of 21-30, Resale Premium is 40% \n",
    "\n",
    "##### Actual Resale Premium: \n",
    "- (Average Stanley Martin Base Price — Average Resale Price)/ Average Resale Price \n",
    "\n",
    "##### Score: \n",
    "- No score if there is no Actual Resale Premium. \n",
    "- If Actual Resale Premium > Expected Resale  Premium, then 1. \n",
    "- Else, if Actual Resale Premium< Expected Resale Premium then 3, else 2. \n",
    "\n",
    "##### Results: \n",
    "- Is Pricing Above or Below the Expected Premium to Resales? \n",
    "- To get this Premium to Resales value is looked up to Resale Premium Analysis table. (Table 2) Relative Affordability Ranking: \n",
    "- Based on the Score from the Calculations above. Lookup Table #3 and obtain the ranking.\n"
   ]
  },
  {
   "cell_type": "code",
   "execution_count": null,
   "id": "eac0330f",
   "metadata": {},
   "outputs": [],
   "source": [
    "ideas:\n",
    "map, show radius , show score \n",
    "inputs: radius length, input address (come with community), "
   ]
  }
 ],
 "metadata": {
  "kernelspec": {
   "display_name": "Python 3 (ipykernel)",
   "language": "python",
   "name": "python3"
  },
  "language_info": {
   "codemirror_mode": {
    "name": "ipython",
    "version": 3
   },
   "file_extension": ".py",
   "mimetype": "text/x-python",
   "name": "python",
   "nbconvert_exporter": "python",
   "pygments_lexer": "ipython3",
   "version": "3.8.12"
  }
 },
 "nbformat": 4,
 "nbformat_minor": 5
}
